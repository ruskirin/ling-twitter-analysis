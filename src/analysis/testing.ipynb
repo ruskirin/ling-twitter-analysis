{
 "cells": [
  {
   "cell_type": "code",
   "execution_count": 1,
   "id": "c2073d96",
   "metadata": {},
   "outputs": [],
   "source": [
    "from copy import deepcopy\n",
    "import regex as re\n",
    "import numpy as np\n",
    "import pandas as pd\n",
    "import matplotlib.pyplot as plt\n",
    "from datetime import datetime\n",
    "from pathlib import Path\n",
    "from importlib import reload\n",
    "import tweets, users, places, twitter_data\n",
    "import cleaning as c\n",
    "import logs\n",
    "import configs\n",
    "import files"
   ]
  },
  {
   "cell_type": "code",
   "execution_count": 2,
   "id": "6ce2f874",
   "metadata": {},
   "outputs": [],
   "source": [
    "# Configuration files\n",
    "gen_conf = configs.read_conf()\n",
    "conf = configs.read_conf('c')"
   ]
  },
  {
   "cell_type": "code",
   "execution_count": 3,
   "id": "656887ea",
   "metadata": {},
   "outputs": [
    {
     "name": "stdout",
     "output_type": "stream",
     "text": [
      "Choose from the available folders, comma-separated (or \"a\" for all):\n",
      "0. 2021-07-26-at-15:46:00\n",
      "1. 2021-07-26-at-23:45:00\n",
      "2. 2021-11-07-at-22:10:00\n",
      "3. 2023-02-08-at-23:05:39\n",
      "4. 2021-07-26-at-19:05:00\n",
      "5. 2023-02-22-at-18:46:25\n",
      "6. 2021-07-07-at-10:50:00\n",
      "7. 2023-02-22-at-18:13:40\n",
      "Return folder(s): 2\n"
     ]
    }
   ],
   "source": [
    "# Extracted folder to clean\n",
    "e_path = files.choose_save_path('e')\n",
    "t_path = files.get_project_root()/'tests'"
   ]
  },
  {
   "cell_type": "code",
   "execution_count": 4,
   "id": "bfd06b80",
   "metadata": {},
   "outputs": [],
   "source": [
    "# Path to the verb conjugations\n",
    "conjug_es = files.get_verb_conjugations()"
   ]
  },
  {
   "cell_type": "code",
   "execution_count": 51,
   "id": "bd66e739",
   "metadata": {},
   "outputs": [
    {
     "data": {
      "text/plain": [
       "PosixPath('/home/rimov/Documents/Code/NLP/lin-que-dropping/data/extracted/saved/twitter/es/2021-11-07-at-22:10:00/es-parecer-original-tweets-10083-0.csv')"
      ]
     },
     "execution_count": 51,
     "metadata": {},
     "output_type": "execute_result"
    }
   ],
   "source": [
    "sample_path = list(e_path[0].iterdir())[0]\n",
    "sample_path"
   ]
  },
  {
   "cell_type": "code",
   "execution_count": 52,
   "id": "bb9642ac",
   "metadata": {
    "scrolled": true
   },
   "outputs": [
    {
     "data": {
      "text/html": [
       "<div>\n",
       "<style scoped>\n",
       "    .dataframe tbody tr th:only-of-type {\n",
       "        vertical-align: middle;\n",
       "    }\n",
       "\n",
       "    .dataframe tbody tr th {\n",
       "        vertical-align: top;\n",
       "    }\n",
       "\n",
       "    .dataframe thead th {\n",
       "        text-align: right;\n",
       "    }\n",
       "</style>\n",
       "<table border=\"1\" class=\"dataframe\">\n",
       "  <thead>\n",
       "    <tr style=\"text-align: right;\">\n",
       "      <th></th>\n",
       "      <th>tweet_id</th>\n",
       "      <th>text_orig</th>\n",
       "      <th>author_id</th>\n",
       "      <th>referenced_tweets</th>\n",
       "      <th>lang</th>\n",
       "      <th>created_at</th>\n",
       "      <th>mentions</th>\n",
       "      <th>public_metrics.retweet_count</th>\n",
       "      <th>public_metrics.reply_count</th>\n",
       "      <th>public_metrics.like_count</th>\n",
       "      <th>public_metrics.quote_count</th>\n",
       "      <th>tweet_place_id</th>\n",
       "      <th>text_norm</th>\n",
       "      <th>geo.coordinates.type</th>\n",
       "      <th>geo.coordinates.coordinates</th>\n",
       "    </tr>\n",
       "  </thead>\n",
       "  <tbody>\n",
       "    <tr>\n",
       "      <th>0</th>\n",
       "      <td>1457563208949059587</td>\n",
       "      <td>@lpamx El tipo es un ridículo y discute con un...</td>\n",
       "      <td>332090173</td>\n",
       "      <td>[{'type': 'replied_to', 'id': '145755916849218...</td>\n",
       "      <td>es</td>\n",
       "      <td>2021-11-08 04:18:43</td>\n",
       "      <td>[{'start': 0, 'end': 6, 'username': 'lpamx', '...</td>\n",
       "      <td>0</td>\n",
       "      <td>0</td>\n",
       "      <td>1</td>\n",
       "      <td>0</td>\n",
       "      <td>1e6d711c280456ce</td>\n",
       "      <td>El tipo es un ridiculo y discute con un CM.  I...</td>\n",
       "      <td>NaN</td>\n",
       "      <td>NaN</td>\n",
       "    </tr>\n",
       "    <tr>\n",
       "      <th>1</th>\n",
       "      <td>1457563016602558471</td>\n",
       "      <td>Algo extraño está sucediendo en el país y pare...</td>\n",
       "      <td>177217287</td>\n",
       "      <td>&lt;NA&gt;</td>\n",
       "      <td>es</td>\n",
       "      <td>2021-11-08 04:17:58</td>\n",
       "      <td>&lt;NA&gt;</td>\n",
       "      <td>0</td>\n",
       "      <td>0</td>\n",
       "      <td>1</td>\n",
       "      <td>0</td>\n",
       "      <td>009924a469d7ace1</td>\n",
       "      <td>Algo extrano esta sucediendo en el pais y pare...</td>\n",
       "      <td>NaN</td>\n",
       "      <td>NaN</td>\n",
       "    </tr>\n",
       "    <tr>\n",
       "      <th>2</th>\n",
       "      <td>1457562948512194568</td>\n",
       "      <td>@mavillanita 😂😂😂\n",
       "\n",
       "Lo importante es que te haga...</td>\n",
       "      <td>49068316</td>\n",
       "      <td>[{'type': 'replied_to', 'id': '145756257799580...</td>\n",
       "      <td>es</td>\n",
       "      <td>2021-11-08 04:17:41</td>\n",
       "      <td>[{'start': 0, 'end': 12, 'username': 'mavillan...</td>\n",
       "      <td>0</td>\n",
       "      <td>0</td>\n",
       "      <td>0</td>\n",
       "      <td>0</td>\n",
       "      <td>00ec4c32070f5076</td>\n",
       "      <td>Lo importante es que te haga feliz y tal pare...</td>\n",
       "      <td>NaN</td>\n",
       "      <td>NaN</td>\n",
       "    </tr>\n",
       "    <tr>\n",
       "      <th>3</th>\n",
       "      <td>1457561866452942851</td>\n",
       "      <td>@pinabertoglia Hay historias asi en el mundo d...</td>\n",
       "      <td>44260132</td>\n",
       "      <td>[{'type': 'replied_to', 'id': '145747260304866...</td>\n",
       "      <td>es</td>\n",
       "      <td>2021-11-08 04:13:23</td>\n",
       "      <td>[{'start': 0, 'end': 14, 'username': 'pinabert...</td>\n",
       "      <td>0</td>\n",
       "      <td>0</td>\n",
       "      <td>0</td>\n",
       "      <td>0</td>\n",
       "      <td>010a74892213c898</td>\n",
       "      <td>Hay historias asi en el mundo del vino, y mejo...</td>\n",
       "      <td>NaN</td>\n",
       "      <td>NaN</td>\n",
       "    </tr>\n",
       "    <tr>\n",
       "      <th>4</th>\n",
       "      <td>1457561439888105473</td>\n",
       "      <td>Hasta parece q Lennon sigue gobernando. Torpez...</td>\n",
       "      <td>1512320078</td>\n",
       "      <td>&lt;NA&gt;</td>\n",
       "      <td>es</td>\n",
       "      <td>2021-11-08 04:11:42</td>\n",
       "      <td>&lt;NA&gt;</td>\n",
       "      <td>0</td>\n",
       "      <td>0</td>\n",
       "      <td>1</td>\n",
       "      <td>0</td>\n",
       "      <td>0177bc687a9ac697</td>\n",
       "      <td>Hasta parece q Lennon sigue gobernando. Torpez...</td>\n",
       "      <td>NaN</td>\n",
       "      <td>NaN</td>\n",
       "    </tr>\n",
       "  </tbody>\n",
       "</table>\n",
       "</div>"
      ],
      "text/plain": [
       "              tweet_id                                          text_orig  \\\n",
       "0  1457563208949059587  @lpamx El tipo es un ridículo y discute con un...   \n",
       "1  1457563016602558471  Algo extraño está sucediendo en el país y pare...   \n",
       "2  1457562948512194568  @mavillanita 😂😂😂\n",
       "\n",
       "Lo importante es que te haga...   \n",
       "3  1457561866452942851  @pinabertoglia Hay historias asi en el mundo d...   \n",
       "4  1457561439888105473  Hasta parece q Lennon sigue gobernando. Torpez...   \n",
       "\n",
       "    author_id                                  referenced_tweets lang  \\\n",
       "0   332090173  [{'type': 'replied_to', 'id': '145755916849218...   es   \n",
       "1   177217287                                               <NA>   es   \n",
       "2    49068316  [{'type': 'replied_to', 'id': '145756257799580...   es   \n",
       "3    44260132  [{'type': 'replied_to', 'id': '145747260304866...   es   \n",
       "4  1512320078                                               <NA>   es   \n",
       "\n",
       "           created_at                                           mentions  \\\n",
       "0 2021-11-08 04:18:43  [{'start': 0, 'end': 6, 'username': 'lpamx', '...   \n",
       "1 2021-11-08 04:17:58                                               <NA>   \n",
       "2 2021-11-08 04:17:41  [{'start': 0, 'end': 12, 'username': 'mavillan...   \n",
       "3 2021-11-08 04:13:23  [{'start': 0, 'end': 14, 'username': 'pinabert...   \n",
       "4 2021-11-08 04:11:42                                               <NA>   \n",
       "\n",
       "   public_metrics.retweet_count  public_metrics.reply_count  \\\n",
       "0                             0                           0   \n",
       "1                             0                           0   \n",
       "2                             0                           0   \n",
       "3                             0                           0   \n",
       "4                             0                           0   \n",
       "\n",
       "   public_metrics.like_count  public_metrics.quote_count    tweet_place_id  \\\n",
       "0                          1                           0  1e6d711c280456ce   \n",
       "1                          1                           0  009924a469d7ace1   \n",
       "2                          0                           0  00ec4c32070f5076   \n",
       "3                          0                           0  010a74892213c898   \n",
       "4                          1                           0  0177bc687a9ac697   \n",
       "\n",
       "                                           text_norm geo.coordinates.type  \\\n",
       "0  El tipo es un ridiculo y discute con un CM.  I...                  NaN   \n",
       "1  Algo extrano esta sucediendo en el pais y pare...                  NaN   \n",
       "2   Lo importante es que te haga feliz y tal pare...                  NaN   \n",
       "3  Hay historias asi en el mundo del vino, y mejo...                  NaN   \n",
       "4  Hasta parece q Lennon sigue gobernando. Torpez...                  NaN   \n",
       "\n",
       "  geo.coordinates.coordinates  \n",
       "0                         NaN  \n",
       "1                         NaN  \n",
       "2                         NaN  \n",
       "3                         NaN  \n",
       "4                         NaN  "
      ]
     },
     "metadata": {},
     "output_type": "display_data"
    },
    {
     "name": "stdout",
     "output_type": "stream",
     "text": [
      "<class 'pandas.core.frame.DataFrame'>\n",
      "RangeIndex: 10083 entries, 0 to 10082\n",
      "Data columns (total 15 columns):\n",
      " #   Column                        Non-Null Count  Dtype         \n",
      "---  ------                        --------------  -----         \n",
      " 0   tweet_id                      10083 non-null  UInt64        \n",
      " 1   text_orig                     10083 non-null  string        \n",
      " 2   author_id                     10083 non-null  UInt64        \n",
      " 3   referenced_tweets             6856 non-null   string        \n",
      " 4   lang                          10083 non-null  category      \n",
      " 5   created_at                    10083 non-null  datetime64[ns]\n",
      " 6   mentions                      6964 non-null   string        \n",
      " 7   public_metrics.retweet_count  10083 non-null  UInt32        \n",
      " 8   public_metrics.reply_count    10083 non-null  UInt32        \n",
      " 9   public_metrics.like_count     10083 non-null  UInt32        \n",
      " 10  public_metrics.quote_count    10083 non-null  UInt32        \n",
      " 11  tweet_place_id                10083 non-null  string        \n",
      " 12  text_norm                     10083 non-null  string        \n",
      " 13  geo.coordinates.type          4 non-null      object        \n",
      " 14  geo.coordinates.coordinates   4 non-null      object        \n",
      "dtypes: UInt32(4), UInt64(2), category(1), datetime64[ns](1), object(2), string(5)\n",
      "memory usage: 1014.3+ KB\n"
     ]
    },
    {
     "data": {
      "text/plain": [
       "None"
      ]
     },
     "metadata": {},
     "output_type": "display_data"
    }
   ],
   "source": [
    "sample = tweets.Tweets.from_csv(sample_path, 'es', 'df-sample')\n",
    "display(sample.d.head())\n",
    "display(sample.d.info())"
   ]
  },
  {
   "cell_type": "code",
   "execution_count": 53,
   "id": "538bb616",
   "metadata": {
    "scrolled": true
   },
   "outputs": [
    {
     "data": {
      "text/html": [
       "<div>\n",
       "<style scoped>\n",
       "    .dataframe tbody tr th:only-of-type {\n",
       "        vertical-align: middle;\n",
       "    }\n",
       "\n",
       "    .dataframe tbody tr th {\n",
       "        vertical-align: top;\n",
       "    }\n",
       "\n",
       "    .dataframe thead th {\n",
       "        text-align: right;\n",
       "    }\n",
       "</style>\n",
       "<table border=\"1\" class=\"dataframe\">\n",
       "  <thead>\n",
       "    <tr style=\"text-align: right;\">\n",
       "      <th></th>\n",
       "      <th>tweet_id</th>\n",
       "      <th>text_orig</th>\n",
       "      <th>author_id</th>\n",
       "      <th>referenced_tweets</th>\n",
       "      <th>lang</th>\n",
       "      <th>created_at</th>\n",
       "      <th>mentions</th>\n",
       "      <th>public_metrics.retweet_count</th>\n",
       "      <th>public_metrics.reply_count</th>\n",
       "      <th>public_metrics.like_count</th>\n",
       "      <th>public_metrics.quote_count</th>\n",
       "      <th>tweet_place_id</th>\n",
       "      <th>text_norm</th>\n",
       "      <th>geo.coordinates.type</th>\n",
       "      <th>geo.coordinates.coordinates</th>\n",
       "    </tr>\n",
       "  </thead>\n",
       "  <tbody>\n",
       "    <tr>\n",
       "      <th>0</th>\n",
       "      <td>1456442983461519360</td>\n",
       "      <td>@jesusibarra0 @CiudadanoAntic1 @cpsseajal @Zap...</td>\n",
       "      <td>790388021233225728</td>\n",
       "      <td>[{'type': 'replied_to', 'id': '145604905055024...</td>\n",
       "      <td>es</td>\n",
       "      <td>2021-11-05 02:07:21</td>\n",
       "      <td>[{'start': 0, 'end': 13, 'username': 'jesusiba...</td>\n",
       "      <td>0</td>\n",
       "      <td>0</td>\n",
       "      <td>0</td>\n",
       "      <td>0</td>\n",
       "      <td>8e098f6d686001a9</td>\n",
       "      <td>Parece otro ejercicio para que el perfiles a s...</td>\n",
       "      <td>NaN</td>\n",
       "      <td>NaN</td>\n",
       "    </tr>\n",
       "    <tr>\n",
       "      <th>1</th>\n",
       "      <td>1455392705488596994</td>\n",
       "      <td>@paolits_c Parece que quiere voltear la novela...</td>\n",
       "      <td>3025719424</td>\n",
       "      <td>[{'type': 'replied_to', 'id': '145537692962073...</td>\n",
       "      <td>es</td>\n",
       "      <td>2021-11-02 04:33:55</td>\n",
       "      <td>[{'start': 0, 'end': 10, 'username': 'paolits_...</td>\n",
       "      <td>0</td>\n",
       "      <td>0</td>\n",
       "      <td>2</td>\n",
       "      <td>0</td>\n",
       "      <td>003aa1d3152e364a</td>\n",
       "      <td>Parece que quiere voltear la novela, cosa de l...</td>\n",
       "      <td>NaN</td>\n",
       "      <td>NaN</td>\n",
       "    </tr>\n",
       "    <tr>\n",
       "      <th>2</th>\n",
       "      <td>1456141150197272580</td>\n",
       "      <td>hasta que le he dejado en evidencia delante de...</td>\n",
       "      <td>721102522090393600</td>\n",
       "      <td>[{'type': 'replied_to', 'id': '145614114765132...</td>\n",
       "      <td>es</td>\n",
       "      <td>2021-11-04 06:07:58</td>\n",
       "      <td>&lt;NA&gt;</td>\n",
       "      <td>0</td>\n",
       "      <td>0</td>\n",
       "      <td>1</td>\n",
       "      <td>0</td>\n",
       "      <td>d95b50d40bcc459b</td>\n",
       "      <td>hasta que le he dejado en evidencia delante de...</td>\n",
       "      <td>NaN</td>\n",
       "      <td>NaN</td>\n",
       "    </tr>\n",
       "  </tbody>\n",
       "</table>\n",
       "</div>"
      ],
      "text/plain": [
       "              tweet_id                                          text_orig  \\\n",
       "0  1456442983461519360  @jesusibarra0 @CiudadanoAntic1 @cpsseajal @Zap...   \n",
       "1  1455392705488596994  @paolits_c Parece que quiere voltear la novela...   \n",
       "2  1456141150197272580  hasta que le he dejado en evidencia delante de...   \n",
       "\n",
       "            author_id                                  referenced_tweets lang  \\\n",
       "0  790388021233225728  [{'type': 'replied_to', 'id': '145604905055024...   es   \n",
       "1          3025719424  [{'type': 'replied_to', 'id': '145537692962073...   es   \n",
       "2  721102522090393600  [{'type': 'replied_to', 'id': '145614114765132...   es   \n",
       "\n",
       "           created_at                                           mentions  \\\n",
       "0 2021-11-05 02:07:21  [{'start': 0, 'end': 13, 'username': 'jesusiba...   \n",
       "1 2021-11-02 04:33:55  [{'start': 0, 'end': 10, 'username': 'paolits_...   \n",
       "2 2021-11-04 06:07:58                                               <NA>   \n",
       "\n",
       "   public_metrics.retweet_count  public_metrics.reply_count  \\\n",
       "0                             0                           0   \n",
       "1                             0                           0   \n",
       "2                             0                           0   \n",
       "\n",
       "   public_metrics.like_count  public_metrics.quote_count    tweet_place_id  \\\n",
       "0                          0                           0  8e098f6d686001a9   \n",
       "1                          2                           0  003aa1d3152e364a   \n",
       "2                          1                           0  d95b50d40bcc459b   \n",
       "\n",
       "                                           text_norm geo.coordinates.type  \\\n",
       "0  Parece otro ejercicio para que el perfiles a s...                  NaN   \n",
       "1  Parece que quiere voltear la novela, cosa de l...                  NaN   \n",
       "2  hasta que le he dejado en evidencia delante de...                  NaN   \n",
       "\n",
       "  geo.coordinates.coordinates  \n",
       "0                         NaN  \n",
       "1                         NaN  \n",
       "2                         NaN  "
      ]
     },
     "metadata": {},
     "output_type": "display_data"
    },
    {
     "name": "stdout",
     "output_type": "stream",
     "text": [
      "<class 'pandas.core.frame.DataFrame'>\n",
      "RangeIndex: 10 entries, 0 to 9\n",
      "Data columns (total 15 columns):\n",
      " #   Column                        Non-Null Count  Dtype         \n",
      "---  ------                        --------------  -----         \n",
      " 0   tweet_id                      10 non-null     UInt64        \n",
      " 1   text_orig                     10 non-null     string        \n",
      " 2   author_id                     10 non-null     UInt64        \n",
      " 3   referenced_tweets             6 non-null      string        \n",
      " 4   lang                          10 non-null     category      \n",
      " 5   created_at                    10 non-null     datetime64[ns]\n",
      " 6   mentions                      5 non-null      string        \n",
      " 7   public_metrics.retweet_count  10 non-null     UInt32        \n",
      " 8   public_metrics.reply_count    10 non-null     UInt32        \n",
      " 9   public_metrics.like_count     10 non-null     UInt32        \n",
      " 10  public_metrics.quote_count    10 non-null     UInt32        \n",
      " 11  tweet_place_id                10 non-null     string        \n",
      " 12  text_norm                     10 non-null     string        \n",
      " 13  geo.coordinates.type          0 non-null      object        \n",
      " 14  geo.coordinates.coordinates   0 non-null      object        \n",
      "dtypes: UInt32(4), UInt64(2), category(1), datetime64[ns](1), object(2), string(5)\n",
      "memory usage: 1.1+ KB\n"
     ]
    },
    {
     "data": {
      "text/plain": [
       "None"
      ]
     },
     "metadata": {},
     "output_type": "display_data"
    }
   ],
   "source": [
    "sample.d = sample.d.sample(10, random_state=1000, ignore_index=True)\n",
    "display(sample.d.head(3))\n",
    "display(sample.d.info())"
   ]
  },
  {
   "cell_type": "code",
   "execution_count": 54,
   "id": "1fcaf928",
   "metadata": {},
   "outputs": [],
   "source": [
    "keep_cols = ['tweet_id', 'text_orig']"
   ]
  },
  {
   "cell_type": "code",
   "execution_count": 55,
   "id": "c7f7456d",
   "metadata": {},
   "outputs": [
    {
     "data": {
      "text/html": [
       "<div>\n",
       "<style scoped>\n",
       "    .dataframe tbody tr th:only-of-type {\n",
       "        vertical-align: middle;\n",
       "    }\n",
       "\n",
       "    .dataframe tbody tr th {\n",
       "        vertical-align: top;\n",
       "    }\n",
       "\n",
       "    .dataframe thead th {\n",
       "        text-align: right;\n",
       "    }\n",
       "</style>\n",
       "<table border=\"1\" class=\"dataframe\">\n",
       "  <thead>\n",
       "    <tr style=\"text-align: right;\">\n",
       "      <th></th>\n",
       "      <th>tweet_id</th>\n",
       "      <th>text_orig</th>\n",
       "    </tr>\n",
       "  </thead>\n",
       "  <tbody>\n",
       "    <tr>\n",
       "      <th>0</th>\n",
       "      <td>1456442983461519360</td>\n",
       "      <td>@jesusibarra0 @CiudadanoAntic1 @cpsseajal @Zap...</td>\n",
       "    </tr>\n",
       "    <tr>\n",
       "      <th>1</th>\n",
       "      <td>1455392705488596994</td>\n",
       "      <td>@paolits_c Parece que quiere voltear la novela...</td>\n",
       "    </tr>\n",
       "    <tr>\n",
       "      <th>2</th>\n",
       "      <td>1456141150197272580</td>\n",
       "      <td>hasta que le he dejado en evidencia delante de...</td>\n",
       "    </tr>\n",
       "    <tr>\n",
       "      <th>3</th>\n",
       "      <td>1456272375859740673</td>\n",
       "      <td>@diariodeavisos Qué será  lo que está fallando...</td>\n",
       "    </tr>\n",
       "    <tr>\n",
       "      <th>4</th>\n",
       "      <td>1457205580544815105</td>\n",
       "      <td>@CalixxxtoMM @AngelMemer0 @JakeMemero07 @capis...</td>\n",
       "    </tr>\n",
       "  </tbody>\n",
       "</table>\n",
       "</div>"
      ],
      "text/plain": [
       "              tweet_id                                          text_orig\n",
       "0  1456442983461519360  @jesusibarra0 @CiudadanoAntic1 @cpsseajal @Zap...\n",
       "1  1455392705488596994  @paolits_c Parece que quiere voltear la novela...\n",
       "2  1456141150197272580  hasta que le he dejado en evidencia delante de...\n",
       "3  1456272375859740673  @diariodeavisos Qué será  lo que está fallando...\n",
       "4  1457205580544815105  @CalixxxtoMM @AngelMemer0 @JakeMemero07 @capis..."
      ]
     },
     "execution_count": 55,
     "metadata": {},
     "output_type": "execute_result"
    }
   ],
   "source": [
    "sample.d = sample.d.loc[:, keep_cols]\n",
    "sample.d.head()"
   ]
  },
  {
   "cell_type": "code",
   "execution_count": 56,
   "id": "3aba6ecb",
   "metadata": {},
   "outputs": [
    {
     "data": {
      "text/html": [
       "<div>\n",
       "<style scoped>\n",
       "    .dataframe tbody tr th:only-of-type {\n",
       "        vertical-align: middle;\n",
       "    }\n",
       "\n",
       "    .dataframe tbody tr th {\n",
       "        vertical-align: top;\n",
       "    }\n",
       "\n",
       "    .dataframe thead th {\n",
       "        text-align: right;\n",
       "    }\n",
       "</style>\n",
       "<table border=\"1\" class=\"dataframe\">\n",
       "  <thead>\n",
       "    <tr style=\"text-align: right;\">\n",
       "      <th></th>\n",
       "      <th>tweet_id</th>\n",
       "      <th>text_orig</th>\n",
       "    </tr>\n",
       "  </thead>\n",
       "  <tbody>\n",
       "    <tr>\n",
       "      <th>2</th>\n",
       "      <td>1456141150197272580</td>\n",
       "      <td>hasta que le he dejado en evidencia delante de...</td>\n",
       "    </tr>\n",
       "    <tr>\n",
       "      <th>6</th>\n",
       "      <td>1455332378780504069</td>\n",
       "      <td>@Nereida54 Estamos en un punto importante de C...</td>\n",
       "    </tr>\n",
       "    <tr>\n",
       "      <th>5</th>\n",
       "      <td>1455304983897788417</td>\n",
       "      <td>A mi siempre me parecerá muy loco que en lo qu...</td>\n",
       "    </tr>\n",
       "  </tbody>\n",
       "</table>\n",
       "</div>"
      ],
      "text/plain": [
       "              tweet_id                                          text_orig\n",
       "2  1456141150197272580  hasta que le he dejado en evidencia delante de...\n",
       "6  1455332378780504069  @Nereida54 Estamos en un punto importante de C...\n",
       "5  1455304983897788417  A mi siempre me parecerá muy loco que en lo qu..."
      ]
     },
     "metadata": {},
     "output_type": "display_data"
    },
    {
     "data": {
      "text/plain": [
       "{'1455304983897788417',\n",
       " '1455332378780504069',\n",
       " '1455366114343624716',\n",
       " '1455392705488596994',\n",
       " '1456114160312389645',\n",
       " '1456141150197272580',\n",
       " '1456272375859740673',\n",
       " '1456442983461519360',\n",
       " '1457205580544815105',\n",
       " '1457482258714136576'}"
      ]
     },
     "metadata": {},
     "output_type": "display_data"
    }
   ],
   "source": [
    "dup_data = sample.d.sample(3, random_state=1000)\n",
    "tweet_ids = set(str(i) for i in sample.d['tweet_id'].unique())\n",
    "display(dup_data)\n",
    "display(tweet_ids)"
   ]
  },
  {
   "cell_type": "code",
   "execution_count": 57,
   "id": "6e3e5091",
   "metadata": {},
   "outputs": [
    {
     "name": "stdout",
     "output_type": "stream",
     "text": [
      "<class 'pandas.core.frame.DataFrame'>\n",
      "RangeIndex: 13 entries, 0 to 12\n",
      "Data columns (total 2 columns):\n",
      " #   Column     Non-Null Count  Dtype \n",
      "---  ------     --------------  ----- \n",
      " 0   tweet_id   13 non-null     UInt64\n",
      " 1   text_orig  13 non-null     string\n",
      "dtypes: UInt64(1), string(1)\n",
      "memory usage: 349.0 bytes\n"
     ]
    }
   ],
   "source": [
    "sample.d = pd.concat([sample.d, dup_data], axis=0, ignore_index=True)\n",
    "sample.d.info()"
   ]
  },
  {
   "cell_type": "code",
   "execution_count": 58,
   "id": "8e66cc9c",
   "metadata": {},
   "outputs": [],
   "source": [
    "sample.d = sample.d.rename(columns={'tweet_id': 'id'})"
   ]
  },
  {
   "cell_type": "code",
   "execution_count": 59,
   "id": "d305b0e7",
   "metadata": {},
   "outputs": [
    {
     "data": {
      "text/plain": [
       "[PosixPath('/home/rimov/Documents/Code/NLP/lin-que-dropping/tests/samples/id-keeping/es-twitter-df-sample-tweets-13.csv')]"
      ]
     },
     "execution_count": 59,
     "metadata": {},
     "output_type": "execute_result"
    }
   ],
   "source": [
    "sample.save(t_path/'samples'/'id-keeping', 'csv')"
   ]
  },
  {
   "cell_type": "markdown",
   "id": "9ded1136",
   "metadata": {},
   "source": [
    "## <code>TwitterData.update_ids()</code> samples"
   ]
  },
  {
   "cell_type": "code",
   "execution_count": 62,
   "id": "a9ea847f",
   "metadata": {},
   "outputs": [],
   "source": [
    "p_id_keeping = files.get_project_root()/'tests'/'samples'/'id-keeping'\n",
    "p_exist_ids = p_id_keeping/'ids-existing.txt'\n",
    "p_actual_ids = p_id_keeping/'ids-actual.txt'"
   ]
  },
  {
   "cell_type": "code",
   "execution_count": 63,
   "id": "eaa2ca61",
   "metadata": {},
   "outputs": [
    {
     "name": "stdout",
     "output_type": "stream",
     "text": [
      "{'1', '4', '3', '10', '5', '1455392705488596994', '15', '2', '25', '1456272375859740673', '20'}\n"
     ]
    }
   ],
   "source": [
    "existing_ids = set(p_exist_ids.read_text().split())\n",
    "print(existing_ids)"
   ]
  },
  {
   "cell_type": "code",
   "execution_count": 64,
   "id": "a05fae28",
   "metadata": {},
   "outputs": [
    {
     "data": {
      "text/plain": [
       "{'1',\n",
       " '10',\n",
       " '1455304983897788417',\n",
       " '1455332378780504069',\n",
       " '1455366114343624716',\n",
       " '1455392705488596994',\n",
       " '1456114160312389645',\n",
       " '1456141150197272580',\n",
       " '1456272375859740673',\n",
       " '1456442983461519360',\n",
       " '1457205580544815105',\n",
       " '1457482258714136576',\n",
       " '15',\n",
       " '2',\n",
       " '20',\n",
       " '25',\n",
       " '3',\n",
       " '4',\n",
       " '5'}"
      ]
     },
     "execution_count": 64,
     "metadata": {},
     "output_type": "execute_result"
    }
   ],
   "source": [
    "actual_ids = tweet_ids.union(existing_ids)\n",
    "actual_ids"
   ]
  },
  {
   "cell_type": "code",
   "execution_count": 65,
   "id": "556ff399",
   "metadata": {},
   "outputs": [
    {
     "data": {
      "text/plain": [
       "221"
      ]
     },
     "execution_count": 65,
     "metadata": {},
     "output_type": "execute_result"
    }
   ],
   "source": [
    "p_actual_ids.write_text(' '.join([i for i in actual_ids]))"
   ]
  },
  {
   "cell_type": "code",
   "execution_count": null,
   "id": "8d91faeb",
   "metadata": {},
   "outputs": [],
   "source": []
  },
  {
   "cell_type": "markdown",
   "id": "ec805dd4",
   "metadata": {},
   "source": [
    "## Getting Column Names Across All Extracted Data"
   ]
  },
  {
   "cell_type": "code",
   "execution_count": 25,
   "id": "fa5688d9",
   "metadata": {},
   "outputs": [
    {
     "name": "stdout",
     "output_type": "stream",
     "text": [
      "Choose from the available folders, comma-separated (or \"a\" for all):\n",
      "0. 2021-07-26-at-15:46:00\n",
      "1. 2021-07-26-at-23:45:00\n",
      "2. 2021-11-07-at-22:10:00\n",
      "3. 2023-02-08-at-23:05:39\n",
      "4. 2021-07-26-at-19:05:00\n",
      "5. 2023-02-22-at-18:46:25\n",
      "6. 2021-07-07-at-10:50:00\n",
      "7. 2023-02-22-at-18:13:40\n",
      "Return folder(s): 5\n"
     ]
    }
   ],
   "source": [
    "e_path = files.choose_save_path('e')"
   ]
  },
  {
   "cell_type": "code",
   "execution_count": 38,
   "id": "fd7a32c7",
   "metadata": {},
   "outputs": [],
   "source": [
    "ptweets = e_path[0]/'tweets'\n",
    "pusers = e_path[0]/'users'\n",
    "pplaces = e_path[0]/'places'\n",
    "pmeta = e_path[0]/'twitterdata'"
   ]
  },
  {
   "cell_type": "code",
   "execution_count": null,
   "id": "af08a21a",
   "metadata": {},
   "outputs": [],
   "source": [
    "psample = places.Places.from_csv(pplaces/'es-twitter-decir-places-1-470.csv')"
   ]
  },
  {
   "cell_type": "code",
   "execution_count": 42,
   "id": "97beb5b3",
   "metadata": {},
   "outputs": [
    {
     "ename": "ValueError",
     "evalue": "Unable to parse string \"bc1dbfe09834a716\" at position 0",
     "output_type": "error",
     "traceback": [
      "\u001b[0;31m---------------------------------------------------------------------------\u001b[0m",
      "\u001b[0;31mValueError\u001b[0m                                Traceback (most recent call last)",
      "File \u001b[0;32m~/anaconda3/envs/que_drop/lib/python3.10/site-packages/pandas/_libs/lib.pyx:2369\u001b[0m, in \u001b[0;36mpandas._libs.lib.maybe_convert_numeric\u001b[0;34m()\u001b[0m\n",
      "\u001b[0;31mValueError\u001b[0m: Unable to parse string \"bc1dbfe09834a716\"",
      "\nDuring handling of the above exception, another exception occurred:\n",
      "\u001b[0;31mValueError\u001b[0m                                Traceback (most recent call last)",
      "Cell \u001b[0;32mIn[42], line 9\u001b[0m\n\u001b[1;32m      1\u001b[0m tweets_sample \u001b[38;5;241m=\u001b[39m tweets\u001b[38;5;241m.\u001b[39mTweets\u001b[38;5;241m.\u001b[39mfrom_csv(\n\u001b[1;32m      2\u001b[0m     [p \u001b[38;5;28;01mfor\u001b[39;00m p \u001b[38;5;129;01min\u001b[39;00m ptweets\u001b[38;5;241m.\u001b[39miterdir()][\u001b[38;5;241m0\u001b[39m],\n\u001b[1;32m      3\u001b[0m     \u001b[38;5;124m'\u001b[39m\u001b[38;5;124mes\u001b[39m\u001b[38;5;124m'\u001b[39m\n\u001b[1;32m      4\u001b[0m )\n\u001b[1;32m      5\u001b[0m users_sample \u001b[38;5;241m=\u001b[39m users\u001b[38;5;241m.\u001b[39mUsers\u001b[38;5;241m.\u001b[39mfrom_csv(\n\u001b[1;32m      6\u001b[0m     [p \u001b[38;5;28;01mfor\u001b[39;00m p \u001b[38;5;129;01min\u001b[39;00m pusers\u001b[38;5;241m.\u001b[39miterdir()][\u001b[38;5;241m0\u001b[39m],\n\u001b[1;32m      7\u001b[0m     \u001b[38;5;124m'\u001b[39m\u001b[38;5;124mes\u001b[39m\u001b[38;5;124m'\u001b[39m\n\u001b[1;32m      8\u001b[0m )\n\u001b[0;32m----> 9\u001b[0m places_sample \u001b[38;5;241m=\u001b[39m \u001b[43mplaces\u001b[49m\u001b[38;5;241;43m.\u001b[39;49m\u001b[43mPlaces\u001b[49m\u001b[38;5;241;43m.\u001b[39;49m\u001b[43mfrom_csv\u001b[49m\u001b[43m(\u001b[49m\n\u001b[1;32m     10\u001b[0m \u001b[43m    \u001b[49m\u001b[43m[\u001b[49m\u001b[43mp\u001b[49m\u001b[43m \u001b[49m\u001b[38;5;28;43;01mfor\u001b[39;49;00m\u001b[43m \u001b[49m\u001b[43mp\u001b[49m\u001b[43m \u001b[49m\u001b[38;5;129;43;01min\u001b[39;49;00m\u001b[43m \u001b[49m\u001b[43mpplaces\u001b[49m\u001b[38;5;241;43m.\u001b[39;49m\u001b[43miterdir\u001b[49m\u001b[43m(\u001b[49m\u001b[43m)\u001b[49m\u001b[43m]\u001b[49m\u001b[43m[\u001b[49m\u001b[38;5;241;43m0\u001b[39;49m\u001b[43m]\u001b[49m\u001b[43m,\u001b[49m\n\u001b[1;32m     11\u001b[0m \u001b[43m    \u001b[49m\u001b[38;5;124;43m'\u001b[39;49m\u001b[38;5;124;43mes\u001b[39;49m\u001b[38;5;124;43m'\u001b[39;49m\n\u001b[1;32m     12\u001b[0m \u001b[43m)\u001b[49m\n\u001b[1;32m     13\u001b[0m meta_sample \u001b[38;5;241m=\u001b[39m twitter_data\u001b[38;5;241m.\u001b[39mTwitterData\u001b[38;5;241m.\u001b[39mfrom_csv(\n\u001b[1;32m     14\u001b[0m     [p \u001b[38;5;28;01mfor\u001b[39;00m p \u001b[38;5;129;01min\u001b[39;00m pmeta\u001b[38;5;241m.\u001b[39miterdir()][\u001b[38;5;241m0\u001b[39m],\n\u001b[1;32m     15\u001b[0m     \u001b[38;5;124m'\u001b[39m\u001b[38;5;124mes\u001b[39m\u001b[38;5;124m'\u001b[39m\n\u001b[1;32m     16\u001b[0m )\n",
      "File \u001b[0;32m~/Documents/Code/NLP/lin-que-dropping/src/twitter_data/twitter_data.py:285\u001b[0m, in \u001b[0;36mfrom_csv\u001b[0;34m(cls, path, lang, topic, subset, dtypes, dates, lineterminator)\u001b[0m\n\u001b[1;32m    282\u001b[0m \u001b[38;5;28;01mdef\u001b[39;00m \u001b[38;5;21m_remove_ids\u001b[39m(\u001b[38;5;28mself\u001b[39m, ids: \u001b[38;5;28mset\u001b[39m):\n\u001b[1;32m    283\u001b[0m \u001b[38;5;250m    \u001b[39m\u001b[38;5;124;03m\"\"\"\u001b[39;00m\n\u001b[1;32m    284\u001b[0m \u001b[38;5;124;03m    Remove entries from @self.data where 'id' is in @ids\u001b[39;00m\n\u001b[0;32m--> 285\u001b[0m \u001b[38;5;124;03m    \"\"\"\u001b[39;00m\n\u001b[1;32m    286\u001b[0m     d_ids \u001b[38;5;241m=\u001b[39m \u001b[38;5;28mset\u001b[39m(\u001b[38;5;28mself\u001b[39m\u001b[38;5;241m.\u001b[39md[\u001b[38;5;124m'\u001b[39m\u001b[38;5;124mid\u001b[39m\u001b[38;5;124m'\u001b[39m]\u001b[38;5;241m.\u001b[39munique()\u001b[38;5;241m.\u001b[39mastype(\u001b[38;5;28mstr\u001b[39m))\n\u001b[1;32m    288\u001b[0m     dup_ids \u001b[38;5;241m=\u001b[39m ids\u001b[38;5;241m.\u001b[39mintersection(d_ids)\n",
      "File \u001b[0;32m~/anaconda3/envs/que_drop/lib/python3.10/site-packages/pandas/util/_decorators.py:211\u001b[0m, in \u001b[0;36mdeprecate_kwarg.<locals>._deprecate_kwarg.<locals>.wrapper\u001b[0;34m(*args, **kwargs)\u001b[0m\n\u001b[1;32m    209\u001b[0m     \u001b[38;5;28;01melse\u001b[39;00m:\n\u001b[1;32m    210\u001b[0m         kwargs[new_arg_name] \u001b[38;5;241m=\u001b[39m new_arg_value\n\u001b[0;32m--> 211\u001b[0m \u001b[38;5;28;01mreturn\u001b[39;00m \u001b[43mfunc\u001b[49m\u001b[43m(\u001b[49m\u001b[38;5;241;43m*\u001b[39;49m\u001b[43margs\u001b[49m\u001b[43m,\u001b[49m\u001b[43m \u001b[49m\u001b[38;5;241;43m*\u001b[39;49m\u001b[38;5;241;43m*\u001b[39;49m\u001b[43mkwargs\u001b[49m\u001b[43m)\u001b[49m\n",
      "File \u001b[0;32m~/anaconda3/envs/que_drop/lib/python3.10/site-packages/pandas/util/_decorators.py:331\u001b[0m, in \u001b[0;36mdeprecate_nonkeyword_arguments.<locals>.decorate.<locals>.wrapper\u001b[0;34m(*args, **kwargs)\u001b[0m\n\u001b[1;32m    325\u001b[0m \u001b[38;5;28;01mif\u001b[39;00m \u001b[38;5;28mlen\u001b[39m(args) \u001b[38;5;241m>\u001b[39m num_allow_args:\n\u001b[1;32m    326\u001b[0m     warnings\u001b[38;5;241m.\u001b[39mwarn(\n\u001b[1;32m    327\u001b[0m         msg\u001b[38;5;241m.\u001b[39mformat(arguments\u001b[38;5;241m=\u001b[39m_format_argument_list(allow_args)),\n\u001b[1;32m    328\u001b[0m         \u001b[38;5;167;01mFutureWarning\u001b[39;00m,\n\u001b[1;32m    329\u001b[0m         stacklevel\u001b[38;5;241m=\u001b[39mfind_stack_level(),\n\u001b[1;32m    330\u001b[0m     )\n\u001b[0;32m--> 331\u001b[0m \u001b[38;5;28;01mreturn\u001b[39;00m \u001b[43mfunc\u001b[49m\u001b[43m(\u001b[49m\u001b[38;5;241;43m*\u001b[39;49m\u001b[43margs\u001b[49m\u001b[43m,\u001b[49m\u001b[43m \u001b[49m\u001b[38;5;241;43m*\u001b[39;49m\u001b[38;5;241;43m*\u001b[39;49m\u001b[43mkwargs\u001b[49m\u001b[43m)\u001b[49m\n",
      "File \u001b[0;32m~/anaconda3/envs/que_drop/lib/python3.10/site-packages/pandas/io/parsers/readers.py:950\u001b[0m, in \u001b[0;36mread_csv\u001b[0;34m(filepath_or_buffer, sep, delimiter, header, names, index_col, usecols, squeeze, prefix, mangle_dupe_cols, dtype, engine, converters, true_values, false_values, skipinitialspace, skiprows, skipfooter, nrows, na_values, keep_default_na, na_filter, verbose, skip_blank_lines, parse_dates, infer_datetime_format, keep_date_col, date_parser, dayfirst, cache_dates, iterator, chunksize, compression, thousands, decimal, lineterminator, quotechar, quoting, doublequote, escapechar, comment, encoding, encoding_errors, dialect, error_bad_lines, warn_bad_lines, on_bad_lines, delim_whitespace, low_memory, memory_map, float_precision, storage_options)\u001b[0m\n\u001b[1;32m    935\u001b[0m kwds_defaults \u001b[38;5;241m=\u001b[39m _refine_defaults_read(\n\u001b[1;32m    936\u001b[0m     dialect,\n\u001b[1;32m    937\u001b[0m     delimiter,\n\u001b[0;32m   (...)\u001b[0m\n\u001b[1;32m    946\u001b[0m     defaults\u001b[38;5;241m=\u001b[39m{\u001b[38;5;124m\"\u001b[39m\u001b[38;5;124mdelimiter\u001b[39m\u001b[38;5;124m\"\u001b[39m: \u001b[38;5;124m\"\u001b[39m\u001b[38;5;124m,\u001b[39m\u001b[38;5;124m\"\u001b[39m},\n\u001b[1;32m    947\u001b[0m )\n\u001b[1;32m    948\u001b[0m kwds\u001b[38;5;241m.\u001b[39mupdate(kwds_defaults)\n\u001b[0;32m--> 950\u001b[0m \u001b[38;5;28;01mreturn\u001b[39;00m \u001b[43m_read\u001b[49m\u001b[43m(\u001b[49m\u001b[43mfilepath_or_buffer\u001b[49m\u001b[43m,\u001b[49m\u001b[43m \u001b[49m\u001b[43mkwds\u001b[49m\u001b[43m)\u001b[49m\n",
      "File \u001b[0;32m~/anaconda3/envs/que_drop/lib/python3.10/site-packages/pandas/io/parsers/readers.py:611\u001b[0m, in \u001b[0;36m_read\u001b[0;34m(filepath_or_buffer, kwds)\u001b[0m\n\u001b[1;32m    608\u001b[0m     \u001b[38;5;28;01mreturn\u001b[39;00m parser\n\u001b[1;32m    610\u001b[0m \u001b[38;5;28;01mwith\u001b[39;00m parser:\n\u001b[0;32m--> 611\u001b[0m     \u001b[38;5;28;01mreturn\u001b[39;00m \u001b[43mparser\u001b[49m\u001b[38;5;241;43m.\u001b[39;49m\u001b[43mread\u001b[49m\u001b[43m(\u001b[49m\u001b[43mnrows\u001b[49m\u001b[43m)\u001b[49m\n",
      "File \u001b[0;32m~/anaconda3/envs/que_drop/lib/python3.10/site-packages/pandas/io/parsers/readers.py:1778\u001b[0m, in \u001b[0;36mTextFileReader.read\u001b[0;34m(self, nrows)\u001b[0m\n\u001b[1;32m   1771\u001b[0m nrows \u001b[38;5;241m=\u001b[39m validate_integer(\u001b[38;5;124m\"\u001b[39m\u001b[38;5;124mnrows\u001b[39m\u001b[38;5;124m\"\u001b[39m, nrows)\n\u001b[1;32m   1772\u001b[0m \u001b[38;5;28;01mtry\u001b[39;00m:\n\u001b[1;32m   1773\u001b[0m     \u001b[38;5;66;03m# error: \"ParserBase\" has no attribute \"read\"\u001b[39;00m\n\u001b[1;32m   1774\u001b[0m     (\n\u001b[1;32m   1775\u001b[0m         index,\n\u001b[1;32m   1776\u001b[0m         columns,\n\u001b[1;32m   1777\u001b[0m         col_dict,\n\u001b[0;32m-> 1778\u001b[0m     ) \u001b[38;5;241m=\u001b[39m \u001b[38;5;28;43mself\u001b[39;49m\u001b[38;5;241;43m.\u001b[39;49m\u001b[43m_engine\u001b[49m\u001b[38;5;241;43m.\u001b[39;49m\u001b[43mread\u001b[49m\u001b[43m(\u001b[49m\u001b[43m  \u001b[49m\u001b[38;5;66;43;03m# type: ignore[attr-defined]\u001b[39;49;00m\n\u001b[1;32m   1779\u001b[0m \u001b[43m        \u001b[49m\u001b[43mnrows\u001b[49m\n\u001b[1;32m   1780\u001b[0m \u001b[43m    \u001b[49m\u001b[43m)\u001b[49m\n\u001b[1;32m   1781\u001b[0m \u001b[38;5;28;01mexcept\u001b[39;00m \u001b[38;5;167;01mException\u001b[39;00m:\n\u001b[1;32m   1782\u001b[0m     \u001b[38;5;28mself\u001b[39m\u001b[38;5;241m.\u001b[39mclose()\n",
      "File \u001b[0;32m~/anaconda3/envs/que_drop/lib/python3.10/site-packages/pandas/io/parsers/c_parser_wrapper.py:230\u001b[0m, in \u001b[0;36mCParserWrapper.read\u001b[0;34m(self, nrows)\u001b[0m\n\u001b[1;32m    228\u001b[0m \u001b[38;5;28;01mtry\u001b[39;00m:\n\u001b[1;32m    229\u001b[0m     \u001b[38;5;28;01mif\u001b[39;00m \u001b[38;5;28mself\u001b[39m\u001b[38;5;241m.\u001b[39mlow_memory:\n\u001b[0;32m--> 230\u001b[0m         chunks \u001b[38;5;241m=\u001b[39m \u001b[38;5;28;43mself\u001b[39;49m\u001b[38;5;241;43m.\u001b[39;49m\u001b[43m_reader\u001b[49m\u001b[38;5;241;43m.\u001b[39;49m\u001b[43mread_low_memory\u001b[49m\u001b[43m(\u001b[49m\u001b[43mnrows\u001b[49m\u001b[43m)\u001b[49m\n\u001b[1;32m    231\u001b[0m         \u001b[38;5;66;03m# destructive to chunks\u001b[39;00m\n\u001b[1;32m    232\u001b[0m         data \u001b[38;5;241m=\u001b[39m _concatenate_chunks(chunks)\n",
      "File \u001b[0;32m~/anaconda3/envs/que_drop/lib/python3.10/site-packages/pandas/_libs/parsers.pyx:808\u001b[0m, in \u001b[0;36mpandas._libs.parsers.TextReader.read_low_memory\u001b[0;34m()\u001b[0m\n",
      "File \u001b[0;32m~/anaconda3/envs/que_drop/lib/python3.10/site-packages/pandas/_libs/parsers.pyx:890\u001b[0m, in \u001b[0;36mpandas._libs.parsers.TextReader._read_rows\u001b[0;34m()\u001b[0m\n",
      "File \u001b[0;32m~/anaconda3/envs/que_drop/lib/python3.10/site-packages/pandas/_libs/parsers.pyx:1037\u001b[0m, in \u001b[0;36mpandas._libs.parsers.TextReader._convert_column_data\u001b[0;34m()\u001b[0m\n",
      "File \u001b[0;32m~/anaconda3/envs/que_drop/lib/python3.10/site-packages/pandas/_libs/parsers.pyx:1068\u001b[0m, in \u001b[0;36mpandas._libs.parsers.TextReader._convert_tokens\u001b[0;34m()\u001b[0m\n",
      "File \u001b[0;32m~/anaconda3/envs/que_drop/lib/python3.10/site-packages/pandas/_libs/parsers.pyx:1172\u001b[0m, in \u001b[0;36mpandas._libs.parsers.TextReader._convert_with_dtype\u001b[0;34m()\u001b[0m\n",
      "File \u001b[0;32m~/anaconda3/envs/que_drop/lib/python3.10/site-packages/pandas/core/arrays/numeric.py:269\u001b[0m, in \u001b[0;36mNumericArray._from_sequence_of_strings\u001b[0;34m(cls, strings, dtype, copy)\u001b[0m\n\u001b[1;32m    263\u001b[0m \u001b[38;5;129m@classmethod\u001b[39m\n\u001b[1;32m    264\u001b[0m \u001b[38;5;28;01mdef\u001b[39;00m \u001b[38;5;21m_from_sequence_of_strings\u001b[39m(\n\u001b[1;32m    265\u001b[0m     \u001b[38;5;28mcls\u001b[39m: \u001b[38;5;28mtype\u001b[39m[T], strings, \u001b[38;5;241m*\u001b[39m, dtype: Dtype \u001b[38;5;241m|\u001b[39m \u001b[38;5;28;01mNone\u001b[39;00m \u001b[38;5;241m=\u001b[39m \u001b[38;5;28;01mNone\u001b[39;00m, copy: \u001b[38;5;28mbool\u001b[39m \u001b[38;5;241m=\u001b[39m \u001b[38;5;28;01mFalse\u001b[39;00m\n\u001b[1;32m    266\u001b[0m ) \u001b[38;5;241m-\u001b[39m\u001b[38;5;241m>\u001b[39m T:\n\u001b[1;32m    267\u001b[0m     \u001b[38;5;28;01mfrom\u001b[39;00m \u001b[38;5;21;01mpandas\u001b[39;00m\u001b[38;5;21;01m.\u001b[39;00m\u001b[38;5;21;01mcore\u001b[39;00m\u001b[38;5;21;01m.\u001b[39;00m\u001b[38;5;21;01mtools\u001b[39;00m\u001b[38;5;21;01m.\u001b[39;00m\u001b[38;5;21;01mnumeric\u001b[39;00m \u001b[38;5;28;01mimport\u001b[39;00m to_numeric\n\u001b[0;32m--> 269\u001b[0m     scalars \u001b[38;5;241m=\u001b[39m \u001b[43mto_numeric\u001b[49m\u001b[43m(\u001b[49m\u001b[43mstrings\u001b[49m\u001b[43m,\u001b[49m\u001b[43m \u001b[49m\u001b[43merrors\u001b[49m\u001b[38;5;241;43m=\u001b[39;49m\u001b[38;5;124;43m\"\u001b[39;49m\u001b[38;5;124;43mraise\u001b[39;49m\u001b[38;5;124;43m\"\u001b[39;49m\u001b[43m)\u001b[49m\n\u001b[1;32m    270\u001b[0m     \u001b[38;5;28;01mreturn\u001b[39;00m \u001b[38;5;28mcls\u001b[39m\u001b[38;5;241m.\u001b[39m_from_sequence(scalars, dtype\u001b[38;5;241m=\u001b[39mdtype, copy\u001b[38;5;241m=\u001b[39mcopy)\n",
      "File \u001b[0;32m~/anaconda3/envs/que_drop/lib/python3.10/site-packages/pandas/core/tools/numeric.py:185\u001b[0m, in \u001b[0;36mto_numeric\u001b[0;34m(arg, errors, downcast)\u001b[0m\n\u001b[1;32m    183\u001b[0m coerce_numeric \u001b[38;5;241m=\u001b[39m errors \u001b[38;5;129;01mnot\u001b[39;00m \u001b[38;5;129;01min\u001b[39;00m (\u001b[38;5;124m\"\u001b[39m\u001b[38;5;124mignore\u001b[39m\u001b[38;5;124m\"\u001b[39m, \u001b[38;5;124m\"\u001b[39m\u001b[38;5;124mraise\u001b[39m\u001b[38;5;124m\"\u001b[39m)\n\u001b[1;32m    184\u001b[0m \u001b[38;5;28;01mtry\u001b[39;00m:\n\u001b[0;32m--> 185\u001b[0m     values, _ \u001b[38;5;241m=\u001b[39m \u001b[43mlib\u001b[49m\u001b[38;5;241;43m.\u001b[39;49m\u001b[43mmaybe_convert_numeric\u001b[49m\u001b[43m(\u001b[49m\n\u001b[1;32m    186\u001b[0m \u001b[43m        \u001b[49m\u001b[43mvalues\u001b[49m\u001b[43m,\u001b[49m\u001b[43m \u001b[49m\u001b[38;5;28;43mset\u001b[39;49m\u001b[43m(\u001b[49m\u001b[43m)\u001b[49m\u001b[43m,\u001b[49m\u001b[43m \u001b[49m\u001b[43mcoerce_numeric\u001b[49m\u001b[38;5;241;43m=\u001b[39;49m\u001b[43mcoerce_numeric\u001b[49m\n\u001b[1;32m    187\u001b[0m \u001b[43m    \u001b[49m\u001b[43m)\u001b[49m\n\u001b[1;32m    188\u001b[0m \u001b[38;5;28;01mexcept\u001b[39;00m (\u001b[38;5;167;01mValueError\u001b[39;00m, \u001b[38;5;167;01mTypeError\u001b[39;00m):\n\u001b[1;32m    189\u001b[0m     \u001b[38;5;28;01mif\u001b[39;00m errors \u001b[38;5;241m==\u001b[39m \u001b[38;5;124m\"\u001b[39m\u001b[38;5;124mraise\u001b[39m\u001b[38;5;124m\"\u001b[39m:\n",
      "File \u001b[0;32m~/anaconda3/envs/que_drop/lib/python3.10/site-packages/pandas/_libs/lib.pyx:2411\u001b[0m, in \u001b[0;36mpandas._libs.lib.maybe_convert_numeric\u001b[0;34m()\u001b[0m\n",
      "\u001b[0;31mValueError\u001b[0m: Unable to parse string \"bc1dbfe09834a716\" at position 0"
     ]
    }
   ],
   "source": [
    "tweets_sample = tweets.Tweets.from_csv(\n",
    "    [p for p in ptweets.iterdir()][0], 'es'\n",
    ")\n",
    "users_sample = users.Users.from_csv(\n",
    "    [p for p in pusers.iterdir()][0], 'es'\n",
    ")\n",
    "places_sample = places.Places.from_csv(\n",
    "    [p for p in pplaces.iterdir()][0], 'es'\n",
    ")\n",
    "meta_sample = twitter_data.TwitterData.from_csv(\n",
    "    [p for p in pmeta.iterdir()][0], 'es'\n",
    ")"
   ]
  },
  {
   "cell_type": "code",
   "execution_count": 45,
   "id": "2a9a96f7",
   "metadata": {},
   "outputs": [
    {
     "ename": "NameError",
     "evalue": "name 'places_sample' is not defined",
     "output_type": "error",
     "traceback": [
      "\u001b[0;31m---------------------------------------------------------------------------\u001b[0m",
      "\u001b[0;31mNameError\u001b[0m                                 Traceback (most recent call last)",
      "Cell \u001b[0;32mIn[45], line 1\u001b[0m\n\u001b[0;32m----> 1\u001b[0m \u001b[43mplaces_sample\u001b[49m\u001b[38;5;241m.\u001b[39md\u001b[38;5;241m.\u001b[39mhead()\n",
      "\u001b[0;31mNameError\u001b[0m: name 'places_sample' is not defined"
     ]
    }
   ],
   "source": [
    "places_sample.d.head()"
   ]
  },
  {
   "cell_type": "code",
   "execution_count": null,
   "id": "05a82318",
   "metadata": {},
   "outputs": [],
   "source": []
  }
 ],
 "metadata": {
  "kernelspec": {
   "display_name": "Python 3 (ipykernel)",
   "language": "python",
   "name": "python3"
  },
  "language_info": {
   "codemirror_mode": {
    "name": "ipython",
    "version": 3
   },
   "file_extension": ".py",
   "mimetype": "text/x-python",
   "name": "python",
   "nbconvert_exporter": "python",
   "pygments_lexer": "ipython3",
   "version": "3.10.9"
  }
 },
 "nbformat": 4,
 "nbformat_minor": 5
}
