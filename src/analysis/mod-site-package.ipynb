{
 "cells": [
  {
   "cell_type": "code",
   "execution_count": 1,
   "id": "e16e3591",
   "metadata": {},
   "outputs": [],
   "source": [
    "import site\n",
    "import sys\n",
    "from pathlib import Path"
   ]
  },
  {
   "cell_type": "code",
   "execution_count": 6,
   "id": "ebf0f2a5",
   "metadata": {},
   "outputs": [
    {
     "data": {
      "text/plain": [
       "['/home/ruskirin/Documents/Projects/lin-que-dropping/src/analysis',\n",
       " '/home/ruskirin/miniconda3/envs/que_drop/lib/python310.zip',\n",
       " '/home/ruskirin/miniconda3/envs/que_drop/lib/python3.10',\n",
       " '/home/ruskirin/miniconda3/envs/que_drop/lib/python3.10/lib-dynload',\n",
       " '',\n",
       " '/home/ruskirin/miniconda3/envs/que_drop/lib/python3.10/site-packages',\n",
       " '/home/ruskirin/Documents/Projects/lin-que-dropping',\n",
       " '/home/ruskirin/Documents/Projects/lin-que-dropping/src/twitter_connection',\n",
       " '/home/ruskirin/Documents/Projects/lin-que-dropping/src/twitter_data',\n",
       " '/home/ruskirin/Documents/Projects/lin-que-dropping/src/utils']"
      ]
     },
     "execution_count": 6,
     "metadata": {},
     "output_type": "execute_result"
    }
   ],
   "source": [
    "sys.path"
   ]
  },
  {
   "cell_type": "code",
   "execution_count": 4,
   "id": "4e9b57f4",
   "metadata": {},
   "outputs": [
    {
     "data": {
      "text/plain": [
       "PosixPath('/home/ruskirin/Documents/Projects/lin-que-dropping')"
      ]
     },
     "execution_count": 4,
     "metadata": {},
     "output_type": "execute_result"
    }
   ],
   "source": [
    "home = Path.cwd().parent.parent\n",
    "home"
   ]
  },
  {
   "cell_type": "code",
   "execution_count": 5,
   "id": "1c3113d3",
   "metadata": {},
   "outputs": [],
   "source": [
    "site.addsitedir(home)"
   ]
  },
  {
   "cell_type": "code",
   "execution_count": null,
   "id": "b61514c8",
   "metadata": {},
   "outputs": [],
   "source": []
  }
 ],
 "metadata": {
  "kernelspec": {
   "display_name": "Python 3 (ipykernel)",
   "language": "python",
   "name": "python3"
  },
  "language_info": {
   "codemirror_mode": {
    "name": "ipython",
    "version": 3
   },
   "file_extension": ".py",
   "mimetype": "text/x-python",
   "name": "python",
   "nbconvert_exporter": "python",
   "pygments_lexer": "ipython3",
   "version": "3.10.9"
  }
 },
 "nbformat": 4,
 "nbformat_minor": 5
}
