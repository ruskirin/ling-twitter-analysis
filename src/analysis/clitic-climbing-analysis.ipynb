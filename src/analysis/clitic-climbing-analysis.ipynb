{
 "cells": [
  {
   "cell_type": "code",
   "execution_count": 48,
   "id": "df3a96fa",
   "metadata": {},
   "outputs": [],
   "source": [
    "import pandas as pd\n",
    "import regex\n",
    "from collections import Counter\n",
    "import spacy\n",
    "spacy.require_gpu()\n",
    "from torch.utils import dlpack"
   ]
  },
  {
   "cell_type": "code",
   "execution_count": 2,
   "id": "8afc7d3d",
   "metadata": {},
   "outputs": [],
   "source": [
    "import importlib\n",
    "import sys\n",
    "\n",
    "spec_src = importlib.util.spec_from_file_location(\n",
    "    'src', \n",
    "    '../../__init__.py')\n",
    "m = importlib.util.module_from_spec(spec_src)\n",
    "sys.modules[spec_src.name] = m\n",
    "spec_src.loader.exec_module(m)\n",
    "\n",
    "from src import utils"
   ]
  },
  {
   "cell_type": "code",
   "execution_count": 3,
   "id": "88e932f1",
   "metadata": {},
   "outputs": [],
   "source": [
    "conf = utils.get_config('p')"
   ]
  },
  {
   "cell_type": "code",
   "execution_count": 8,
   "id": "0dd90997",
   "metadata": {},
   "outputs": [
    {
     "data": {
      "text/plain": [
       "<module 'src.utils' from '/home/rimov/Documents/Code/NLP/lin-que-dropping/src/analysis/processing/../../utils.py'>"
      ]
     },
     "execution_count": 8,
     "metadata": {},
     "output_type": "execute_result"
    }
   ],
   "source": [
    "\"\"\"\n",
    "Reload module\n",
    "\"\"\"\n",
    "importlib.reload(utils)"
   ]
  },
  {
   "cell_type": "code",
   "execution_count": 4,
   "id": "a3578046",
   "metadata": {},
   "outputs": [
    {
     "name": "stdout",
     "output_type": "stream",
     "text": [
      "<class 'pandas.core.frame.DataFrame'>\n",
      "RangeIndex: 477 entries, 0 to 476\n",
      "Data columns (total 8 columns):\n",
      " #   Column        Non-Null Count  Dtype  \n",
      "---  ------        --------------  -----  \n",
      " 0   verbs         477 non-null    object \n",
      " 1   tweet_id      477 non-null    float64\n",
      " 2   text_orig     477 non-null    object \n",
      " 3   normalized    477 non-null    object \n",
      " 4   has_ccomp     477 non-null    bool   \n",
      " 5   dependencies  477 non-null    object \n",
      " 6   pos           477 non-null    object \n",
      " 7   details       477 non-null    object \n",
      "dtypes: bool(1), float64(1), object(6)\n",
      "memory usage: 26.7+ KB\n"
     ]
    }
   ],
   "source": [
    "data_path = utils.get_save_path('p', 'twitter', lang='es')/'2022-03-08 15:15:06'/'combined-2021-07-26-and-11-07'/'epistemic'/'twitter-es-acordar-0-477.xlsx'\n",
    "data = pd.read_excel(data_path)\n",
    "data.info()"
   ]
  },
  {
   "cell_type": "code",
   "execution_count": 5,
   "id": "6869a524",
   "metadata": {
    "scrolled": true
   },
   "outputs": [
    {
     "data": {
      "text/plain": [
       "0    @Gerardoquinte(PROPN) @Noti90Minutos(PROPN) Ah...\n",
       "1    @SnailArg(PROPN) No(ADV) estaría(AUX) tan(ADV)...\n",
       "2    @mywordsworlds1(PROPN) No(ADV) sabes(VERB) la(...\n",
       "3    @BrissioMauro(PROPN) La(DET) verdad(NOUN) me(P...\n",
       "4    este(DET) año(NOUN) no(ADV) pienso(VERB) habla...\n",
       "Name: pos, dtype: object"
      ]
     },
     "execution_count": 5,
     "metadata": {},
     "output_type": "execute_result"
    }
   ],
   "source": [
    "data['pos'].head()"
   ]
  },
  {
   "cell_type": "code",
   "execution_count": 32,
   "id": "3128fd61",
   "metadata": {},
   "outputs": [],
   "source": [
    "pos_pat = r'(?P<obj>.+)\\((?P<pos>\\b\\w+\\b)\\)'"
   ]
  },
  {
   "cell_type": "code",
   "execution_count": 45,
   "id": "31b782c7",
   "metadata": {},
   "outputs": [],
   "source": [
    "def separate_by_pos(text):\n",
    "    \"\"\"\n",
    "    Split POS-tagged text into a dictionary of token:POS pairs\n",
    "    \"\"\"\n",
    "    \n",
    "    if isinstance(text, pd.Series):\n",
    "        text = text.values[0].split()\n",
    "    elif isinstance(text, str):\n",
    "        text = text.split()\n",
    "        \n",
    "    separated = dict()\n",
    "    \n",
    "    for i, word in enumerate(text):\n",
    "        match = re.search(pos_pat, word)\n",
    "        \n",
    "        if match is not None:\n",
    "            separated[match['obj']] = match['pos']\n",
    "        else:\n",
    "            # regex couldn't find a match, add original word as key and None as value\n",
    "            separated[text[i]] = None\n",
    "    \n",
    "    return separated"
   ]
  },
  {
   "cell_type": "markdown",
   "id": "05841160",
   "metadata": {},
   "source": [
    "### TODO: improve by checking the word's lemma to ensure any 'AUX' is a verb"
   ]
  },
  {
   "cell_type": "code",
   "execution_count": 61,
   "id": "e2f173ab",
   "metadata": {},
   "outputs": [],
   "source": [
    "def get_consecutive_verbs(text):\n",
    "    \"\"\"\n",
    "    \n",
    "    \"\"\"\n",
    "    \n",
    "    text_pos = separate_by_pos(text)\n",
    "    \n",
    "    # Holder for group of consecutive words of interest\n",
    "    group = []\n",
    "    pos_counter = Counter()\n",
    "    \n",
    "    # All consecutive verbs\n",
    "    all_consec = []\n",
    "    \n",
    "    for token, pos in text_pos.items():\n",
    "        if pos!='AUX' and pos!='VERB' and pos!='ADP':\n",
    "            consec_verbs = pos_counter['AUX'] + pos_counter['VERB']\n",
    "            \n",
    "            if consec_verbs >= 2:\n",
    "                all_consec.append(group)\n",
    "            \n",
    "            group = []\n",
    "            pos_counter.clear()\n",
    "            continue\n",
    "            \n",
    "        if (pos=='ADP') and (pos_counter['AUX'] > 0 or pos_counter['VERB'] > 0):\n",
    "            group.append(token)\n",
    "            pos_counter[pos]+=1\n",
    "            \n",
    "        elif pos=='VERB' or pos=='AUX':\n",
    "            group.append(token)\n",
    "            pos_counter[pos]+=1\n",
    "        \n",
    "    \n",
    "    return len(all_consec), all_consec"
   ]
  },
  {
   "cell_type": "markdown",
   "id": "3ed797d2",
   "metadata": {},
   "source": [
    "### TODO: add default idx"
   ]
  },
  {
   "cell_type": "code",
   "execution_count": 62,
   "id": "acacbb95",
   "metadata": {},
   "outputs": [],
   "source": [
    "def test_func(func, idx, correct, **params):\n",
    "    \"\"\"\n",
    "    Test a function for correct output\n",
    "    \n",
    "    @func: function to test\n",
    "    @idx: index of function output to use; !!! use (-1) for single output !!!\n",
    "    \"\"\"\n",
    "    out = func(**params)\n",
    "    \n",
    "    print(f'Function {func.__name__}(), returned: \\n\\t{out}')\n",
    "    print(f'Desired output: \\n\\t{correct}')\n",
    "    \n",
    "    if idx != -1:\n",
    "        out = func(**params)[idx]\n",
    "    \n",
    "    return out == correct"
   ]
  },
  {
   "cell_type": "code",
   "execution_count": 55,
   "id": "6f5c2d46",
   "metadata": {},
   "outputs": [
    {
     "data": {
      "text/html": [
       "<div>\n",
       "<style scoped>\n",
       "    .dataframe tbody tr th:only-of-type {\n",
       "        vertical-align: middle;\n",
       "    }\n",
       "\n",
       "    .dataframe tbody tr th {\n",
       "        vertical-align: top;\n",
       "    }\n",
       "\n",
       "    .dataframe thead th {\n",
       "        text-align: right;\n",
       "    }\n",
       "</style>\n",
       "<table border=\"1\" class=\"dataframe\">\n",
       "  <thead>\n",
       "    <tr style=\"text-align: right;\">\n",
       "      <th></th>\n",
       "      <th>tweet_id</th>\n",
       "      <th>text_orig</th>\n",
       "      <th>pos</th>\n",
       "      <th>details</th>\n",
       "    </tr>\n",
       "  </thead>\n",
       "  <tbody>\n",
       "    <tr>\n",
       "      <th>440</th>\n",
       "      <td>1.455554e+18</td>\n",
       "      <td>Se acuerdan del 6% que seguía defendiendo a Pi...</td>\n",
       "      <td>Se(PRON) acuerdan(VERB) del(ADP) 6%(SYM) que(P...</td>\n",
       "      <td>&lt;Se&gt;(él,True) &lt;acuerdan&gt;(acordar,False) &lt;del&gt;(...</td>\n",
       "    </tr>\n",
       "    <tr>\n",
       "      <th>404</th>\n",
       "      <td>1.455583e+18</td>\n",
       "      <td>@ClaraGrima @matematicasUS qué bonito! me acor...</td>\n",
       "      <td>@ClaraGrima(PROPN) @matematicasUS(PROPN) qué(D...</td>\n",
       "      <td>&lt;@ClaraGrima&gt;(@claragrima,False) &lt;@matematicas...</td>\n",
       "    </tr>\n",
       "    <tr>\n",
       "      <th>34</th>\n",
       "      <td>1.453414e+18</td>\n",
       "      <td>Ya son pocos los que se acuerdan ..</td>\n",
       "      <td>Ya(ADV) son(AUX) pocos(PRON) los(DET) que(PRON...</td>\n",
       "      <td>&lt;Ya&gt;(ya,True) &lt;son&gt;(ser,True) &lt;pocos&gt;(poco,Tru...</td>\n",
       "    </tr>\n",
       "    <tr>\n",
       "      <th>331</th>\n",
       "      <td>1.455883e+18</td>\n",
       "      <td>@Jules20241 Buen punto. Entiendo q la izq esta...</td>\n",
       "      <td>@Jules20241(PROPN) Buen(ADJ) punto(NOUN) .(PUN...</td>\n",
       "      <td>&lt;@Jules20241&gt;(@jules20241,False) &lt;Buen&gt;(buen,T...</td>\n",
       "    </tr>\n",
       "    <tr>\n",
       "      <th>428</th>\n",
       "      <td>1.455561e+18</td>\n",
       "      <td>@pepitosincuenta @ArtolaMaru Tenemos que ser r...</td>\n",
       "      <td>@pepitosincuenta(ADJ) @ArtolaMaru(PROPN) Tenem...</td>\n",
       "      <td>&lt;@pepitosincuenta&gt;(@pepitosincuenta,False) &lt;@A...</td>\n",
       "    </tr>\n",
       "  </tbody>\n",
       "</table>\n",
       "</div>"
      ],
      "text/plain": [
       "         tweet_id                                          text_orig  \\\n",
       "440  1.455554e+18  Se acuerdan del 6% que seguía defendiendo a Pi...   \n",
       "404  1.455583e+18  @ClaraGrima @matematicasUS qué bonito! me acor...   \n",
       "34   1.453414e+18                Ya son pocos los que se acuerdan ..   \n",
       "331  1.455883e+18  @Jules20241 Buen punto. Entiendo q la izq esta...   \n",
       "428  1.455561e+18  @pepitosincuenta @ArtolaMaru Tenemos que ser r...   \n",
       "\n",
       "                                                   pos  \\\n",
       "440  Se(PRON) acuerdan(VERB) del(ADP) 6%(SYM) que(P...   \n",
       "404  @ClaraGrima(PROPN) @matematicasUS(PROPN) qué(D...   \n",
       "34   Ya(ADV) son(AUX) pocos(PRON) los(DET) que(PRON...   \n",
       "331  @Jules20241(PROPN) Buen(ADJ) punto(NOUN) .(PUN...   \n",
       "428  @pepitosincuenta(ADJ) @ArtolaMaru(PROPN) Tenem...   \n",
       "\n",
       "                                               details  \n",
       "440  <Se>(él,True) <acuerdan>(acordar,False) <del>(...  \n",
       "404  <@ClaraGrima>(@claragrima,False) <@matematicas...  \n",
       "34   <Ya>(ya,True) <son>(ser,True) <pocos>(poco,Tru...  \n",
       "331  <@Jules20241>(@jules20241,False) <Buen>(buen,T...  \n",
       "428  <@pepitosincuenta>(@pepitosincuenta,False) <@A...  "
      ]
     },
     "execution_count": 55,
     "metadata": {},
     "output_type": "execute_result"
    }
   ],
   "source": [
    "test_input = data.sample(5, random_state=1).loc[:, ['tweet_id', 'text_orig', 'pos', 'details']]\n",
    "test_input.head()"
   ]
  },
  {
   "cell_type": "code",
   "execution_count": 56,
   "id": "f56076dd",
   "metadata": {
    "scrolled": false
   },
   "outputs": [
    {
     "data": {
      "text/plain": [
       "440                                                                                                                                                                                Se acuerdan del 6% que seguía defendiendo a Piñera cuando saqueaban el país entero y el comía pizza? El mismo 6% que apoya al Cheezels\n",
       "404                                                                                                                                                                   @ClaraGrima @matematicasUS qué bonito! me acordaste de cuando mi papá me regaló mi primer libro de estadística (era más largo que la biblia jaja) 😊\n",
       "34                                                                                                                                                                                                                                                                                    Ya son pocos los que se acuerdan ..\n",
       "331                                                   @Jules20241 Buen punto. Entiendo q la izq esta en contra de la plusvalía abusiva no estricta// en contra del derecho a la propiedad. Claro que uno puede querer modificar o no acordar con un art xra mejorar los principios q se garantizan, no q los anule, sdlos\n",
       "428    @pepitosincuenta @ArtolaMaru Tenemos que ser realistas aunque nos duela, si leíste mi hilo, te habrás acordado de lo que pasó, con nuestros vecinos. Estaban hundidos y ahora son los mejores, pero con las cabezas que siguen pensando en el día a día, no hay arreglo. Las cosas se arreglan desde los cimientos\n",
       "Name: text_orig, dtype: object"
      ]
     },
     "metadata": {},
     "output_type": "display_data"
    },
    {
     "data": {
      "text/plain": [
       "440                                                                                                                                                                                                                                                                                                                                                                                      Se(PRON) acuerdan(VERB) del(ADP) 6%(SYM) que(PRON) seguía(VERB) defendiendo(VERB) a(ADP) Piñera(PROPN) cuando(SCONJ) saqueaban(VERB) el(DET) país(NOUN) entero(ADJ) y(CCONJ) el(DET) comía(VERB) pizza(NOUN) ?(PUNCT) El(DET) mismo(DET) 6%(SYM) que(PRON) apoya(VERB) al(ADP) Cheezels(PROPN)\n",
       "404                                                                                                                                                                                                                                                                                                                                                          @ClaraGrima(PROPN) @matematicasUS(PROPN) qué(DET) bonito(ADJ) !(PUNCT) me(PRON) acordaste(VERB) de(ADP) cuando(SCONJ) mi(DET) papá(NOUN) me(PRON) regaló(VERB) mi(DET) primer(ADJ) libro(NOUN) de(ADP) estadística(NOUN) ((PUNCT) era(AUX) más(ADV) largo(ADJ) que(SCONJ) la(DET) biblia(NOUN) jaja(ADJ) )(PUNCT) 😊(PROPN)\n",
       "34                                                                                                                                                                                                                                                                                                                                                                                                                                                                                                                                                                                                    Ya(ADV) son(AUX) pocos(PRON) los(DET) que(PRON) se(PRON) acuerdan(VERB) ..(PUNCT)\n",
       "331                                                                                                     @Jules20241(PROPN) Buen(ADJ) punto(NOUN) .(PUNCT) Entiendo(VERB) q(SCONJ) la(DET) izq(PROPN) esta(AUX) en(ADP) contra(NOUN) de(ADP) la(DET) plusvalía(NOUN) abusiva(ADJ) no(ADV) estricta//(ADJ) en(ADP) contra(NOUN) del(DET) derecho(NOUN) a(ADP) la(DET) propiedad(NOUN) .(PUNCT) Claro(ADV) que(SCONJ) uno(PRON) puede(AUX) querer(AUX) modificar(VERB) o(CCONJ) no(ADV) acordar(VERB) con(ADP) un(DET) art(NOUN) xra(PROPN) mejorar(VERB) los(DET) principios(NOUN) q(PRON) se(PRON) garantizan(VERB) ,(PUNCT) no(ADV) q(SCONJ) los(PRON) anule(VERB) ,(PUNCT) sdlos(INTJ)\n",
       "428    @pepitosincuenta(ADJ) @ArtolaMaru(PROPN) Tenemos(VERB) que(SCONJ) ser(AUX) realistas(ADJ) aunque(SCONJ) nos(PRON) duela(VERB) ,(PUNCT) si(SCONJ) leíste(VERB) mi(DET) hilo(NOUN) ,(PUNCT) te(PRON) habrás(AUX) acordado(VERB) de(ADP) lo(PRON) que(PRON) pasó(VERB) ,(PUNCT) con(ADP) nuestros(DET) vecinos(NOUN) .(PUNCT) Estaban(AUX) hundidos(ADJ) y(CCONJ) ahora(ADV) son(AUX) los(DET) mejores(ADJ) ,(PUNCT) pero(CCONJ) con(ADP) las(DET) cabezas(NOUN) que(PRON) siguen(VERB) pensando(VERB) en(ADP) el(DET) día(NOUN) a(ADP) día(NOUN) ,(PUNCT) no(ADV) hay(AUX) arreglo(NOUN) .(PUNCT) Las(DET) cosas(NOUN) se(PRON) arreglan(VERB) desde(ADP) los(DET) cimientos(NOUN)\n",
       "Name: pos, dtype: object"
      ]
     },
     "metadata": {},
     "output_type": "display_data"
    }
   ],
   "source": [
    "with pd.option_context('display.max_colwidth', None):\n",
    "    display(test_input['text_orig'])\n",
    "    display(test_input['pos'])"
   ]
  },
  {
   "cell_type": "code",
   "execution_count": 57,
   "id": "06d43f23",
   "metadata": {},
   "outputs": [],
   "source": [
    "correct_out = [1, 0, 0, 1, 2]"
   ]
  },
  {
   "cell_type": "code",
   "execution_count": 63,
   "id": "59c6fbf5",
   "metadata": {},
   "outputs": [
    {
     "name": "stdout",
     "output_type": "stream",
     "text": [
      "!!!Entry 1.455554113719046e+18!!!\n",
      "Function get_consecutive_verbs(), returned: \n",
      "\t(1, [['seguía', 'defendiendo', 'a']])\n",
      "Desired output: \n",
      "\t1\n",
      "True\n",
      "\n",
      "\n",
      "!!!Entry 1.455582584415601e+18!!!\n",
      "Function get_consecutive_verbs(), returned: \n",
      "\t(0, [])\n",
      "Desired output: \n",
      "\t0\n",
      "True\n",
      "\n",
      "\n",
      "!!!Entry 1.453413849474814e+18!!!\n",
      "Function get_consecutive_verbs(), returned: \n",
      "\t(0, [])\n",
      "Desired output: \n",
      "\t0\n",
      "True\n",
      "\n",
      "\n",
      "!!!Entry 1.455882760078377e+18!!!\n",
      "Function get_consecutive_verbs(), returned: \n",
      "\t(1, [['puede', 'querer', 'modificar']])\n",
      "Desired output: \n",
      "\t1\n",
      "True\n",
      "\n",
      "\n",
      "!!!Entry 1.455561244421751e+18!!!\n",
      "Function get_consecutive_verbs(), returned: \n",
      "\t(2, [['habrás', 'acordado', 'de'], ['siguen', 'pensando', 'en']])\n",
      "Desired output: \n",
      "\t2\n",
      "True\n",
      "\n",
      "\n"
     ]
    }
   ],
   "source": [
    "for i, t in enumerate(test_input.iterrows()):\n",
    "    entry = t[1]\n",
    "    \n",
    "    print(f'!!!Entry {entry[\"tweet_id\"]}!!!')\n",
    "    print(test_func(get_consecutive_verbs, 0, correct=correct_out[i], text=entry['pos']))\n",
    "    print('\\n')"
   ]
  },
  {
   "cell_type": "code",
   "execution_count": null,
   "id": "376aa8b6",
   "metadata": {},
   "outputs": [],
   "source": []
  }
 ],
 "metadata": {
  "kernelspec": {
   "display_name": "nlp",
   "language": "python",
   "name": "nlp"
  },
  "language_info": {
   "codemirror_mode": {
    "name": "ipython",
    "version": 3
   },
   "file_extension": ".py",
   "mimetype": "text/x-python",
   "name": "python",
   "nbconvert_exporter": "python",
   "pygments_lexer": "ipython3",
   "version": "3.8.12"
  }
 },
 "nbformat": 4,
 "nbformat_minor": 5
}
