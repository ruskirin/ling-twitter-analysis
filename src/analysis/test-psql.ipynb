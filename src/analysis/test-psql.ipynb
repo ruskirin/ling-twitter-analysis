{
 "cells": [
  {
   "cell_type": "code",
   "execution_count": 3,
   "id": "9c4fc0ad",
   "metadata": {},
   "outputs": [],
   "source": [
    "import numpy as np\n",
    "import pandas as pd\n",
    "from pathlib import Path\n",
    "from importlib import reload\n",
    "import logging\n",
    "from ast import literal_eval\n",
    "from datetime import datetime\n",
    "\n",
    "from utils import files, configs, logs\n",
    "from utils.types import DbKey\n",
    "from twitter_data import tweets\n",
    "from dbschema import db"
   ]
  },
  {
   "cell_type": "code",
   "execution_count": 2,
   "id": "e3bd4561",
   "metadata": {},
   "outputs": [],
   "source": [
    "logs.setup_logger('transfer-to-pgsql',\n",
    "                  desc='Moving all records to a pgsql database.')"
   ]
  },
  {
   "cell_type": "code",
   "execution_count": 3,
   "id": "13838073",
   "metadata": {},
   "outputs": [],
   "source": [
    "log = logging.getLogger(__name__)"
   ]
  },
  {
   "cell_type": "code",
   "execution_count": 6,
   "id": "8cbdf8e5",
   "metadata": {},
   "outputs": [
    {
     "data": {
      "text/plain": [
       "<module 'dbschema.db' from '/home/rimov/Documents/Code/NLP/lin-que-dropping/src/dbschema/db.py'>"
      ]
     },
     "execution_count": 6,
     "metadata": {},
     "output_type": "execute_result"
    }
   ],
   "source": [
    "reload(db)"
   ]
  },
  {
   "cell_type": "code",
   "execution_count": 4,
   "id": "30845ee1",
   "metadata": {},
   "outputs": [
    {
     "name": "stdout",
     "output_type": "stream",
     "text": [
      "Choose from the available folders, comma-separated (or \"a\" for all):\n",
      "0. 2021-07-26-at-15:46:00\n",
      "1. 2021-07-26-at-23:45:00\n",
      "2. 2021-11-07-at-22:10:00\n",
      "3. 2023-02-08-at-23:05:39\n",
      "4. 2021-07-26-at-19:05:00\n",
      "5. 2023-02-22-at-18:46:25\n",
      "6. 2021-07-07-at-10:50:00\n",
      "7. 2023-02-22-at-18:13:40\n",
      "Return folder(s): 5\n",
      "Choose from the available folders, comma-separated (or \"a\" for all):\n",
      "0. 20210615-es-cleaned\n",
      "1. 07112021-at-2210-combined\n",
      "2. 2021-11-07-at-22:10:00\n",
      "3. 20210726-combined\n",
      "4. 20210726\n",
      "5. 2023-02-22-at-18:46:25\n",
      "6. 2021-07-07-at-10:50:00\n",
      "7. 07112021-at-2210\n",
      "8. 2021-07-11-at-22:10:00\n",
      "Return folder(s): 5\n"
     ]
    }
   ],
   "source": [
    "path_e = files.choose_save_path('e')\n",
    "path_c = files.choose_save_path('c')"
   ]
  },
  {
   "cell_type": "code",
   "execution_count": 5,
   "id": "0e5c7a5b",
   "metadata": {},
   "outputs": [
    {
     "data": {
      "text/plain": [
       "[PosixPath('/home/rimov/Documents/Code/NLP/lin-que-dropping/data/extracted/saved/twitter/es/2023-02-22-at-18:46:25')]"
      ]
     },
     "execution_count": 5,
     "metadata": {},
     "output_type": "execute_result"
    }
   ],
   "source": [
    "path_e"
   ]
  },
  {
   "cell_type": "code",
   "execution_count": 6,
   "id": "105bc517",
   "metadata": {},
   "outputs": [
    {
     "name": "stdout",
     "output_type": "stream",
     "text": [
      "[True, True, True, True]\n"
     ]
    }
   ],
   "source": [
    "path_e_tweets = path_e[0]/'tweets'/'es-twitter-decir-tweets-1-589.csv'\n",
    "path_e_users = path_e[0]/'users'/'es-twitter-decir-users-1-1270.csv'\n",
    "path_e_places = path_e[0]/'places'/'es-twitter-decir-places-1-470.csv'\n",
    "path_e_meta = path_e[0]/'twitterdata'/'es-twitter-decir-twitterdata-2-3.csv'\n",
    "\n",
    "paths_e_d = [path_e_tweets, path_e_users, path_e_places, path_e_meta]\n",
    "print(list(map(lambda x: x.is_file(), paths_e_d)))"
   ]
  },
  {
   "cell_type": "code",
   "execution_count": 7,
   "id": "09f3e2ff",
   "metadata": {},
   "outputs": [],
   "source": [
    "datas = list(map(lambda x: pd.read_csv(x, sep='~'), paths_e_d))"
   ]
  },
  {
   "cell_type": "code",
   "execution_count": 8,
   "id": "d153d506",
   "metadata": {},
   "outputs": [
    {
     "name": "stdout",
     "output_type": "stream",
     "text": [
      "<class 'pandas.core.frame.DataFrame'>\n",
      "RangeIndex: 589 entries, 0 to 588\n",
      "Data columns (total 16 columns):\n",
      " #   Column                           Non-Null Count  Dtype \n",
      "---  ------                           --------------  ----- \n",
      " 0   referenced_tweets                398 non-null    object\n",
      " 1   created_at                       589 non-null    object\n",
      " 2   text                             589 non-null    object\n",
      " 3   edit_history_tweet_ids           589 non-null    object\n",
      " 4   lang                             589 non-null    object\n",
      " 5   id                               589 non-null    int64 \n",
      " 6   author_id                        589 non-null    int64 \n",
      " 7   public_metrics.retweet_count     589 non-null    int64 \n",
      " 8   public_metrics.reply_count       589 non-null    int64 \n",
      " 9   public_metrics.like_count        589 non-null    int64 \n",
      " 10  public_metrics.quote_count       589 non-null    int64 \n",
      " 11  public_metrics.impression_count  589 non-null    int64 \n",
      " 12  entities.mentions                392 non-null    object\n",
      " 13  geo.place_id                     589 non-null    object\n",
      " 14  geo.coordinates.type             1 non-null      object\n",
      " 15  geo.coordinates.coordinates      1 non-null      object\n",
      "dtypes: int64(7), object(9)\n",
      "memory usage: 73.8+ KB\n",
      "<class 'pandas.core.frame.DataFrame'>\n",
      "RangeIndex: 1270 entries, 0 to 1269\n",
      "Data columns (total 9 columns):\n",
      " #   Column                          Non-Null Count  Dtype \n",
      "---  ------                          --------------  ----- \n",
      " 0   location                        942 non-null    object\n",
      " 1   username                        1270 non-null   object\n",
      " 2   id                              1270 non-null   int64 \n",
      " 3   name                            1270 non-null   object\n",
      " 4   created_at                      1270 non-null   object\n",
      " 5   public_metrics.followers_count  1270 non-null   int64 \n",
      " 6   public_metrics.following_count  1270 non-null   int64 \n",
      " 7   public_metrics.tweet_count      1270 non-null   int64 \n",
      " 8   public_metrics.listed_count     1270 non-null   int64 \n",
      "dtypes: int64(5), object(4)\n",
      "memory usage: 89.4+ KB\n",
      "<class 'pandas.core.frame.DataFrame'>\n",
      "RangeIndex: 470 entries, 0 to 469\n",
      "Data columns (total 3 columns):\n",
      " #   Column     Non-Null Count  Dtype \n",
      "---  ------     --------------  ----- \n",
      " 0   country    470 non-null    object\n",
      " 1   full_name  470 non-null    object\n",
      " 2   id         470 non-null    object\n",
      "dtypes: object(3)\n",
      "memory usage: 11.1+ KB\n",
      "<class 'pandas.core.frame.DataFrame'>\n",
      "RangeIndex: 3 entries, 0 to 2\n",
      "Data columns (total 7 columns):\n",
      " #   Column         Non-Null Count  Dtype \n",
      "---  ------         --------------  ----- \n",
      " 0   parameter      3 non-null      object\n",
      " 1   resource_id    3 non-null      object\n",
      " 2   value          3 non-null      object\n",
      " 3   detail         3 non-null      object\n",
      " 4   title          3 non-null      object\n",
      " 5   resource_type  3 non-null      object\n",
      " 6   type           3 non-null      object\n",
      "dtypes: object(7)\n",
      "memory usage: 296.0+ bytes\n",
      "[None, None, None, None]\n"
     ]
    }
   ],
   "source": [
    "print(list(map(lambda x: x.info(), datas)))"
   ]
  },
  {
   "cell_type": "code",
   "execution_count": 9,
   "id": "51e48cae",
   "metadata": {},
   "outputs": [
    {
     "data": {
      "text/html": [
       "<div>\n",
       "<style scoped>\n",
       "    .dataframe tbody tr th:only-of-type {\n",
       "        vertical-align: middle;\n",
       "    }\n",
       "\n",
       "    .dataframe tbody tr th {\n",
       "        vertical-align: top;\n",
       "    }\n",
       "\n",
       "    .dataframe thead th {\n",
       "        text-align: right;\n",
       "    }\n",
       "</style>\n",
       "<table border=\"1\" class=\"dataframe\">\n",
       "  <thead>\n",
       "    <tr style=\"text-align: right;\">\n",
       "      <th></th>\n",
       "      <th>referenced_tweets</th>\n",
       "      <th>created_at</th>\n",
       "      <th>text</th>\n",
       "      <th>edit_history_tweet_ids</th>\n",
       "      <th>lang</th>\n",
       "      <th>id</th>\n",
       "      <th>author_id</th>\n",
       "      <th>public_metrics.retweet_count</th>\n",
       "      <th>public_metrics.reply_count</th>\n",
       "      <th>public_metrics.like_count</th>\n",
       "      <th>public_metrics.quote_count</th>\n",
       "      <th>public_metrics.impression_count</th>\n",
       "      <th>entities.mentions</th>\n",
       "      <th>geo.place_id</th>\n",
       "      <th>geo.coordinates.type</th>\n",
       "      <th>geo.coordinates.coordinates</th>\n",
       "    </tr>\n",
       "  </thead>\n",
       "  <tbody>\n",
       "    <tr>\n",
       "      <th>0</th>\n",
       "      <td>[{'type': 'replied_to', 'id': '162854163504166...</td>\n",
       "      <td>2023-02-22T23:46:49.000Z</td>\n",
       "      <td>@palitoborrotw @xmilianx_ Cuando dijo eso palito</td>\n",
       "      <td>['1628541852012904455']</td>\n",
       "      <td>es</td>\n",
       "      <td>1628541852012904455</td>\n",
       "      <td>880749655935660032</td>\n",
       "      <td>0</td>\n",
       "      <td>0</td>\n",
       "      <td>0</td>\n",
       "      <td>0</td>\n",
       "      <td>0</td>\n",
       "      <td>[{'start': 0, 'end': 14, 'username': 'palitobo...</td>\n",
       "      <td>000a15027a9003e0</td>\n",
       "      <td>NaN</td>\n",
       "      <td>NaN</td>\n",
       "    </tr>\n",
       "    <tr>\n",
       "      <th>1</th>\n",
       "      <td>[{'type': 'replied_to', 'id': '162852917090816...</td>\n",
       "      <td>2023-02-22T23:46:47.000Z</td>\n",
       "      <td>@AlfredoDarrigo @JMilei Dicen poder aplicar ma...</td>\n",
       "      <td>['1628541846707224576']</td>\n",
       "      <td>es</td>\n",
       "      <td>1628541846707224576</td>\n",
       "      <td>2799221573</td>\n",
       "      <td>0</td>\n",
       "      <td>0</td>\n",
       "      <td>0</td>\n",
       "      <td>0</td>\n",
       "      <td>0</td>\n",
       "      <td>[{'start': 0, 'end': 15, 'username': 'AlfredoD...</td>\n",
       "      <td>00f84d414936f28e</td>\n",
       "      <td>NaN</td>\n",
       "      <td>NaN</td>\n",
       "    </tr>\n",
       "    <tr>\n",
       "      <th>2</th>\n",
       "      <td>NaN</td>\n",
       "      <td>2023-02-22T23:46:36.000Z</td>\n",
       "      <td>¿Vos tenías ganas de enamorarte?\\nPorque despu...</td>\n",
       "      <td>['1628541799462469633']</td>\n",
       "      <td>es</td>\n",
       "      <td>1628541799462469633</td>\n",
       "      <td>229175968</td>\n",
       "      <td>0</td>\n",
       "      <td>0</td>\n",
       "      <td>0</td>\n",
       "      <td>0</td>\n",
       "      <td>1</td>\n",
       "      <td>NaN</td>\n",
       "      <td>6417871953fa5e86</td>\n",
       "      <td>NaN</td>\n",
       "      <td>NaN</td>\n",
       "    </tr>\n",
       "  </tbody>\n",
       "</table>\n",
       "</div>"
      ],
      "text/plain": [
       "                                   referenced_tweets   \n",
       "0  [{'type': 'replied_to', 'id': '162854163504166...  \\\n",
       "1  [{'type': 'replied_to', 'id': '162852917090816...   \n",
       "2                                                NaN   \n",
       "\n",
       "                 created_at   \n",
       "0  2023-02-22T23:46:49.000Z  \\\n",
       "1  2023-02-22T23:46:47.000Z   \n",
       "2  2023-02-22T23:46:36.000Z   \n",
       "\n",
       "                                                text   edit_history_tweet_ids   \n",
       "0   @palitoborrotw @xmilianx_ Cuando dijo eso palito  ['1628541852012904455']  \\\n",
       "1  @AlfredoDarrigo @JMilei Dicen poder aplicar ma...  ['1628541846707224576']   \n",
       "2  ¿Vos tenías ganas de enamorarte?\\nPorque despu...  ['1628541799462469633']   \n",
       "\n",
       "  lang                   id           author_id  public_metrics.retweet_count   \n",
       "0   es  1628541852012904455  880749655935660032                             0  \\\n",
       "1   es  1628541846707224576          2799221573                             0   \n",
       "2   es  1628541799462469633           229175968                             0   \n",
       "\n",
       "   public_metrics.reply_count  public_metrics.like_count   \n",
       "0                           0                          0  \\\n",
       "1                           0                          0   \n",
       "2                           0                          0   \n",
       "\n",
       "   public_metrics.quote_count  public_metrics.impression_count   \n",
       "0                           0                                0  \\\n",
       "1                           0                                0   \n",
       "2                           0                                1   \n",
       "\n",
       "                                   entities.mentions      geo.place_id   \n",
       "0  [{'start': 0, 'end': 14, 'username': 'palitobo...  000a15027a9003e0  \\\n",
       "1  [{'start': 0, 'end': 15, 'username': 'AlfredoD...  00f84d414936f28e   \n",
       "2                                                NaN  6417871953fa5e86   \n",
       "\n",
       "  geo.coordinates.type geo.coordinates.coordinates  \n",
       "0                  NaN                         NaN  \n",
       "1                  NaN                         NaN  \n",
       "2                  NaN                         NaN  "
      ]
     },
     "metadata": {},
     "output_type": "display_data"
    },
    {
     "data": {
      "text/html": [
       "<div>\n",
       "<style scoped>\n",
       "    .dataframe tbody tr th:only-of-type {\n",
       "        vertical-align: middle;\n",
       "    }\n",
       "\n",
       "    .dataframe tbody tr th {\n",
       "        vertical-align: top;\n",
       "    }\n",
       "\n",
       "    .dataframe thead th {\n",
       "        text-align: right;\n",
       "    }\n",
       "</style>\n",
       "<table border=\"1\" class=\"dataframe\">\n",
       "  <thead>\n",
       "    <tr style=\"text-align: right;\">\n",
       "      <th></th>\n",
       "      <th>location</th>\n",
       "      <th>username</th>\n",
       "      <th>id</th>\n",
       "      <th>name</th>\n",
       "      <th>created_at</th>\n",
       "      <th>public_metrics.followers_count</th>\n",
       "      <th>public_metrics.following_count</th>\n",
       "      <th>public_metrics.tweet_count</th>\n",
       "      <th>public_metrics.listed_count</th>\n",
       "    </tr>\n",
       "  </thead>\n",
       "  <tbody>\n",
       "    <tr>\n",
       "      <th>0</th>\n",
       "      <td>Cañada de Gomez, Argentina</td>\n",
       "      <td>LucioPasquali</td>\n",
       "      <td>880749655935660032</td>\n",
       "      <td>Lucio Pasquali</td>\n",
       "      <td>2017-06-30T11:27:36.000Z</td>\n",
       "      <td>647</td>\n",
       "      <td>423</td>\n",
       "      <td>25092</td>\n",
       "      <td>0</td>\n",
       "    </tr>\n",
       "    <tr>\n",
       "      <th>1</th>\n",
       "      <td>Argentina</td>\n",
       "      <td>palitoborrotw</td>\n",
       "      <td>1546666012187054080</td>\n",
       "      <td>palito borro un tweet ⭐️⭐️⭐️</td>\n",
       "      <td>2022-07-12T01:21:40.000Z</td>\n",
       "      <td>4803</td>\n",
       "      <td>38</td>\n",
       "      <td>3211</td>\n",
       "      <td>0</td>\n",
       "    </tr>\n",
       "    <tr>\n",
       "      <th>2</th>\n",
       "      <td>Villa Luro</td>\n",
       "      <td>xmilianx_</td>\n",
       "      <td>1242101574001967105</td>\n",
       "      <td>Palito</td>\n",
       "      <td>2020-03-23T14:51:16.000Z</td>\n",
       "      <td>119554</td>\n",
       "      <td>1180</td>\n",
       "      <td>59372</td>\n",
       "      <td>85</td>\n",
       "    </tr>\n",
       "  </tbody>\n",
       "</table>\n",
       "</div>"
      ],
      "text/plain": [
       "                     location       username                   id   \n",
       "0  Cañada de Gomez, Argentina  LucioPasquali   880749655935660032  \\\n",
       "1                   Argentina  palitoborrotw  1546666012187054080   \n",
       "2                  Villa Luro      xmilianx_  1242101574001967105   \n",
       "\n",
       "                           name                created_at   \n",
       "0                Lucio Pasquali  2017-06-30T11:27:36.000Z  \\\n",
       "1  palito borro un tweet ⭐️⭐️⭐️  2022-07-12T01:21:40.000Z   \n",
       "2                        Palito  2020-03-23T14:51:16.000Z   \n",
       "\n",
       "   public_metrics.followers_count  public_metrics.following_count   \n",
       "0                             647                             423  \\\n",
       "1                            4803                              38   \n",
       "2                          119554                            1180   \n",
       "\n",
       "   public_metrics.tweet_count  public_metrics.listed_count  \n",
       "0                       25092                            0  \n",
       "1                        3211                            0  \n",
       "2                       59372                           85  "
      ]
     },
     "metadata": {},
     "output_type": "display_data"
    },
    {
     "data": {
      "text/html": [
       "<div>\n",
       "<style scoped>\n",
       "    .dataframe tbody tr th:only-of-type {\n",
       "        vertical-align: middle;\n",
       "    }\n",
       "\n",
       "    .dataframe tbody tr th {\n",
       "        vertical-align: top;\n",
       "    }\n",
       "\n",
       "    .dataframe thead th {\n",
       "        text-align: right;\n",
       "    }\n",
       "</style>\n",
       "<table border=\"1\" class=\"dataframe\">\n",
       "  <thead>\n",
       "    <tr style=\"text-align: right;\">\n",
       "      <th></th>\n",
       "      <th>country</th>\n",
       "      <th>full_name</th>\n",
       "      <th>id</th>\n",
       "    </tr>\n",
       "  </thead>\n",
       "  <tbody>\n",
       "    <tr>\n",
       "      <th>0</th>\n",
       "      <td>Argentina</td>\n",
       "      <td>Cañada de Gomez, Argentina</td>\n",
       "      <td>000a15027a9003e0</td>\n",
       "    </tr>\n",
       "    <tr>\n",
       "      <th>1</th>\n",
       "      <td>Argentina</td>\n",
       "      <td>Córdoba, Argentina</td>\n",
       "      <td>00f84d414936f28e</td>\n",
       "    </tr>\n",
       "    <tr>\n",
       "      <th>2</th>\n",
       "      <td>United States</td>\n",
       "      <td>Silver Spring, MD</td>\n",
       "      <td>6417871953fa5e86</td>\n",
       "    </tr>\n",
       "  </tbody>\n",
       "</table>\n",
       "</div>"
      ],
      "text/plain": [
       "         country                   full_name                id\n",
       "0      Argentina  Cañada de Gomez, Argentina  000a15027a9003e0\n",
       "1      Argentina          Córdoba, Argentina  00f84d414936f28e\n",
       "2  United States           Silver Spring, MD  6417871953fa5e86"
      ]
     },
     "metadata": {},
     "output_type": "display_data"
    },
    {
     "data": {
      "text/html": [
       "<div>\n",
       "<style scoped>\n",
       "    .dataframe tbody tr th:only-of-type {\n",
       "        vertical-align: middle;\n",
       "    }\n",
       "\n",
       "    .dataframe tbody tr th {\n",
       "        vertical-align: top;\n",
       "    }\n",
       "\n",
       "    .dataframe thead th {\n",
       "        text-align: right;\n",
       "    }\n",
       "</style>\n",
       "<table border=\"1\" class=\"dataframe\">\n",
       "  <thead>\n",
       "    <tr style=\"text-align: right;\">\n",
       "      <th></th>\n",
       "      <th>parameter</th>\n",
       "      <th>resource_id</th>\n",
       "      <th>value</th>\n",
       "      <th>detail</th>\n",
       "      <th>title</th>\n",
       "      <th>resource_type</th>\n",
       "      <th>type</th>\n",
       "    </tr>\n",
       "  </thead>\n",
       "  <tbody>\n",
       "    <tr>\n",
       "      <th>0</th>\n",
       "      <td>entities.mentions.username</td>\n",
       "      <td>follambula</td>\n",
       "      <td>follambula</td>\n",
       "      <td>User has been suspended: [follambula].</td>\n",
       "      <td>Forbidden</td>\n",
       "      <td>user</td>\n",
       "      <td>https://api.twitter.com/2/problems/resource-no...</td>\n",
       "    </tr>\n",
       "    <tr>\n",
       "      <th>1</th>\n",
       "      <td>entities.mentions.username</td>\n",
       "      <td>AlexaCindy</td>\n",
       "      <td>AlexaCindy</td>\n",
       "      <td>User has been suspended: [AlexaCindy].</td>\n",
       "      <td>Forbidden</td>\n",
       "      <td>user</td>\n",
       "      <td>https://api.twitter.com/2/problems/resource-no...</td>\n",
       "    </tr>\n",
       "    <tr>\n",
       "      <th>2</th>\n",
       "      <td>entities.mentions.username</td>\n",
       "      <td>jmijarra</td>\n",
       "      <td>jmijarra</td>\n",
       "      <td>User has been suspended: [jmijarra].</td>\n",
       "      <td>Forbidden</td>\n",
       "      <td>user</td>\n",
       "      <td>https://api.twitter.com/2/problems/resource-no...</td>\n",
       "    </tr>\n",
       "  </tbody>\n",
       "</table>\n",
       "</div>"
      ],
      "text/plain": [
       "                    parameter resource_id       value   \n",
       "0  entities.mentions.username  follambula  follambula  \\\n",
       "1  entities.mentions.username  AlexaCindy  AlexaCindy   \n",
       "2  entities.mentions.username    jmijarra    jmijarra   \n",
       "\n",
       "                                   detail      title resource_type   \n",
       "0  User has been suspended: [follambula].  Forbidden          user  \\\n",
       "1  User has been suspended: [AlexaCindy].  Forbidden          user   \n",
       "2    User has been suspended: [jmijarra].  Forbidden          user   \n",
       "\n",
       "                                                type  \n",
       "0  https://api.twitter.com/2/problems/resource-no...  \n",
       "1  https://api.twitter.com/2/problems/resource-no...  \n",
       "2  https://api.twitter.com/2/problems/resource-no...  "
      ]
     },
     "metadata": {},
     "output_type": "display_data"
    },
    {
     "name": "stdout",
     "output_type": "stream",
     "text": [
      "[None, None, None, None]\n"
     ]
    }
   ],
   "source": [
    "print(list(map(lambda x: display(x.head(3)), datas)))"
   ]
  },
  {
   "cell_type": "code",
   "execution_count": 10,
   "id": "a3a44243",
   "metadata": {},
   "outputs": [
    {
     "name": "stdout",
     "output_type": "stream",
     "text": [
      "{'prometer', 'conseguir', 'suponer', 'recomendar', 'parecer', 'negar', 'comprobar', 'sentir', 'desear', 'mandar', 'gritar', 'dudar', 'demostrar', 'reclamar', 'solicitar', 'lamentar', 'saber', 'temer', 'confesar', 'pensar', 'ver', 'considerar', 'mencionar', 'responder', 'ojala', 'creer', 'confirmar', 'lograr', 'pedir', 'adivinar', 'apostar', 'suplicar', 'contar', 'entender', 'esperar', 'afirmar', 'predecir', 'querer', 'mostrar', 'admitir', 'jurar', 'imaginar', 'ordenar', 'recordar', 'prever', 'acordar', 'rogar', 'decir', 'suspirar', 'asegurar'}\n"
     ]
    }
   ],
   "source": [
    "verbs = set(files.get_verb_conjugations()['verb'].unique())\n",
    "print(verbs)"
   ]
  },
  {
   "cell_type": "code",
   "execution_count": 44,
   "id": "54217b87",
   "metadata": {},
   "outputs": [
    {
     "data": {
      "text/html": [
       "<div>\n",
       "<style scoped>\n",
       "    .dataframe tbody tr th:only-of-type {\n",
       "        vertical-align: middle;\n",
       "    }\n",
       "\n",
       "    .dataframe tbody tr th {\n",
       "        vertical-align: top;\n",
       "    }\n",
       "\n",
       "    .dataframe thead th {\n",
       "        text-align: right;\n",
       "    }\n",
       "</style>\n",
       "<table border=\"1\" class=\"dataframe\">\n",
       "  <thead>\n",
       "    <tr style=\"text-align: right;\">\n",
       "      <th></th>\n",
       "      <th>referenced_tweets</th>\n",
       "      <th>created_at</th>\n",
       "      <th>text</th>\n",
       "      <th>edit_history_tweet_ids</th>\n",
       "      <th>lang</th>\n",
       "      <th>id</th>\n",
       "      <th>author_id</th>\n",
       "      <th>public_metrics.retweet_count</th>\n",
       "      <th>public_metrics.reply_count</th>\n",
       "      <th>public_metrics.like_count</th>\n",
       "      <th>public_metrics.quote_count</th>\n",
       "      <th>public_metrics.impression_count</th>\n",
       "      <th>entities.mentions</th>\n",
       "      <th>geo.place_id</th>\n",
       "      <th>geo.coordinates.type</th>\n",
       "      <th>geo.coordinates.coordinates</th>\n",
       "    </tr>\n",
       "  </thead>\n",
       "  <tbody>\n",
       "    <tr>\n",
       "      <th>0</th>\n",
       "      <td>[{'type': 'replied_to', 'id': '162854163504166...</td>\n",
       "      <td>2023-02-22T23:46:49.000Z</td>\n",
       "      <td>@palitoborrotw @xmilianx_ Cuando dijo eso palito</td>\n",
       "      <td>['1628541852012904455']</td>\n",
       "      <td>es</td>\n",
       "      <td>1628541852012904455</td>\n",
       "      <td>880749655935660032</td>\n",
       "      <td>0</td>\n",
       "      <td>0</td>\n",
       "      <td>0</td>\n",
       "      <td>0</td>\n",
       "      <td>0</td>\n",
       "      <td>[{'start': 0, 'end': 14, 'username': 'palitobo...</td>\n",
       "      <td>000a15027a9003e0</td>\n",
       "      <td>NaN</td>\n",
       "      <td>NaN</td>\n",
       "    </tr>\n",
       "    <tr>\n",
       "      <th>1</th>\n",
       "      <td>[{'type': 'replied_to', 'id': '162852917090816...</td>\n",
       "      <td>2023-02-22T23:46:47.000Z</td>\n",
       "      <td>@AlfredoDarrigo @JMilei Dicen poder aplicar ma...</td>\n",
       "      <td>['1628541846707224576']</td>\n",
       "      <td>es</td>\n",
       "      <td>1628541846707224576</td>\n",
       "      <td>2799221573</td>\n",
       "      <td>0</td>\n",
       "      <td>0</td>\n",
       "      <td>0</td>\n",
       "      <td>0</td>\n",
       "      <td>0</td>\n",
       "      <td>[{'start': 0, 'end': 15, 'username': 'AlfredoD...</td>\n",
       "      <td>00f84d414936f28e</td>\n",
       "      <td>NaN</td>\n",
       "      <td>NaN</td>\n",
       "    </tr>\n",
       "    <tr>\n",
       "      <th>2</th>\n",
       "      <td>NaN</td>\n",
       "      <td>2023-02-22T23:46:36.000Z</td>\n",
       "      <td>¿Vos tenías ganas de enamorarte?\\nPorque despu...</td>\n",
       "      <td>['1628541799462469633']</td>\n",
       "      <td>es</td>\n",
       "      <td>1628541799462469633</td>\n",
       "      <td>229175968</td>\n",
       "      <td>0</td>\n",
       "      <td>0</td>\n",
       "      <td>0</td>\n",
       "      <td>0</td>\n",
       "      <td>1</td>\n",
       "      <td>NaN</td>\n",
       "      <td>6417871953fa5e86</td>\n",
       "      <td>NaN</td>\n",
       "      <td>NaN</td>\n",
       "    </tr>\n",
       "    <tr>\n",
       "      <th>3</th>\n",
       "      <td>[{'type': 'replied_to', 'id': '162841558618208...</td>\n",
       "      <td>2023-02-22T23:46:31.000Z</td>\n",
       "      <td>@MaihenH @PoleoRafael Para nadie es un secreto...</td>\n",
       "      <td>['1628541777882800130']</td>\n",
       "      <td>es</td>\n",
       "      <td>1628541777882800130</td>\n",
       "      <td>101557817</td>\n",
       "      <td>0</td>\n",
       "      <td>0</td>\n",
       "      <td>0</td>\n",
       "      <td>0</td>\n",
       "      <td>0</td>\n",
       "      <td>[{'start': 0, 'end': 8, 'username': 'MaihenH',...</td>\n",
       "      <td>015d19216c749864</td>\n",
       "      <td>NaN</td>\n",
       "      <td>NaN</td>\n",
       "    </tr>\n",
       "    <tr>\n",
       "      <th>4</th>\n",
       "      <td>[{'type': 'replied_to', 'id': '162854175502391...</td>\n",
       "      <td>2023-02-22T23:46:27.000Z</td>\n",
       "      <td>😏 Tiene que estar arriba 🆙 \\n\\nSi es un serum ...</td>\n",
       "      <td>['1628541760275087361']</td>\n",
       "      <td>es</td>\n",
       "      <td>1628541760275087361</td>\n",
       "      <td>1398853015042469889</td>\n",
       "      <td>0</td>\n",
       "      <td>1</td>\n",
       "      <td>0</td>\n",
       "      <td>0</td>\n",
       "      <td>2</td>\n",
       "      <td>NaN</td>\n",
       "      <td>0177894212b08f73</td>\n",
       "      <td>NaN</td>\n",
       "      <td>NaN</td>\n",
       "    </tr>\n",
       "  </tbody>\n",
       "</table>\n",
       "</div>"
      ],
      "text/plain": [
       "                                   referenced_tweets   \n",
       "0  [{'type': 'replied_to', 'id': '162854163504166...  \\\n",
       "1  [{'type': 'replied_to', 'id': '162852917090816...   \n",
       "2                                                NaN   \n",
       "3  [{'type': 'replied_to', 'id': '162841558618208...   \n",
       "4  [{'type': 'replied_to', 'id': '162854175502391...   \n",
       "\n",
       "                 created_at   \n",
       "0  2023-02-22T23:46:49.000Z  \\\n",
       "1  2023-02-22T23:46:47.000Z   \n",
       "2  2023-02-22T23:46:36.000Z   \n",
       "3  2023-02-22T23:46:31.000Z   \n",
       "4  2023-02-22T23:46:27.000Z   \n",
       "\n",
       "                                                text   edit_history_tweet_ids   \n",
       "0   @palitoborrotw @xmilianx_ Cuando dijo eso palito  ['1628541852012904455']  \\\n",
       "1  @AlfredoDarrigo @JMilei Dicen poder aplicar ma...  ['1628541846707224576']   \n",
       "2  ¿Vos tenías ganas de enamorarte?\\nPorque despu...  ['1628541799462469633']   \n",
       "3  @MaihenH @PoleoRafael Para nadie es un secreto...  ['1628541777882800130']   \n",
       "4  😏 Tiene que estar arriba 🆙 \\n\\nSi es un serum ...  ['1628541760275087361']   \n",
       "\n",
       "  lang                   id            author_id   \n",
       "0   es  1628541852012904455   880749655935660032  \\\n",
       "1   es  1628541846707224576           2799221573   \n",
       "2   es  1628541799462469633            229175968   \n",
       "3   es  1628541777882800130            101557817   \n",
       "4   es  1628541760275087361  1398853015042469889   \n",
       "\n",
       "   public_metrics.retweet_count  public_metrics.reply_count   \n",
       "0                             0                           0  \\\n",
       "1                             0                           0   \n",
       "2                             0                           0   \n",
       "3                             0                           0   \n",
       "4                             0                           1   \n",
       "\n",
       "   public_metrics.like_count  public_metrics.quote_count   \n",
       "0                          0                           0  \\\n",
       "1                          0                           0   \n",
       "2                          0                           0   \n",
       "3                          0                           0   \n",
       "4                          0                           0   \n",
       "\n",
       "   public_metrics.impression_count   \n",
       "0                                0  \\\n",
       "1                                0   \n",
       "2                                1   \n",
       "3                                0   \n",
       "4                                2   \n",
       "\n",
       "                                   entities.mentions      geo.place_id   \n",
       "0  [{'start': 0, 'end': 14, 'username': 'palitobo...  000a15027a9003e0  \\\n",
       "1  [{'start': 0, 'end': 15, 'username': 'AlfredoD...  00f84d414936f28e   \n",
       "2                                                NaN  6417871953fa5e86   \n",
       "3  [{'start': 0, 'end': 8, 'username': 'MaihenH',...  015d19216c749864   \n",
       "4                                                NaN  0177894212b08f73   \n",
       "\n",
       "  geo.coordinates.type geo.coordinates.coordinates  \n",
       "0                  NaN                         NaN  \n",
       "1                  NaN                         NaN  \n",
       "2                  NaN                         NaN  \n",
       "3                  NaN                         NaN  \n",
       "4                  NaN                         NaN  "
      ]
     },
     "execution_count": 44,
     "metadata": {},
     "output_type": "execute_result"
    }
   ],
   "source": [
    "ts = datas[0]\n",
    "ts.head()"
   ]
  },
  {
   "cell_type": "code",
   "execution_count": 45,
   "id": "ac660d58",
   "metadata": {},
   "outputs": [
    {
     "data": {
      "text/plain": [
       "True"
      ]
     },
     "execution_count": 45,
     "metadata": {},
     "output_type": "execute_result"
    }
   ],
   "source": [
    "ts['referenced_tweets'].iloc[2] is np.nan"
   ]
  },
  {
   "cell_type": "code",
   "execution_count": 46,
   "id": "7c37b7ef",
   "metadata": {},
   "outputs": [
    {
     "data": {
      "text/plain": [
       "0    [{'type': 'replied_to', 'id': '162854163504166...\n",
       "1    [{'type': 'replied_to', 'id': '162852917090816...\n",
       "2                                                 None\n",
       "3    [{'type': 'replied_to', 'id': '162841558618208...\n",
       "4    [{'type': 'replied_to', 'id': '162854175502391...\n",
       "Name: referenced_tweets, dtype: object"
      ]
     },
     "execution_count": 46,
     "metadata": {},
     "output_type": "execute_result"
    }
   ],
   "source": [
    "refd = ts['referenced_tweets'].apply(lambda x: literal_eval(x) if x is not np.nan else None)\n",
    "refd.head()"
   ]
  },
  {
   "cell_type": "code",
   "execution_count": 32,
   "id": "6d849d3b",
   "metadata": {},
   "outputs": [
    {
     "data": {
      "text/plain": [
       "176    0\n",
       "179    0\n",
       "473    0\n",
       "472    0\n",
       "470    0\n",
       "      ..\n",
       "234    1\n",
       "230    1\n",
       "228    1\n",
       "247    1\n",
       "588    1\n",
       "Name: referenced_tweets, Length: 589, dtype: int64"
      ]
     },
     "execution_count": 32,
     "metadata": {},
     "output_type": "execute_result"
    }
   ],
   "source": [
    "refd.apply(lambda x: len(x) if x is not None else 0).sort_values()"
   ]
  },
  {
   "cell_type": "code",
   "execution_count": 35,
   "id": "ceeea0c9",
   "metadata": {},
   "outputs": [
    {
     "name": "stdout",
     "output_type": "stream",
     "text": [
      "1628511098742661122\n"
     ]
    }
   ],
   "source": [
    "for t in refd.iloc[588]:\n",
    "    print(t['id'])"
   ]
  },
  {
   "cell_type": "code",
   "execution_count": 47,
   "id": "4c6cd52e",
   "metadata": {},
   "outputs": [
    {
     "data": {
      "text/plain": [
       "'2023-02-22T21:49:42.000Z'"
      ]
     },
     "execution_count": 47,
     "metadata": {},
     "output_type": "execute_result"
    }
   ],
   "source": [
    "ts.iloc[588]['created_at']"
   ]
  },
  {
   "cell_type": "code",
   "execution_count": 49,
   "id": "39d0ee0e",
   "metadata": {},
   "outputs": [
    {
     "data": {
      "text/plain": [
       "datetime.datetime(2023, 2, 22, 21, 49, 42)"
      ]
     },
     "execution_count": 49,
     "metadata": {},
     "output_type": "execute_result"
    }
   ],
   "source": [
    "datetime.strptime(ts.iloc[588]['created_at'], '%Y-%m-%dT%H:%M:%S.%fZ')"
   ]
  },
  {
   "cell_type": "code",
   "execution_count": 50,
   "id": "614566ce",
   "metadata": {},
   "outputs": [
    {
     "data": {
      "text/plain": [
       "0    [{'start': 0, 'end': 14, 'username': 'palitobo...\n",
       "1    [{'start': 0, 'end': 15, 'username': 'AlfredoD...\n",
       "2                                                  NaN\n",
       "3    [{'start': 0, 'end': 8, 'username': 'MaihenH',...\n",
       "4                                                  NaN\n",
       "Name: entities.mentions, dtype: object"
      ]
     },
     "execution_count": 50,
     "metadata": {},
     "output_type": "execute_result"
    }
   ],
   "source": [
    "mens = ts['entities.mentions']\n",
    "mens.head()"
   ]
  },
  {
   "cell_type": "code",
   "execution_count": 51,
   "id": "1da2d9b8",
   "metadata": {},
   "outputs": [
    {
     "data": {
      "text/plain": [
       "\"[{'start': 0, 'end': 8, 'username': 'MaihenH', 'id': '1610496259'}, {'start': 9, 'end': 21, 'username': 'PoleoRafael', 'id': '307549658'}]\""
      ]
     },
     "execution_count": 51,
     "metadata": {},
     "output_type": "execute_result"
    }
   ],
   "source": [
    "mens.iloc[3]"
   ]
  },
  {
   "cell_type": "code",
   "execution_count": 52,
   "id": "4c5a0323",
   "metadata": {},
   "outputs": [
    {
     "data": {
      "text/plain": [
       "0    ['1628541852012904455']\n",
       "1    ['1628541846707224576']\n",
       "2    ['1628541799462469633']\n",
       "3    ['1628541777882800130']\n",
       "4    ['1628541760275087361']\n",
       "Name: edit_history_tweet_ids, dtype: object"
      ]
     },
     "execution_count": 52,
     "metadata": {},
     "output_type": "execute_result"
    }
   ],
   "source": [
    "edits = ts['edit_history_tweet_ids']\n",
    "edits.head()"
   ]
  },
  {
   "cell_type": "code",
   "execution_count": 54,
   "id": "f835d33e",
   "metadata": {},
   "outputs": [
    {
     "data": {
      "text/plain": [
       "0      1\n",
       "388    1\n",
       "389    1\n",
       "390    1\n",
       "391    1\n",
       "      ..\n",
       "197    1\n",
       "198    1\n",
       "199    1\n",
       "183    1\n",
       "588    1\n",
       "Name: edit_history_tweet_ids, Length: 589, dtype: int64"
      ]
     },
     "execution_count": 54,
     "metadata": {},
     "output_type": "execute_result"
    }
   ],
   "source": [
    "edits.apply(literal_eval).apply(len).sort_values()"
   ]
  },
  {
   "cell_type": "code",
   "execution_count": 55,
   "id": "85855dfc",
   "metadata": {},
   "outputs": [
    {
     "data": {
      "text/html": [
       "<div>\n",
       "<style scoped>\n",
       "    .dataframe tbody tr th:only-of-type {\n",
       "        vertical-align: middle;\n",
       "    }\n",
       "\n",
       "    .dataframe tbody tr th {\n",
       "        vertical-align: top;\n",
       "    }\n",
       "\n",
       "    .dataframe thead th {\n",
       "        text-align: right;\n",
       "    }\n",
       "</style>\n",
       "<table border=\"1\" class=\"dataframe\">\n",
       "  <thead>\n",
       "    <tr style=\"text-align: right;\">\n",
       "      <th></th>\n",
       "      <th>location</th>\n",
       "      <th>username</th>\n",
       "      <th>id</th>\n",
       "      <th>name</th>\n",
       "      <th>created_at</th>\n",
       "      <th>public_metrics.followers_count</th>\n",
       "      <th>public_metrics.following_count</th>\n",
       "      <th>public_metrics.tweet_count</th>\n",
       "      <th>public_metrics.listed_count</th>\n",
       "    </tr>\n",
       "  </thead>\n",
       "  <tbody>\n",
       "    <tr>\n",
       "      <th>0</th>\n",
       "      <td>Cañada de Gomez, Argentina</td>\n",
       "      <td>LucioPasquali</td>\n",
       "      <td>880749655935660032</td>\n",
       "      <td>Lucio Pasquali</td>\n",
       "      <td>2017-06-30T11:27:36.000Z</td>\n",
       "      <td>647</td>\n",
       "      <td>423</td>\n",
       "      <td>25092</td>\n",
       "      <td>0</td>\n",
       "    </tr>\n",
       "    <tr>\n",
       "      <th>1</th>\n",
       "      <td>Argentina</td>\n",
       "      <td>palitoborrotw</td>\n",
       "      <td>1546666012187054080</td>\n",
       "      <td>palito borro un tweet ⭐️⭐️⭐️</td>\n",
       "      <td>2022-07-12T01:21:40.000Z</td>\n",
       "      <td>4803</td>\n",
       "      <td>38</td>\n",
       "      <td>3211</td>\n",
       "      <td>0</td>\n",
       "    </tr>\n",
       "    <tr>\n",
       "      <th>2</th>\n",
       "      <td>Villa Luro</td>\n",
       "      <td>xmilianx_</td>\n",
       "      <td>1242101574001967105</td>\n",
       "      <td>Palito</td>\n",
       "      <td>2020-03-23T14:51:16.000Z</td>\n",
       "      <td>119554</td>\n",
       "      <td>1180</td>\n",
       "      <td>59372</td>\n",
       "      <td>85</td>\n",
       "    </tr>\n",
       "    <tr>\n",
       "      <th>3</th>\n",
       "      <td>Córdoba, Argentina</td>\n",
       "      <td>franco280202</td>\n",
       "      <td>2799221573</td>\n",
       "      <td>Soy Franco</td>\n",
       "      <td>2014-10-02T01:33:23.000Z</td>\n",
       "      <td>1151</td>\n",
       "      <td>2109</td>\n",
       "      <td>50516</td>\n",
       "      <td>2</td>\n",
       "    </tr>\n",
       "    <tr>\n",
       "      <th>4</th>\n",
       "      <td>NaN</td>\n",
       "      <td>AlfredoDarrigo</td>\n",
       "      <td>4234892896</td>\n",
       "      <td>Alfredo D'Arrigo</td>\n",
       "      <td>2015-11-20T13:42:25.000Z</td>\n",
       "      <td>56948</td>\n",
       "      <td>50621</td>\n",
       "      <td>155809</td>\n",
       "      <td>63</td>\n",
       "    </tr>\n",
       "  </tbody>\n",
       "</table>\n",
       "</div>"
      ],
      "text/plain": [
       "                     location        username                   id   \n",
       "0  Cañada de Gomez, Argentina   LucioPasquali   880749655935660032  \\\n",
       "1                   Argentina   palitoborrotw  1546666012187054080   \n",
       "2                  Villa Luro       xmilianx_  1242101574001967105   \n",
       "3          Córdoba, Argentina    franco280202           2799221573   \n",
       "4                         NaN  AlfredoDarrigo           4234892896   \n",
       "\n",
       "                           name                created_at   \n",
       "0                Lucio Pasquali  2017-06-30T11:27:36.000Z  \\\n",
       "1  palito borro un tweet ⭐️⭐️⭐️  2022-07-12T01:21:40.000Z   \n",
       "2                        Palito  2020-03-23T14:51:16.000Z   \n",
       "3                    Soy Franco  2014-10-02T01:33:23.000Z   \n",
       "4              Alfredo D'Arrigo  2015-11-20T13:42:25.000Z   \n",
       "\n",
       "   public_metrics.followers_count  public_metrics.following_count   \n",
       "0                             647                             423  \\\n",
       "1                            4803                              38   \n",
       "2                          119554                            1180   \n",
       "3                            1151                            2109   \n",
       "4                           56948                           50621   \n",
       "\n",
       "   public_metrics.tweet_count  public_metrics.listed_count  \n",
       "0                       25092                            0  \n",
       "1                        3211                            0  \n",
       "2                       59372                           85  \n",
       "3                       50516                            2  \n",
       "4                      155809                           63  "
      ]
     },
     "execution_count": 55,
     "metadata": {},
     "output_type": "execute_result"
    }
   ],
   "source": [
    "us = datas[1]\n",
    "us.head()"
   ]
  },
  {
   "cell_type": "code",
   "execution_count": 56,
   "id": "095a0ec2",
   "metadata": {},
   "outputs": [
    {
     "data": {
      "text/plain": [
       "array([ 880749655935660032, 1546666012187054080, 1242101574001967105, ...,\n",
       "       1551439316206792704,           234810756,           868207644])"
      ]
     },
     "execution_count": 56,
     "metadata": {},
     "output_type": "execute_result"
    }
   ],
   "source": [
    "us['id'].unique()"
   ]
  },
  {
   "cell_type": "code",
   "execution_count": null,
   "id": "cd25037c",
   "metadata": {},
   "outputs": [],
   "source": []
  }
 ],
 "metadata": {
  "kernelspec": {
   "display_name": "Python 3 (ipykernel)",
   "language": "python",
   "name": "python3"
  },
  "language_info": {
   "codemirror_mode": {
    "name": "ipython",
    "version": 3
   },
   "file_extension": ".py",
   "mimetype": "text/x-python",
   "name": "python",
   "nbconvert_exporter": "python",
   "pygments_lexer": "ipython3",
   "version": "3.10.9"
  }
 },
 "nbformat": 4,
 "nbformat_minor": 5
}
