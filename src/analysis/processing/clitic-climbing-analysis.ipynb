{
 "cells": [
  {
   "cell_type": "code",
   "execution_count": 1,
   "id": "df3a96fa",
   "metadata": {},
   "outputs": [],
   "source": [
    "import pandas as pd\n",
    "import regex as re\n",
    "import spacy\n",
    "spacy.require_gpu()\n",
    "from torch.utils import dlpack"
   ]
  },
  {
   "cell_type": "code",
   "execution_count": 2,
   "id": "8afc7d3d",
   "metadata": {},
   "outputs": [],
   "source": [
    "import importlib\n",
    "import sys\n",
    "\n",
    "spec_src = importlib.util.spec_from_file_location(\n",
    "    'src', \n",
    "    '../../__init__.py')\n",
    "m = importlib.util.module_from_spec(spec_src)\n",
    "sys.modules[spec_src.name] = m\n",
    "spec_src.loader.exec_module(m)\n",
    "\n",
    "from src import utils"
   ]
  },
  {
   "cell_type": "code",
   "execution_count": 3,
   "id": "88e932f1",
   "metadata": {},
   "outputs": [],
   "source": [
    "conf = utils.get_config('p')"
   ]
  },
  {
   "cell_type": "code",
   "execution_count": 4,
   "id": "a3578046",
   "metadata": {},
   "outputs": [
    {
     "name": "stdout",
     "output_type": "stream",
     "text": [
      "<class 'pandas.core.frame.DataFrame'>\n",
      "RangeIndex: 20945 entries, 0 to 20944\n",
      "Data columns (total 8 columns):\n",
      " #   Column        Non-Null Count  Dtype  \n",
      "---  ------        --------------  -----  \n",
      " 0   verbs         20945 non-null  string \n",
      " 1   tweet_id      20945 non-null  float64\n",
      " 2   text_orig     20945 non-null  string \n",
      " 3   normalized    20945 non-null  object \n",
      " 4   has_ccomp     20945 non-null  bool   \n",
      " 5   dependencies  20945 non-null  string \n",
      " 6   pos           20945 non-null  object \n",
      " 7   details       20945 non-null  object \n",
      "dtypes: bool(1), float64(1), object(3), string(3)\n",
      "memory usage: 1.1+ MB\n"
     ]
    }
   ],
   "source": [
    "data = utils.get_csv('twitter', utils.get_save_path('p', 'twitter', lang='es')/'2022-02-08 16:34:36'/'20210726'/'acordar'/'sample-acordar-tweets-processed.csv')\n",
    "data.info()"
   ]
  },
  {
   "cell_type": "code",
   "execution_count": 5,
   "id": "6869a524",
   "metadata": {},
   "outputs": [
    {
     "data": {
      "text/plain": [
       "0    @MicaaFerreiraa(PROPN) Si(INTJ) si(SCONJ) se(P...\n",
       "1    Nunca(ADV) he(AUX) escuchado(VERB) ninguna(DET...\n",
       "2    ESPNF90(PROPN) van(AUX) a(ADP) hablar(VERB) to...\n",
       "3    Lo(PRON) único(ADJ) que(PRON) quiero(VERB) es(...\n",
       "4    @PauMatalap(PROPN) hospital(NOUN) Pues(SCONJ) ...\n",
       "Name: pos, dtype: object"
      ]
     },
     "execution_count": 5,
     "metadata": {},
     "output_type": "execute_result"
    }
   ],
   "source": [
    "data['pos'].head()"
   ]
  },
  {
   "cell_type": "code",
   "execution_count": 6,
   "id": "3128fd61",
   "metadata": {},
   "outputs": [],
   "source": [
    "pos_pat = r'\\(\\bAUX\\b\\)|\\(\\bVERB\\b\\)'"
   ]
  },
  {
   "cell_type": "code",
   "execution_count": 7,
   "id": "e2f173ab",
   "metadata": {},
   "outputs": [],
   "source": [
    "# TODO: improve by checking the word's lemma to ensure any 'AUX' is a verb\n",
    "\n",
    "def get_consecutive_verbs(text: str) -> (int, list):\n",
    "    \"\"\"\n",
    "    Count instances of consecutive verbs \n",
    "    \n",
    "    :param text: input text string\n",
    "    \n",
    "    :return: tuple (num of consecutive verb groups, list of consecutive groups)\n",
    "    \"\"\"\n",
    "    \n",
    "    text = text.split()\n",
    "    \n",
    "    # Holder for consecutive group\n",
    "    consec = []\n",
    "    # All consecutive verbs\n",
    "    cverbs = []\n",
    "    \n",
    "    for word in text:\n",
    "        match = re.search(pos_pat, word)\n",
    "        \n",
    "        if match is None:\n",
    "            consec = []\n",
    "            continue\n",
    "            \n",
    "        mat_group = match.group(0)\n",
    "        \n",
    "        if len(mat_group) != 0:\n",
    "            consec.append(word)\n",
    "            \n",
    "            # Non-verb; if holder has >= 2 verbs, record it\n",
    "            if len(consec) > 1:\n",
    "                cverbs.append(consec)\n",
    "            continue\n",
    "    \n",
    "    return len(cverbs), cverbs"
   ]
  },
  {
   "cell_type": "code",
   "execution_count": 8,
   "id": "acacbb95",
   "metadata": {},
   "outputs": [],
   "source": [
    "def test_func(func, idx, correct, **params):\n",
    "    out = func(**params)\n",
    "    \n",
    "    print(f'Function {func.__name__}(), returned: \\n\\t{out}')\n",
    "    print(f'Desired output: \\n\\t{correct}')\n",
    "    \n",
    "    if idx != -1:\n",
    "        out = func(**params)[idx]\n",
    "    \n",
    "    return out == correct"
   ]
  },
  {
   "cell_type": "code",
   "execution_count": 14,
   "id": "6f5c2d46",
   "metadata": {},
   "outputs": [
    {
     "data": {
      "text/html": [
       "<div>\n",
       "<style scoped>\n",
       "    .dataframe tbody tr th:only-of-type {\n",
       "        vertical-align: middle;\n",
       "    }\n",
       "\n",
       "    .dataframe tbody tr th {\n",
       "        vertical-align: top;\n",
       "    }\n",
       "\n",
       "    .dataframe thead th {\n",
       "        text-align: right;\n",
       "    }\n",
       "</style>\n",
       "<table border=\"1\" class=\"dataframe\">\n",
       "  <thead>\n",
       "    <tr style=\"text-align: right;\">\n",
       "      <th></th>\n",
       "      <th>tweet_id</th>\n",
       "      <th>text_orig</th>\n",
       "      <th>pos</th>\n",
       "      <th>details</th>\n",
       "    </tr>\n",
       "  </thead>\n",
       "  <tbody>\n",
       "    <tr>\n",
       "      <th>10734</th>\n",
       "      <td>1.419572e+18</td>\n",
       "      <td>Casi todo salió bien hoy y no sé qué más le po...</td>\n",
       "      <td>Casi(ADV) todo(PRON) salió(VERB) bien(ADV) hoy...</td>\n",
       "      <td>&lt;Casi&gt;(casi,True) &lt;todo&gt;(todo,True) &lt;salió&gt;(sa...</td>\n",
       "    </tr>\n",
       "    <tr>\n",
       "      <th>1084</th>\n",
       "      <td>1.419547e+18</td>\n",
       "      <td>A veces vengo disque a twittear algo para ti p...</td>\n",
       "      <td>A(ADP) veces(NOUN) vengo(VERB) disque(NOUN) a(...</td>\n",
       "      <td>&lt;A&gt;(a,False) &lt;veces&gt;(veces,True) &lt;vengo&gt;(venir...</td>\n",
       "    </tr>\n",
       "    <tr>\n",
       "      <th>3484</th>\n",
       "      <td>1.419739e+18</td>\n",
       "      <td>@rosadiezglez ¿Por qué hablas en nombre de los...</td>\n",
       "      <td>@rosadiezglez(PROPN) Por(ADP) qué(PRON) hablas...</td>\n",
       "      <td>&lt;@rosadiezglez&gt;(@rosadiezglez,False) &lt;Por&gt;(por...</td>\n",
       "    </tr>\n",
       "    <tr>\n",
       "      <th>13829</th>\n",
       "      <td>1.419744e+18</td>\n",
       "      <td>@todoliderazgo Muy preocupante todo esto. Y mu...</td>\n",
       "      <td>@todoliderazgo(PROPN) Muy(ADV) preocupante(ADJ...</td>\n",
       "      <td>&lt;@todoliderazgo&gt;(@todoliderazgo,False) &lt;Muy&gt;(m...</td>\n",
       "    </tr>\n",
       "    <tr>\n",
       "      <th>4707</th>\n",
       "      <td>1.419445e+18</td>\n",
       "      <td>@elespectador @IvanDuque El espíritu de escuch...</td>\n",
       "      <td>@elespectador(NOUN) @IvanDuque(PROPN) El(DET) ...</td>\n",
       "      <td>&lt;@elespectador&gt;(@elespectador,False) &lt;@IvanDuq...</td>\n",
       "    </tr>\n",
       "  </tbody>\n",
       "</table>\n",
       "</div>"
      ],
      "text/plain": [
       "           tweet_id                                          text_orig  \\\n",
       "10734  1.419572e+18  Casi todo salió bien hoy y no sé qué más le po...   \n",
       "1084   1.419547e+18  A veces vengo disque a twittear algo para ti p...   \n",
       "3484   1.419739e+18  @rosadiezglez ¿Por qué hablas en nombre de los...   \n",
       "13829  1.419744e+18  @todoliderazgo Muy preocupante todo esto. Y mu...   \n",
       "4707   1.419445e+18  @elespectador @IvanDuque El espíritu de escuch...   \n",
       "\n",
       "                                                     pos  \\\n",
       "10734  Casi(ADV) todo(PRON) salió(VERB) bien(ADV) hoy...   \n",
       "1084   A(ADP) veces(NOUN) vengo(VERB) disque(NOUN) a(...   \n",
       "3484   @rosadiezglez(PROPN) Por(ADP) qué(PRON) hablas...   \n",
       "13829  @todoliderazgo(PROPN) Muy(ADV) preocupante(ADJ...   \n",
       "4707   @elespectador(NOUN) @IvanDuque(PROPN) El(DET) ...   \n",
       "\n",
       "                                                 details  \n",
       "10734  <Casi>(casi,True) <todo>(todo,True) <salió>(sa...  \n",
       "1084   <A>(a,False) <veces>(veces,True) <vengo>(venir...  \n",
       "3484   <@rosadiezglez>(@rosadiezglez,False) <Por>(por...  \n",
       "13829  <@todoliderazgo>(@todoliderazgo,False) <Muy>(m...  \n",
       "4707   <@elespectador>(@elespectador,False) <@IvanDuq...  "
      ]
     },
     "execution_count": 14,
     "metadata": {},
     "output_type": "execute_result"
    }
   ],
   "source": [
    "test_input = data.sample(5, random_state=1).loc[:, ['tweet_id', 'text_orig', 'pos', 'details']]\n",
    "test_input.head()"
   ]
  },
  {
   "cell_type": "code",
   "execution_count": 18,
   "id": "f56076dd",
   "metadata": {},
   "outputs": [
    {
     "data": {
      "text/plain": [
       "10734                                                                                        Casi todo salió bien hoy y no sé qué más le podría pedir a la vida. Tengo gente súper rifada en cocina y amigues que están dispuestxs a partírsela por mí. Blessed af.\n",
       "1084                                                                                                        A veces vengo disque a twittear algo para ti pero si que sepas que es para ti y luego que lo escribo, noto que soy muy evidente y lo termino borrando 😶\n",
       "3484                                                                                                                   @rosadiezglez ¿Por qué hablas en nombre de los españoles? Los españoles dejaron de votar te hace mucho ya, no creo que representes a muchos.\n",
       "13829    @todoliderazgo Muy preocupante todo esto. Y muy preocupante que la mayoría lo vea como normal y justo. En Francia 74 diputados han recurrido la medida al Constitucional, en Italia la gente empieza a manifestar su malestar. A ver qué pasa aquí...🤷🏻‍♂️\n",
       "4707                                                                                                                                                 @elespectador @IvanDuque El espíritu de escuchar y dialogar está pero se niega a usarlo! Un completo farsante!\n",
       "Name: text_orig, dtype: string"
      ]
     },
     "metadata": {},
     "output_type": "display_data"
    },
    {
     "data": {
      "text/plain": [
       "10734                                                                                                                                 Casi(ADV) todo(PRON) salió(VERB) bien(ADV) hoy(ADV) y(CCONJ) no(ADV) sé(VERB) qué(PRON) más(ADV) le(PRON) podría(AUX) pedir(VERB) a(ADP) la(DET) vida(NOUN) Tengo(VERB) gente(NOUN) súper(ADJ) rifada(ADJ) en(ADP) cocina(NOUN) y(CCONJ) amigues(NOUN) que(PRON) están(AUX) dispuestxs(ADJ) a(ADP) partírsela(VERB) por(ADP) mí(PRON) Blessed(PROPN) af(ADV)\n",
       "1084                                                                                                                                                 A(ADP) veces(NOUN) vengo(VERB) disque(NOUN) a(ADP) twittear(VERB) algo(PRON) para(ADP) ti(PRON) pero(CCONJ) si(SCONJ) que(SCONJ) sepas(VERB) que(SCONJ) es(AUX) para(ADP) ti(PRON) y(CCONJ) luego(ADV) que(SCONJ) lo(PRON) escribo(VERB) noto(VERB) que(SCONJ) soy(AUX) muy(ADV) evidente(ADJ) y(CCONJ) lo(PRON) termino(VERB) borrando(VERB)\n",
       "3484                                                                                                                                                                                                              @rosadiezglez(PROPN) Por(ADP) qué(PRON) hablas(VERB) en(ADP) nombre(NOUN) de(ADP) los(DET) españoles(NOUN) Los(DET) españoles(NOUN) dejaron(VERB) de(ADP) votar(VERB) te(PRON) hace(VERB) mucho(ADV) ya(ADV) no(ADV) creo(VERB) que(SCONJ) representes(VERB) a(ADP) muchos(PRON)\n",
       "13829    @todoliderazgo(PROPN) Muy(ADV) preocupante(ADJ) todo(DET) esto(PRON) Y(CCONJ) muy(ADV) preocupante(ADJ) que(SCONJ) la(DET) mayoría(NOUN) lo(PRON) vea(VERB) como(SCONJ) normal(ADJ) y(CCONJ) justo(ADJ) En(ADP) Francia(PROPN) 74(NUM) diputados(NOUN) han(AUX) recurrido(VERB) la(DET) medida(NOUN) al(ADP) Constitucional(PROPN) en(ADP) Italia(PROPN) la(DET) gente(NOUN) empieza(VERB) a(ADP) manifestar(VERB) su(DET) malestar(NOUN) A(ADP) ver(VERB) qué(PRON) pasa(VERB) aquí(ADV)\n",
       "4707                                                                                                                                                                                                                                                                              @elespectador(NOUN) @IvanDuque(PROPN) El(DET) espíritu(NOUN) de(ADP) escuchar(VERB) y(CCONJ) dialogar(VERB) está(VERB) pero(CCONJ) se(PRON) niega(VERB) a(ADP) usarlo(VERB) Un(DET) completo(ADJ) farsante(NOUN)\n",
       "Name: pos, dtype: object"
      ]
     },
     "metadata": {},
     "output_type": "display_data"
    }
   ],
   "source": [
    "with pd.option_context('display.max_colwidth', None):\n",
    "    display(test_input['text_orig'])\n",
    "    display(test_input['pos'])"
   ]
  },
  {
   "cell_type": "code",
   "execution_count": 16,
   "id": "06d43f23",
   "metadata": {},
   "outputs": [],
   "source": [
    "correct_out = [1, 0, 0, 1, 1]"
   ]
  },
  {
   "cell_type": "code",
   "execution_count": 17,
   "id": "59c6fbf5",
   "metadata": {},
   "outputs": [
    {
     "name": "stdout",
     "output_type": "stream",
     "text": [
      "!!!Entry 1.4195715185902633e+18!!!\n",
      "Function get_consecutive_verbs(), returned: \n",
      "\t(1, [['podría(AUX)', 'pedir(VERB)']])\n",
      "Desired output: \n",
      "\t1\n",
      "True\n",
      "\n",
      "\n",
      "!!!Entry 1.419547490580316e+18!!!\n",
      "Function get_consecutive_verbs(), returned: \n",
      "\t(2, [['escribo(VERB)', 'noto(VERB)'], ['termino(VERB)', 'borrando(VERB)']])\n",
      "Desired output: \n",
      "\t0\n",
      "False\n",
      "\n",
      "\n",
      "!!!Entry 1.419738680009298e+18!!!\n",
      "Function get_consecutive_verbs(), returned: \n",
      "\t(0, [])\n",
      "Desired output: \n",
      "\t0\n",
      "True\n",
      "\n",
      "\n",
      "!!!Entry 1.419743930279682e+18!!!\n",
      "Function get_consecutive_verbs(), returned: \n",
      "\t(1, [['han(AUX)', 'recurrido(VERB)']])\n",
      "Desired output: \n",
      "\t1\n",
      "True\n",
      "\n",
      "\n",
      "!!!Entry 1.419444543095722e+18!!!\n",
      "Function get_consecutive_verbs(), returned: \n",
      "\t(1, [['dialogar(VERB)', 'está(VERB)']])\n",
      "Desired output: \n",
      "\t1\n",
      "True\n",
      "\n",
      "\n"
     ]
    }
   ],
   "source": [
    "for i, t in enumerate(test_input.iterrows()):\n",
    "    entry = t[1]\n",
    "    \n",
    "    print(f'!!!Entry {entry[\"tweet_id\"]}!!!')\n",
    "    print(test_func(get_consecutive_verbs, 0, correct=correct_out[i], text=entry['pos']))\n",
    "    print('\\n')"
   ]
  },
  {
   "cell_type": "code",
   "execution_count": null,
   "id": "376aa8b6",
   "metadata": {},
   "outputs": [],
   "source": []
  }
 ],
 "metadata": {
  "kernelspec": {
   "display_name": "nlp",
   "language": "python",
   "name": "nlp"
  },
  "language_info": {
   "codemirror_mode": {
    "name": "ipython",
    "version": 3
   },
   "file_extension": ".py",
   "mimetype": "text/x-python",
   "name": "python",
   "nbconvert_exporter": "python",
   "pygments_lexer": "ipython3",
   "version": "3.8.12"
  }
 },
 "nbformat": 4,
 "nbformat_minor": 5
}
