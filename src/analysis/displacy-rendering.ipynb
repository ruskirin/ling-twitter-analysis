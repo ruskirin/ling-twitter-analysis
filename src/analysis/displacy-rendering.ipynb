{
 "cells": [
  {
   "cell_type": "code",
   "execution_count": 19,
   "id": "282b9176",
   "metadata": {},
   "outputs": [],
   "source": [
    "import pandas as pd\n",
    "import regex\n",
    "\n",
    "import spacy\n",
    "spacy.require_gpu()\n",
    "from spacy import displacy\n",
    "from torch.utils import dlpack"
   ]
  },
  {
   "cell_type": "code",
   "execution_count": 2,
   "id": "c32e1c67",
   "metadata": {},
   "outputs": [],
   "source": [
    "import importlib\n",
    "import sys\n",
    "\n",
    "spec_src = importlib.util.spec_from_file_location(\n",
    "    'src', \n",
    "    '../../__init__.py')\n",
    "m = importlib.util.module_from_spec(spec_src)\n",
    "sys.modules[spec_src.name] = m\n",
    "spec_src.loader.exec_module(m)\n",
    "\n",
    "from src import utils"
   ]
  },
  {
   "cell_type": "code",
   "execution_count": 16,
   "id": "d54000c9",
   "metadata": {},
   "outputs": [],
   "source": [
    "conf = utils.get_config('p')"
   ]
  },
  {
   "cell_type": "code",
   "execution_count": 3,
   "id": "7267fb9e",
   "metadata": {},
   "outputs": [],
   "source": [
    "texts = ['no[advmod] necesariamente[advmod] porque[mark] te[iobj] invito[csubj] a[mark] salir[xcomp] quiere[ROOT] decir[compound] que[mark] te[iobj] quiero[ccomp] echar[xcomp] los[det] perros[obj]', \n",
    "         '[punct] normalicen[ccomp] compartir[xcomp] el[det] tiempo[obj] con[case] otras[det] personas[obl] sin[case] necesidad[obl] de[mark] involucrarse[acl] afectivamente[advmod]',\n",
    "         '[punct] se[obj] llama[ROOT] amistad[obj]',\n",
    "         '@andreschile6[ROOT] @fpvrprensa[ROOT] @flordenarnia[nsubj] le[obj] están[aux] quitando[ROOT] el[det] derecho[obj] a[mark] quienes[nsubj] si[mark] quieren[ccomp] estudiar[xcomp]']"
   ]
  },
  {
   "cell_type": "code",
   "execution_count": 10,
   "id": "5ea07de0",
   "metadata": {},
   "outputs": [
    {
     "data": {
      "text/plain": [
       "['no necesariamente porque te invito a salir quiere decir que te quiero echar los perros',\n",
       " ' normalicen compartir el tiempo con otras personas sin necesidad de involucrarse afectivamente',\n",
       " ' se llama amistad',\n",
       " '@andreschile6 @fpvrprensa @flordenarnia le están quitando el derecho a quienes si quieren estudiar']"
      ]
     },
     "execution_count": 10,
     "metadata": {},
     "output_type": "execute_result"
    }
   ],
   "source": [
    "dep_pat = r'\\[\\w+\\]'\n",
    "\n",
    "ctexts = [regex.sub(dep_pat, '', t) for t in texts]\n",
    "ctexts"
   ]
  },
  {
   "cell_type": "code",
   "execution_count": 21,
   "id": "08b4e054",
   "metadata": {},
   "outputs": [],
   "source": [
    "nlp = spacy.load(conf['spacy']['es'], disable=['ner'])"
   ]
  },
  {
   "cell_type": "code",
   "execution_count": 22,
   "id": "3f0f7ba6",
   "metadata": {},
   "outputs": [],
   "source": [
    "options = {'compact': True, 'word_spacing': 45, 'distance': 100, 'add_lemma': True, 'fine_grained': True}"
   ]
  },
  {
   "cell_type": "code",
   "execution_count": 20,
   "id": "07c346a1",
   "metadata": {},
   "outputs": [],
   "source": [
    "procd = [nlp(t) for t in ctexts]"
   ]
  },
  {
   "cell_type": "code",
   "execution_count": 23,
   "id": "58ffc43f",
   "metadata": {},
   "outputs": [],
   "source": [
    "trees = displacy.render(procd, options=options, jupyter=False)"
   ]
  },
  {
   "cell_type": "code",
   "execution_count": 25,
   "id": "84cf37e9",
   "metadata": {},
   "outputs": [],
   "source": [
    "with open(utils.get_project_root()/'examples'/'images'/'ccomp-infinitive-sample.html', 'w') as f:\n",
    "    f.write(trees)"
   ]
  },
  {
   "cell_type": "code",
   "execution_count": null,
   "id": "5f0da2a7",
   "metadata": {},
   "outputs": [],
   "source": []
  }
 ],
 "metadata": {
  "kernelspec": {
   "display_name": "nlp",
   "language": "python",
   "name": "nlp"
  },
  "language_info": {
   "codemirror_mode": {
    "name": "ipython",
    "version": 3
   },
   "file_extension": ".py",
   "mimetype": "text/x-python",
   "name": "python",
   "nbconvert_exporter": "python",
   "pygments_lexer": "ipython3",
   "version": "3.8.10"
  }
 },
 "nbformat": 4,
 "nbformat_minor": 5
}
