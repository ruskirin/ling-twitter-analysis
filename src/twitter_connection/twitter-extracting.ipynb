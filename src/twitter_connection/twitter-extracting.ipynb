{
 "cells": [
  {
   "cell_type": "markdown",
   "id": "c31d8097",
   "metadata": {},
   "source": [
    "### References\n",
    "\n",
    "<ul>\n",
    "    <li>Trending twitter<br></li>\n",
    "    https://twitter-trends.iamrohit.in/\n",
    "    <li>Removing accented characters<br></li>\n",
    "    https://stackoverflow.com/a/2633310/13557629\n",
    "    <li>Importing package from filepath</li>\n",
    "    https://stackoverflow.com/a/50395128/13557629\n",
    "</ul>"
   ]
  },
  {
   "cell_type": "code",
   "execution_count": 1,
   "id": "refined-cedar",
   "metadata": {},
   "outputs": [
    {
     "data": {
      "application/javascript": [
       "\n",
       "console.log('Starting front end url_querystring_target comm target');\n",
       "const comm = Jupyter.notebook.kernel.comm_manager.new_comm('url_querystring_target', {'init': 1});\n",
       "comm.send({'ipyparams_browser_url': window.location.href});\n",
       "console.log('Sent window.location.href on url_querystring_target comm target');\n",
       "\n",
       "comm.on_msg(function(msg) {\n",
       "    console.log(msg.content.data);\n",
       "});\n"
      ],
      "text/plain": [
       "<IPython.core.display.Javascript object>"
      ]
     },
     "metadata": {},
     "output_type": "display_data"
    }
   ],
   "source": [
    "import ipyparams\n",
    "import regex as re\n",
    "import numpy as np \n",
    "import pandas as pd\n",
    "from importlib import reload\n",
    "import connection\n",
    "from datetime import datetime\n",
    "import utils\n",
    "import logging"
   ]
  },
  {
   "cell_type": "code",
   "execution_count": 2,
   "id": "9ad1e2e7",
   "metadata": {},
   "outputs": [],
   "source": [
    "utils.setup_logger(\n",
    "    file_name='testing-extraction-naming', \n",
    "    desc=''\n",
    ")"
   ]
  },
  {
   "cell_type": "code",
   "execution_count": 11,
   "id": "d2ef280f",
   "metadata": {},
   "outputs": [
    {
     "ename": "NameError",
     "evalue": "name 'twitter_data' is not defined",
     "output_type": "error",
     "traceback": [
      "\u001B[0;31m---------------------------------------------------------------------------\u001B[0m",
      "\u001B[0;31mNameError\u001B[0m                                 Traceback (most recent call last)",
      "Cell \u001B[0;32mIn[11], line 1\u001B[0m\n\u001B[0;32m----> 1\u001B[0m reload(\u001B[43mtwitter_data\u001B[49m\u001B[38;5;241m/\u001B[39mtwitter_data\u001B[38;5;241m.\u001B[39mpy)\n",
      "\u001B[0;31mNameError\u001B[0m: name 'twitter_data' is not defined"
     ]
    }
   ],
   "source": [
    "reload(connection)"
   ]
  },
  {
   "cell_type": "code",
   "execution_count": 3,
   "id": "5314498a",
   "metadata": {},
   "outputs": [],
   "source": [
    "gen_conf = utils.get_config()\n",
    "conf = utils.get_config('e')"
   ]
  },
  {
   "cell_type": "markdown",
   "id": "78bd545c",
   "metadata": {},
   "source": [
    "### Extraction"
   ]
  },
  {
   "cell_type": "code",
   "execution_count": 4,
   "id": "ec9794d2",
   "metadata": {},
   "outputs": [],
   "source": [
    "# TODO: key_name not working properly; python-decouple not finding .env file\n",
    "#   potentially because it's looking in a different directory\n",
    "es_conn = connection.TwitterConnection(\n",
    "    lang='es',\n",
    "    is_archive=True,\n",
    "    key_name='SECRET'\n",
    ")\n",
    "\n",
    "# pt_conn = connection.TwitterConnection() "
   ]
  },
  {
   "cell_type": "code",
   "execution_count": 5,
   "id": "12cb68c2",
   "metadata": {
    "scrolled": true
   },
   "outputs": [],
   "source": [
    "conjugations = pd.read_csv(utils.get_project_root()/'data'/'twitter-conjugations-query.csv')\n",
    "conjugations = conjugations.to_dict('records')"
   ]
  },
  {
   "cell_type": "code",
   "execution_count": 6,
   "id": "0630bee1",
   "metadata": {},
   "outputs": [],
   "source": [
    "# List of verbs that shouldn't be pulled\n",
    "finished = []"
   ]
  },
  {
   "cell_type": "code",
   "execution_count": 7,
   "id": "0531ec13",
   "metadata": {},
   "outputs": [],
   "source": [
    "time = utils.get_str_datetime_now(True, True)"
   ]
  },
  {
   "cell_type": "code",
   "execution_count": 8,
   "id": "f11486b1",
   "metadata": {
    "scrolled": true
   },
   "outputs": [
    {
     "name": "stdout",
     "output_type": "stream",
     "text": [
      "Retrieved total 1 pages for ver.\n"
     ]
    }
   ],
   "source": [
    "save_path = utils.make_dir(\n",
    "    utils.get_save_path('e', 'twitter', False, 'es'), time \n",
    ")\n",
    "\n",
    "for i, topic in enumerate(conjugations):\n",
    "    # Skip verbs that were already pulled or are not desired\n",
    "    if topic['verb'] in finished:\n",
    "        continue\n",
    "    \n",
    "    pages = es_conn.paginate(save_path, \n",
    "                             (topic['verb'], topic['indicativo']), \n",
    "                             batch_size=100,\n",
    "                             batch_num=1,\n",
    "                             sleep_sec=1)\n",
    "    \n",
    "    print(f'Retrieved total {pages} pages for {topic[\"verb\"]}.')\n",
    "    \n",
    "    finished.append(topic['verb'])\n",
    "    break"
   ]
  },
  {
   "cell_type": "code",
   "execution_count": null,
   "id": "f255e71f",
   "metadata": {},
   "outputs": [],
   "source": []
  }
 ],
 "metadata": {
  "kernelspec": {
   "display_name": "Python 3 (ipykernel)",
   "language": "python",
   "name": "python3"
  },
  "language_info": {
   "codemirror_mode": {
    "name": "ipython",
    "version": 3
   },
   "file_extension": ".py",
   "mimetype": "text/x-python",
   "name": "python",
   "nbconvert_exporter": "python",
   "pygments_lexer": "ipython3",
   "version": "3.10.9"
  }
 },
 "nbformat": 4,
 "nbformat_minor": 5
}
