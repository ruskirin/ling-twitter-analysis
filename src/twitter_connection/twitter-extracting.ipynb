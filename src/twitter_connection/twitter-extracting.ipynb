{
 "cells": [
  {
   "cell_type": "markdown",
   "id": "c31d8097",
   "metadata": {},
   "source": [
    "### References\n",
    "\n",
    "<ul>\n",
    "    <li>Trending twitter<br></li>\n",
    "    https://twitter-trends.iamrohit.in/\n",
    "    <li>Removing accented characters<br></li>\n",
    "    https://stackoverflow.com/a/2633310/13557629\n",
    "    <li>Importing package from filepath</li>\n",
    "    https://stackoverflow.com/a/50395128/13557629\n",
    "</ul>"
   ]
  },
  {
   "cell_type": "code",
   "execution_count": 1,
   "id": "refined-cedar",
   "metadata": {},
   "outputs": [
    {
     "data": {
      "application/javascript": [
       "\n",
       "console.log('Starting front end url_querystring_target comm target');\n",
       "const comm = Jupyter.notebook.kernel.comm_manager.new_comm('url_querystring_target', {'init': 1});\n",
       "comm.send({'ipyparams_browser_url': window.location.href});\n",
       "console.log('Sent window.location.href on url_querystring_target comm target');\n",
       "\n",
       "comm.on_msg(function(msg) {\n",
       "    console.log(msg.content.data);\n",
       "});\n"
      ],
      "text/plain": [
       "<IPython.core.display.Javascript object>"
      ]
     },
     "metadata": {},
     "output_type": "display_data"
    }
   ],
   "source": [
    "import ipyparams\n",
    "import regex as re\n",
    "import numpy as np \n",
    "import pandas as pd\n",
    "from importlib import reload\n",
    "import connection\n",
    "import utils\n",
    "import logging"
   ]
  },
  {
   "cell_type": "code",
   "execution_count": 2,
   "id": "b266d869",
   "metadata": {},
   "outputs": [],
   "source": [
    "utils.setup_logger(\n",
    "    file_name='updating-extraction', \n",
    "    desc='Preparing extraction code for packaging. Moving as much of notebook code to modules as possible and documenting for ease of use for future users'\n",
    ")"
   ]
  },
  {
   "cell_type": "code",
   "execution_count": 5,
   "id": "d2ef280f",
   "metadata": {},
   "outputs": [
    {
     "data": {
      "text/plain": [
       "<module 'utils' from '/home/rimov/Documents/Code/NLP/lin-que-dropping/src/utils/utils.py'>"
      ]
     },
     "execution_count": 5,
     "metadata": {},
     "output_type": "execute_result"
    }
   ],
   "source": [
    "reload(utils)"
   ]
  },
  {
   "cell_type": "code",
   "execution_count": 3,
   "id": "5314498a",
   "metadata": {},
   "outputs": [],
   "source": [
    "gen_conf = utils.get_config()\n",
    "conf = utils.get_config('e')"
   ]
  },
  {
   "cell_type": "markdown",
   "id": "78bd545c",
   "metadata": {},
   "source": [
    "### Extraction"
   ]
  },
  {
   "cell_type": "code",
   "execution_count": 6,
   "id": "ec9794d2",
   "metadata": {},
   "outputs": [],
   "source": [
    "es_conn = tc.TwitterConnection(\n",
    "    lang='es',\n",
    "    is_archive=True,\n",
    "    is_archive=True)\n",
    "\n",
    "# pt_conn = connection.TwitterConnection() "
   ]
  },
  {
   "cell_type": "code",
   "execution_count": 7,
   "id": "f23f0720",
   "metadata": {},
   "outputs": [
    {
     "data": {
      "text/html": [
       "<div>\n",
       "<style scoped>\n",
       "    .dataframe tbody tr th:only-of-type {\n",
       "        vertical-align: middle;\n",
       "    }\n",
       "\n",
       "    .dataframe tbody tr th {\n",
       "        vertical-align: top;\n",
       "    }\n",
       "\n",
       "    .dataframe thead th {\n",
       "        text-align: right;\n",
       "    }\n",
       "</style>\n",
       "<table border=\"1\" class=\"dataframe\">\n",
       "  <thead>\n",
       "    <tr style=\"text-align: right;\">\n",
       "      <th></th>\n",
       "      <th>verb_type</th>\n",
       "      <th>verb</th>\n",
       "      <th>indicativo</th>\n",
       "      <th>imperativo</th>\n",
       "      <th>subjuntivo</th>\n",
       "      <th>gerundio</th>\n",
       "      <th>gerundio_compuesto</th>\n",
       "      <th>infinitivo</th>\n",
       "      <th>infinitivo_compuesto</th>\n",
       "      <th>participio_pasado</th>\n",
       "    </tr>\n",
       "  </thead>\n",
       "  <tbody>\n",
       "    <tr>\n",
       "      <th>0</th>\n",
       "      <td>Stative</td>\n",
       "      <td>ver</td>\n",
       "      <td>veía  visto  verías  vi  vimos  verían  ves  v...</td>\n",
       "      <td>vean   ve   vea   veamos   ved</td>\n",
       "      <td>veáis  visto  vieras  vieren  viesen  veas  vi...</td>\n",
       "      <td>viendo</td>\n",
       "      <td>visto</td>\n",
       "      <td>ver</td>\n",
       "      <td>visto</td>\n",
       "      <td>visto</td>\n",
       "    </tr>\n",
       "    <tr>\n",
       "      <th>1</th>\n",
       "      <td>Stative</td>\n",
       "      <td>jurar</td>\n",
       "      <td>jurarán  juramos  jurarías  jurabas  juraría  ...</td>\n",
       "      <td>jurad   jura   juren   jure   juremos</td>\n",
       "      <td>jurare  jurareis  jurase  jurara  juraren  jur...</td>\n",
       "      <td>jurando</td>\n",
       "      <td>jurado</td>\n",
       "      <td>jurar</td>\n",
       "      <td>jurado</td>\n",
       "      <td>jurado</td>\n",
       "    </tr>\n",
       "    <tr>\n",
       "      <th>2</th>\n",
       "      <td>Stative</td>\n",
       "      <td>decir</td>\n",
       "      <td>decíais  dijeron  decimos  dice  dirían  decía...</td>\n",
       "      <td>di   digan   digamos   decid   diga</td>\n",
       "      <td>dijere  dijéremos  dijesen  dijeses  dicho  di...</td>\n",
       "      <td>diciendo</td>\n",
       "      <td>dicho</td>\n",
       "      <td>decir</td>\n",
       "      <td>dicho</td>\n",
       "      <td>dicho</td>\n",
       "    </tr>\n",
       "  </tbody>\n",
       "</table>\n",
       "</div>"
      ],
      "text/plain": [
       "  verb_type   verb                                         indicativo  \\\n",
       "0   Stative    ver  veía  visto  verías  vi  vimos  verían  ves  v...   \n",
       "1   Stative  jurar  jurarán  juramos  jurarías  jurabas  juraría  ...   \n",
       "2   Stative  decir  decíais  dijeron  decimos  dice  dirían  decía...   \n",
       "\n",
       "                               imperativo  \\\n",
       "0         vean   ve   vea   veamos   ved    \n",
       "1  jurad   jura   juren   jure   juremos    \n",
       "2    di   digan   digamos   decid   diga    \n",
       "\n",
       "                                          subjuntivo  gerundio  \\\n",
       "0  veáis  visto  vieras  vieren  viesen  veas  vi...    viendo   \n",
       "1  jurare  jurareis  jurase  jurara  juraren  jur...   jurando   \n",
       "2  dijere  dijéremos  dijesen  dijeses  dicho  di...  diciendo   \n",
       "\n",
       "  gerundio_compuesto infinitivo infinitivo_compuesto participio_pasado  \n",
       "0              visto        ver                visto             visto  \n",
       "1             jurado      jurar               jurado            jurado  \n",
       "2              dicho      decir                dicho             dicho  "
      ]
     },
     "execution_count": 7,
     "metadata": {},
     "output_type": "execute_result"
    }
   ],
   "source": [
    "conjugations = pd.read_excel(utils.get_project_root()/gen_conf['file_paths']['verb_conjug'])\n",
    "conjugations.head(3)"
   ]
  },
  {
   "cell_type": "code",
   "execution_count": 8,
   "id": "74f4d121",
   "metadata": {
    "scrolled": true
   },
   "outputs": [],
   "source": [
    "topics = conjugations.loc[:, ['verb', 'indicativo']]\n",
    "topics['indicativo'] = topics['indicativo'].str.replace(r'\\s+', ' OR ')\\\n",
    "                                           .apply(lambda x: '(' + x + ')')\n",
    "topics = topics.to_dict('records')"
   ]
  },
  {
   "cell_type": "code",
   "execution_count": 9,
   "id": "abe656c2",
   "metadata": {
    "scrolled": true
   },
   "outputs": [],
   "source": [
    "time = utils.get_str_datetime_now()"
   ]
  },
  {
   "cell_type": "code",
   "execution_count": 10,
   "id": "0630bee1",
   "metadata": {},
   "outputs": [],
   "source": [
    "# List of verbs that shouldn't be pulled\n",
    "finished = conf['filled_verbs']"
   ]
  },
  {
   "cell_type": "code",
   "execution_count": 13,
   "id": "94343d42",
   "metadata": {},
   "outputs": [
    {
     "data": {
      "text/plain": [
       "['decir',\n",
       " 'ver',\n",
       " 'querer',\n",
       " 'saber',\n",
       " 'creer',\n",
       " 'esperar',\n",
       " 'pensar',\n",
       " 'jurar',\n",
       " 'confesar',\n",
       " 'prometer',\n",
       " 'mostrar',\n",
       " 'demostrar']"
      ]
     },
     "execution_count": 13,
     "metadata": {},
     "output_type": "execute_result"
    }
   ],
   "source": [
    "finished"
   ]
  },
  {
   "cell_type": "code",
   "execution_count": 12,
   "id": "f11486b1",
   "metadata": {
    "scrolled": true
   },
   "outputs": [
    {
     "name": "stdout",
     "output_type": "stream",
     "text": [
      "Retrieved total 5 pages for jurar.\n",
      "Retrieved total 5 pages for confesar.\n",
      "Retrieved total 5 pages for prometer.\n",
      "Retrieved total 5 pages for mostrar.\n",
      "Retrieved total 5 pages for demostrar.\n"
     ]
    },
    {
     "ename": "KeyboardInterrupt",
     "evalue": "",
     "output_type": "error",
     "traceback": [
      "\u001b[0;31m---------------------------------------------------------------------------\u001b[0m",
      "\u001b[0;31mKeyboardInterrupt\u001b[0m                         Traceback (most recent call last)",
      "\u001b[0;32m/tmp/ipykernel_77360/4258919263.py\u001b[0m in \u001b[0;36m<module>\u001b[0;34m\u001b[0m\n\u001b[1;32m      8\u001b[0m         \u001b[0;32mcontinue\u001b[0m\u001b[0;34m\u001b[0m\u001b[0;34m\u001b[0m\u001b[0m\n\u001b[1;32m      9\u001b[0m \u001b[0;34m\u001b[0m\u001b[0m\n\u001b[0;32m---> 10\u001b[0;31m     pages = es_conn.paginate(save_path, \n\u001b[0m\u001b[1;32m     11\u001b[0m                              \u001b[0;34m(\u001b[0m\u001b[0mtopic\u001b[0m\u001b[0;34m[\u001b[0m\u001b[0;34m'verb'\u001b[0m\u001b[0;34m]\u001b[0m\u001b[0;34m,\u001b[0m \u001b[0mtopic\u001b[0m\u001b[0;34m[\u001b[0m\u001b[0;34m'indicativo'\u001b[0m\u001b[0;34m]\u001b[0m\u001b[0;34m)\u001b[0m\u001b[0;34m,\u001b[0m\u001b[0;34m\u001b[0m\u001b[0;34m\u001b[0m\u001b[0m\n\u001b[1;32m     12\u001b[0m                              \u001b[0mbatch_size\u001b[0m\u001b[0;34m=\u001b[0m\u001b[0;36m100\u001b[0m\u001b[0;34m,\u001b[0m\u001b[0;34m\u001b[0m\u001b[0;34m\u001b[0m\u001b[0m\n",
      "\u001b[0;32m~/Documents/Code/NLP/lin-que-dropping/src/twitter_connection/connection.py\u001b[0m in \u001b[0;36mpaginate\u001b[0;34m(self, save_path, topic, batch_size, batch_num, sleep_sec)\u001b[0m\n\u001b[1;32m    135\u001b[0m \u001b[0;34m\u001b[0m\u001b[0m\n\u001b[1;32m    136\u001b[0m         \u001b[0;32mwhile\u001b[0m \u001b[0mself\u001b[0m\u001b[0;34m.\u001b[0m\u001b[0mhas_next\u001b[0m \u001b[0;32mand\u001b[0m \u001b[0;34m(\u001b[0m\u001b[0mself\u001b[0m\u001b[0;34m.\u001b[0m\u001b[0mpages\u001b[0m \u001b[0;34m<\u001b[0m \u001b[0mbatch_num\u001b[0m\u001b[0;34m)\u001b[0m\u001b[0;34m:\u001b[0m\u001b[0;34m\u001b[0m\u001b[0;34m\u001b[0m\u001b[0m\n\u001b[0;32m--> 137\u001b[0;31m             \u001b[0msleep\u001b[0m\u001b[0;34m(\u001b[0m\u001b[0msleep_sec\u001b[0m\u001b[0;34m)\u001b[0m\u001b[0;34m\u001b[0m\u001b[0;34m\u001b[0m\u001b[0m\n\u001b[0m\u001b[1;32m    138\u001b[0m \u001b[0;34m\u001b[0m\u001b[0m\n\u001b[1;32m    139\u001b[0m             \u001b[0mnext_token\u001b[0m \u001b[0;34m=\u001b[0m \u001b[0mself\u001b[0m\u001b[0;34m.\u001b[0m\u001b[0mget_next_token\u001b[0m\u001b[0;34m(\u001b[0m\u001b[0;34m)\u001b[0m\u001b[0;34m\u001b[0m\u001b[0;34m\u001b[0m\u001b[0m\n",
      "\u001b[0;31mKeyboardInterrupt\u001b[0m: "
     ]
    }
   ],
   "source": [
    "save_path = utils.make_dir(utils.get_save_path('e', 'twitter', False, 'es')/time)\n",
    "\n",
    "for i, topic in enumerate(topics):\n",
    "    # Skip verbs that were already pulled or are not desired\n",
    "    if topic['verb'] in finished:\n",
    "        continue\n",
    "    \n",
    "    pages = es_conn.paginate(save_path, \n",
    "                             (topic['verb'], topic['indicativo']), \n",
    "                             batch_size=100,\n",
    "                             batch_num=5,\n",
    "                             sleep_sec=1)\n",
    "    \n",
    "    print(f'Retrieved total {pages} pages for {topic[\"verb\"]}.')\n",
    "    \n",
    "    finished.append(topic['verb'])"
   ]
  },
  {
   "cell_type": "code",
   "execution_count": null,
   "id": "f255e71f",
   "metadata": {},
   "outputs": [],
   "source": []
  }
 ],
 "metadata": {
  "kernelspec": {
   "display_name": "Python 3 (ipykernel)",
   "language": "python",
   "name": "python3"
  },
  "language_info": {
   "codemirror_mode": {
    "name": "ipython",
    "version": 3
   },
   "file_extension": ".py",
   "mimetype": "text/x-python",
   "name": "python",
   "nbconvert_exporter": "python",
   "pygments_lexer": "ipython3",
   "version": "3.10.9"
  }
 },
 "nbformat": 4,
 "nbformat_minor": 5
}
