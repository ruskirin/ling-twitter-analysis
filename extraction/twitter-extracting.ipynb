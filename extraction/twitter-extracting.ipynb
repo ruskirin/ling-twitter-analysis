{
 "cells": [
  {
   "cell_type": "code",
   "execution_count": 2,
   "id": "refined-cedar",
   "metadata": {},
   "outputs": [],
   "source": [
    "import json\n",
    "import re\n",
    "import numpy as np \n",
    "import pandas as pd"
   ]
  },
  {
   "cell_type": "code",
   "execution_count": 3,
   "id": "03c55a48",
   "metadata": {},
   "outputs": [],
   "source": [
    "import importlib.util as imp\n",
    "\n",
    "# The name 'twitter-connection.connection' seems inconsequential\n",
    "#   perhaps just a spec name?\n",
    "spec = imp.spec_from_file_location(\n",
    "    'twitter-connection.connection', \n",
    "    '/home/rimov/Documents/Code/NLP/lin-que-dropping/twitter-connection/connection.py')\n",
    "twit = imp.module_from_spec(spec)\n",
    "spec.loader.exec_module(twit)"
   ]
  },
  {
   "cell_type": "markdown",
   "id": "faf5d812",
   "metadata": {},
   "source": [
    "### References\n",
    "\n",
    "https://twitter-trends.iamrohit.in/"
   ]
  },
  {
   "cell_type": "code",
   "execution_count": 4,
   "id": "926a8734",
   "metadata": {},
   "outputs": [],
   "source": [
    "cred_path = r'../twitter-connection/credentials.txt'"
   ]
  },
  {
   "cell_type": "code",
   "execution_count": 5,
   "id": "9a69fd3a",
   "metadata": {
    "scrolled": true
   },
   "outputs": [],
   "source": [
    "with open('../extraction/verb-stem-clean.txt') as f:\n",
    "    verb_stem = json.load(f)"
   ]
  },
  {
   "cell_type": "markdown",
   "id": "4fe994e5",
   "metadata": {},
   "source": [
    "### Test"
   ]
  },
  {
   "cell_type": "code",
   "execution_count": 30,
   "id": "c0ee79c8",
   "metadata": {},
   "outputs": [],
   "source": [
    "query_cond = ' (lang:es OR lang:pt) has:geo -is:retweet -has:links '\n",
    "# fields_tweet = 'tweet.fields=lang,text,public_metrics,organic_metrics,geo,referenced_tweets'\n",
    "fields_tweet = 'tweet.fields=lang,geo,public_metrics,referenced_tweets'\n",
    "fields_expan = 'expansions=author_id,geo.place_id,entities.mentions.username'\n",
    "fields_user = 'user.fields=created_at,location,public_metrics'\n",
    "fields_place = 'place.fields=country'"
   ]
  },
  {
   "cell_type": "code",
   "execution_count": 31,
   "id": "14cabbbc",
   "metadata": {},
   "outputs": [],
   "source": [
    "conn_acad = twit.TwitterConnection(\n",
    "    \"spanish\", \n",
    "    is_archive=True, \n",
    "    cred_path=cred_path,\n",
    "    cred_prefix='PROF')"
   ]
  },
  {
   "cell_type": "code",
   "execution_count": 32,
   "id": "a201b00c",
   "metadata": {},
   "outputs": [],
   "source": [
    "conn_acad.set_query(conditions=query_cond)\n",
    "conn_acad.set_fields(tweet=fields_tweet, \n",
    "                      expansions=fields_expan, \n",
    "                      user=fields_user,\n",
    "                      place=fields_place)"
   ]
  },
  {
   "cell_type": "code",
   "execution_count": 33,
   "id": "e610ba62",
   "metadata": {},
   "outputs": [
    {
     "data": {
      "text/plain": [
       "'(ve OR vi OR vê)'"
      ]
     },
     "execution_count": 33,
     "metadata": {},
     "output_type": "execute_result"
    }
   ],
   "source": [
    "s = None\n",
    "for vs in verb_stem.items():\n",
    "    s = vs[1]\n",
    "    break\n",
    "\n",
    "s = '(' + s + ')'\n",
    "s"
   ]
  },
  {
   "cell_type": "code",
   "execution_count": 34,
   "id": "e5d2f4c6",
   "metadata": {},
   "outputs": [
    {
     "data": {
      "text/plain": [
       "'https://api.twitter.com/2/tweets/search/all?query=(ve OR vi OR vê)&tweet.fields=lang,geo,public_metrics,referenced_tweets&expansions=author_id,geo.place_id,entities.mentions.username&user.fields=created_at,location,public_metrics&place.fields=country'"
      ]
     },
     "execution_count": 34,
     "metadata": {},
     "output_type": "execute_result"
    }
   ],
   "source": [
    "conn_acad.connect(s, is_next=True)\n",
    "conn_acad.url"
   ]
  },
  {
   "cell_type": "code",
   "execution_count": 44,
   "id": "86544f78",
   "metadata": {},
   "outputs": [],
   "source": [
    "desc = pd.json_normalize(conn_acad.response)\n",
    "data = pd.json_normalize(\n",
    "    conn_acad.response, record_path='data')\n",
    "place = pd.json_normalize(\n",
    "    conn_acad.response, meta=['includes', 'places'], meta_prefix=True)"
   ]
  },
  {
   "cell_type": "code",
   "execution_count": 45,
   "id": "b62b2604",
   "metadata": {},
   "outputs": [
    {
     "data": {
      "text/html": [
       "<div>\n",
       "<style scoped>\n",
       "    .dataframe tbody tr th:only-of-type {\n",
       "        vertical-align: middle;\n",
       "    }\n",
       "\n",
       "    .dataframe tbody tr th {\n",
       "        vertical-align: top;\n",
       "    }\n",
       "\n",
       "    .dataframe thead th {\n",
       "        text-align: right;\n",
       "    }\n",
       "</style>\n",
       "<table border=\"1\" class=\"dataframe\">\n",
       "  <thead>\n",
       "    <tr style=\"text-align: right;\">\n",
       "      <th></th>\n",
       "      <th>data</th>\n",
       "      <th>includes.users</th>\n",
       "      <th>includes.places</th>\n",
       "      <th>meta.newest_id</th>\n",
       "      <th>meta.oldest_id</th>\n",
       "      <th>meta.result_count</th>\n",
       "      <th>meta.next_token</th>\n",
       "    </tr>\n",
       "  </thead>\n",
       "  <tbody>\n",
       "    <tr>\n",
       "      <th>0</th>\n",
       "      <td>[{'entities': {'mentions': [{'start': 3, 'end'...</td>\n",
       "      <td>[{'public_metrics': {'followers_count': 149, '...</td>\n",
       "      <td>[{'country': 'United Kingdom', 'full_name': 'N...</td>\n",
       "      <td>1407363174479937544</td>\n",
       "      <td>1407363173854949379</td>\n",
       "      <td>10</td>\n",
       "      <td>b26v89c19zqg8o3fpdg9v3fy1ozifi8qnft562xrhhsvx</td>\n",
       "    </tr>\n",
       "  </tbody>\n",
       "</table>\n",
       "</div>"
      ],
      "text/plain": [
       "                                                data  \\\n",
       "0  [{'entities': {'mentions': [{'start': 3, 'end'...   \n",
       "\n",
       "                                      includes.users  \\\n",
       "0  [{'public_metrics': {'followers_count': 149, '...   \n",
       "\n",
       "                                     includes.places       meta.newest_id  \\\n",
       "0  [{'country': 'United Kingdom', 'full_name': 'N...  1407363174479937544   \n",
       "\n",
       "        meta.oldest_id  meta.result_count  \\\n",
       "0  1407363173854949379                 10   \n",
       "\n",
       "                                 meta.next_token  \n",
       "0  b26v89c19zqg8o3fpdg9v3fy1ozifi8qnft562xrhhsvx  "
      ]
     },
     "metadata": {},
     "output_type": "display_data"
    },
    {
     "data": {
      "text/html": [
       "<div>\n",
       "<style scoped>\n",
       "    .dataframe tbody tr th:only-of-type {\n",
       "        vertical-align: middle;\n",
       "    }\n",
       "\n",
       "    .dataframe tbody tr th {\n",
       "        vertical-align: top;\n",
       "    }\n",
       "\n",
       "    .dataframe thead th {\n",
       "        text-align: right;\n",
       "    }\n",
       "</style>\n",
       "<table border=\"1\" class=\"dataframe\">\n",
       "  <thead>\n",
       "    <tr style=\"text-align: right;\">\n",
       "      <th></th>\n",
       "      <th>text</th>\n",
       "      <th>lang</th>\n",
       "      <th>id</th>\n",
       "      <th>author_id</th>\n",
       "      <th>referenced_tweets</th>\n",
       "      <th>entities.mentions</th>\n",
       "      <th>public_metrics.retweet_count</th>\n",
       "      <th>public_metrics.reply_count</th>\n",
       "      <th>public_metrics.like_count</th>\n",
       "      <th>public_metrics.quote_count</th>\n",
       "      <th>geo.place_id</th>\n",
       "    </tr>\n",
       "  </thead>\n",
       "  <tbody>\n",
       "    <tr>\n",
       "      <th>0</th>\n",
       "      <td>RT @RelusionH: Sakura, Juri and R.Mika, some o...</td>\n",
       "      <td>en</td>\n",
       "      <td>1407363174479937544</td>\n",
       "      <td>1020002616087064578</td>\n",
       "      <td>[{'type': 'retweeted', 'id': '1407060521686294...</td>\n",
       "      <td>[{'start': 3, 'end': 13, 'username': 'Relusion...</td>\n",
       "      <td>108</td>\n",
       "      <td>0</td>\n",
       "      <td>0</td>\n",
       "      <td>0</td>\n",
       "      <td>NaN</td>\n",
       "    </tr>\n",
       "    <tr>\n",
       "      <th>1</th>\n",
       "      <td>RT @WasOnce_Skinny: Ajax Cape Town laid there ...</td>\n",
       "      <td>en</td>\n",
       "      <td>1407363174479896580</td>\n",
       "      <td>3416123883</td>\n",
       "      <td>[{'type': 'retweeted', 'id': '1407351756661661...</td>\n",
       "      <td>[{'start': 3, 'end': 18, 'username': 'WasOnce_...</td>\n",
       "      <td>11</td>\n",
       "      <td>0</td>\n",
       "      <td>0</td>\n",
       "      <td>0</td>\n",
       "      <td>NaN</td>\n",
       "    </tr>\n",
       "    <tr>\n",
       "      <th>2</th>\n",
       "      <td>@Deputy_new It can’t only be Tuesday?  I’ve wo...</td>\n",
       "      <td>en</td>\n",
       "      <td>1407363174454677506</td>\n",
       "      <td>20125015</td>\n",
       "      <td>[{'type': 'replied_to', 'id': '140736176331465...</td>\n",
       "      <td>[{'start': 0, 'end': 11, 'username': 'Deputy_n...</td>\n",
       "      <td>0</td>\n",
       "      <td>0</td>\n",
       "      <td>0</td>\n",
       "      <td>0</td>\n",
       "      <td>67bc7263f7b9047b</td>\n",
       "    </tr>\n",
       "  </tbody>\n",
       "</table>\n",
       "</div>"
      ],
      "text/plain": [
       "                                                text lang  \\\n",
       "0  RT @RelusionH: Sakura, Juri and R.Mika, some o...   en   \n",
       "1  RT @WasOnce_Skinny: Ajax Cape Town laid there ...   en   \n",
       "2  @Deputy_new It can’t only be Tuesday?  I’ve wo...   en   \n",
       "\n",
       "                    id            author_id  \\\n",
       "0  1407363174479937544  1020002616087064578   \n",
       "1  1407363174479896580           3416123883   \n",
       "2  1407363174454677506             20125015   \n",
       "\n",
       "                                   referenced_tweets  \\\n",
       "0  [{'type': 'retweeted', 'id': '1407060521686294...   \n",
       "1  [{'type': 'retweeted', 'id': '1407351756661661...   \n",
       "2  [{'type': 'replied_to', 'id': '140736176331465...   \n",
       "\n",
       "                                   entities.mentions  \\\n",
       "0  [{'start': 3, 'end': 13, 'username': 'Relusion...   \n",
       "1  [{'start': 3, 'end': 18, 'username': 'WasOnce_...   \n",
       "2  [{'start': 0, 'end': 11, 'username': 'Deputy_n...   \n",
       "\n",
       "   public_metrics.retweet_count  public_metrics.reply_count  \\\n",
       "0                           108                           0   \n",
       "1                            11                           0   \n",
       "2                             0                           0   \n",
       "\n",
       "   public_metrics.like_count  public_metrics.quote_count      geo.place_id  \n",
       "0                          0                           0               NaN  \n",
       "1                          0                           0               NaN  \n",
       "2                          0                           0  67bc7263f7b9047b  "
      ]
     },
     "metadata": {},
     "output_type": "display_data"
    },
    {
     "data": {
      "text/html": [
       "<div>\n",
       "<style scoped>\n",
       "    .dataframe tbody tr th:only-of-type {\n",
       "        vertical-align: middle;\n",
       "    }\n",
       "\n",
       "    .dataframe tbody tr th {\n",
       "        vertical-align: top;\n",
       "    }\n",
       "\n",
       "    .dataframe thead th {\n",
       "        text-align: right;\n",
       "    }\n",
       "</style>\n",
       "<table border=\"1\" class=\"dataframe\">\n",
       "  <thead>\n",
       "    <tr style=\"text-align: right;\">\n",
       "      <th></th>\n",
       "      <th>data</th>\n",
       "      <th>includes.users</th>\n",
       "      <th>includes.places</th>\n",
       "      <th>meta.newest_id</th>\n",
       "      <th>meta.oldest_id</th>\n",
       "      <th>meta.result_count</th>\n",
       "      <th>meta.next_token</th>\n",
       "    </tr>\n",
       "  </thead>\n",
       "  <tbody>\n",
       "    <tr>\n",
       "      <th>0</th>\n",
       "      <td>[{'entities': {'mentions': [{'start': 3, 'end'...</td>\n",
       "      <td>[{'public_metrics': {'followers_count': 149, '...</td>\n",
       "      <td>[{'country': 'United Kingdom', 'full_name': 'N...</td>\n",
       "      <td>1407363174479937544</td>\n",
       "      <td>1407363173854949379</td>\n",
       "      <td>10</td>\n",
       "      <td>b26v89c19zqg8o3fpdg9v3fy1ozifi8qnft562xrhhsvx</td>\n",
       "    </tr>\n",
       "  </tbody>\n",
       "</table>\n",
       "</div>"
      ],
      "text/plain": [
       "                                                data  \\\n",
       "0  [{'entities': {'mentions': [{'start': 3, 'end'...   \n",
       "\n",
       "                                      includes.users  \\\n",
       "0  [{'public_metrics': {'followers_count': 149, '...   \n",
       "\n",
       "                                     includes.places       meta.newest_id  \\\n",
       "0  [{'country': 'United Kingdom', 'full_name': 'N...  1407363174479937544   \n",
       "\n",
       "        meta.oldest_id  meta.result_count  \\\n",
       "0  1407363173854949379                 10   \n",
       "\n",
       "                                 meta.next_token  \n",
       "0  b26v89c19zqg8o3fpdg9v3fy1ozifi8qnft562xrhhsvx  "
      ]
     },
     "metadata": {},
     "output_type": "display_data"
    }
   ],
   "source": [
    "display(desc)\n",
    "display(data.head(3))\n",
    "display(place.head(3))"
   ]
  },
  {
   "cell_type": "markdown",
   "id": "a7c27e97",
   "metadata": {},
   "source": [
    "### Extraction"
   ]
  },
  {
   "cell_type": "code",
   "execution_count": 54,
   "id": "75fdf40e",
   "metadata": {},
   "outputs": [],
   "source": [
    "connection = twit.TwitterConnection(\n",
    "    \"spanish\", \n",
    "    is_archive=True, \n",
    "    cred_path=cred_path,\n",
    "    cred_prefix='PROF')"
   ]
  },
  {
   "cell_type": "code",
   "execution_count": 55,
   "id": "e37119c7",
   "metadata": {},
   "outputs": [],
   "source": [
    "query_cond = ' (lang:es OR lang:pt) has:geo -is:retweet -has:links '\n",
    "# fields_tweet = 'tweet.fields=lang,text,public_metrics,organic_metrics,geo,referenced_tweets'\n",
    "fields_tweet = 'tweet.fields=lang,geo,public_metrics,referenced_tweets'\n",
    "fields_expan = 'expansions=author_id,geo.place_id,entities.mentions.username'\n",
    "fields_user = 'user.fields=created_at,location,public_metrics'\n",
    "fields_place = 'place.fields=country'"
   ]
  },
  {
   "cell_type": "code",
   "execution_count": 56,
   "id": "a30ab4cb",
   "metadata": {},
   "outputs": [],
   "source": [
    "connection.set_query(conditions=query_cond)\n",
    "connection.set_fields(tweet=fields_tweet, \n",
    "                      expansions=fields_expan, \n",
    "                      user=fields_user,\n",
    "                      place=fields_place)"
   ]
  },
  {
   "cell_type": "code",
   "execution_count": 51,
   "id": "92b02b8e",
   "metadata": {},
   "outputs": [],
   "source": [
    "# Dataframes for initial parsing\n",
    "response = pd.DataFrame()\n",
    "desc = pd.DataFrame()"
   ]
  },
  {
   "cell_type": "code",
   "execution_count": 57,
   "id": "382d95a2",
   "metadata": {
    "scrolled": true
   },
   "outputs": [
    {
     "name": "stdout",
     "output_type": "stream",
     "text": [
      "Retrieving tweets: ver\n",
      "Topics: (ve OR vi OR vê)\n",
      "\n",
      "Undesirables:\n"
     ]
    },
    {
     "data": {
      "text/html": [
       "<div>\n",
       "<style scoped>\n",
       "    .dataframe tbody tr th:only-of-type {\n",
       "        vertical-align: middle;\n",
       "    }\n",
       "\n",
       "    .dataframe tbody tr th {\n",
       "        vertical-align: top;\n",
       "    }\n",
       "\n",
       "    .dataframe thead th {\n",
       "        text-align: right;\n",
       "    }\n",
       "</style>\n",
       "<table border=\"1\" class=\"dataframe\">\n",
       "  <thead>\n",
       "    <tr style=\"text-align: right;\">\n",
       "      <th></th>\n",
       "      <th>lang</th>\n",
       "      <th>text</th>\n",
       "      <th>is_wrong_lang</th>\n",
       "      <th>is_retweet</th>\n",
       "    </tr>\n",
       "  </thead>\n",
       "  <tbody>\n",
       "    <tr>\n",
       "      <th>0</th>\n",
       "      <td>pt</td>\n",
       "      <td>RT @gigifxp: Ridicula, brigando por causa de m...</td>\n",
       "      <td>False</td>\n",
       "      <td>True</td>\n",
       "    </tr>\n",
       "    <tr>\n",
       "      <th>1</th>\n",
       "      <td>en</td>\n",
       "      <td>RT @brettdrc: I know someone that was employed...</td>\n",
       "      <td>True</td>\n",
       "      <td>True</td>\n",
       "    </tr>\n",
       "    <tr>\n",
       "      <th>2</th>\n",
       "      <td>en</td>\n",
       "      <td>Yes bro, name 1 good team you’ve been in</td>\n",
       "      <td>True</td>\n",
       "      <td>False</td>\n",
       "    </tr>\n",
       "    <tr>\n",
       "      <th>3</th>\n",
       "      <td>tr</td>\n",
       "      <td>RT @opdrokanozdemir: Turistler Türkiye’ye gire...</td>\n",
       "      <td>True</td>\n",
       "      <td>True</td>\n",
       "    </tr>\n",
       "    <tr>\n",
       "      <th>4</th>\n",
       "      <td>tr</td>\n",
       "      <td>RT @Ahaber: Devlet Bahçeli'den Deniz Poyraz'ın...</td>\n",
       "      <td>True</td>\n",
       "      <td>True</td>\n",
       "    </tr>\n",
       "    <tr>\n",
       "      <th>5</th>\n",
       "      <td>tr</td>\n",
       "      <td>$btc bakın Arkadaşlar...Lanet, ismi bile duyul...</td>\n",
       "      <td>True</td>\n",
       "      <td>False</td>\n",
       "    </tr>\n",
       "    <tr>\n",
       "      <th>6</th>\n",
       "      <td>es</td>\n",
       "      <td>#Deportes - Messi alcanza a Mascherano en réco...</td>\n",
       "      <td>False</td>\n",
       "      <td>False</td>\n",
       "    </tr>\n",
       "    <tr>\n",
       "      <th>7</th>\n",
       "      <td>es</td>\n",
       "      <td>Se ve poca gente en la calle !!!</td>\n",
       "      <td>False</td>\n",
       "      <td>False</td>\n",
       "    </tr>\n",
       "    <tr>\n",
       "      <th>8</th>\n",
       "      <td>tr</td>\n",
       "      <td>RT @banu3960: Daha fazlasi icin Rt fav ve yoru...</td>\n",
       "      <td>True</td>\n",
       "      <td>True</td>\n",
       "    </tr>\n",
       "    <tr>\n",
       "      <th>9</th>\n",
       "      <td>tr</td>\n",
       "      <td>RT @MHP_Bilgi: Eğer hukuk varsa, eğer adalet h...</td>\n",
       "      <td>True</td>\n",
       "      <td>True</td>\n",
       "    </tr>\n",
       "  </tbody>\n",
       "</table>\n",
       "</div>"
      ],
      "text/plain": [
       "  lang                                               text  is_wrong_lang  \\\n",
       "0   pt  RT @gigifxp: Ridicula, brigando por causa de m...          False   \n",
       "1   en  RT @brettdrc: I know someone that was employed...           True   \n",
       "2   en           Yes bro, name 1 good team you’ve been in           True   \n",
       "3   tr  RT @opdrokanozdemir: Turistler Türkiye’ye gire...           True   \n",
       "4   tr  RT @Ahaber: Devlet Bahçeli'den Deniz Poyraz'ın...           True   \n",
       "5   tr  $btc bakın Arkadaşlar...Lanet, ismi bile duyul...           True   \n",
       "6   es  #Deportes - Messi alcanza a Mascherano en réco...          False   \n",
       "7   es                   Se ve poca gente en la calle !!!          False   \n",
       "8   tr  RT @banu3960: Daha fazlasi icin Rt fav ve yoru...           True   \n",
       "9   tr  RT @MHP_Bilgi: Eğer hukuk varsa, eğer adalet h...           True   \n",
       "\n",
       "   is_retweet  \n",
       "0        True  \n",
       "1        True  \n",
       "2       False  \n",
       "3        True  \n",
       "4        True  \n",
       "5       False  \n",
       "6       False  \n",
       "7       False  \n",
       "8        True  \n",
       "9        True  "
      ]
     },
     "metadata": {},
     "output_type": "display_data"
    },
    {
     "name": "stdout",
     "output_type": "stream",
     "text": [
      "\n",
      "After dropping: 2\n",
      "\n",
      "Undesirables:\n"
     ]
    },
    {
     "data": {
      "text/html": [
       "<div>\n",
       "<style scoped>\n",
       "    .dataframe tbody tr th:only-of-type {\n",
       "        vertical-align: middle;\n",
       "    }\n",
       "\n",
       "    .dataframe tbody tr th {\n",
       "        vertical-align: top;\n",
       "    }\n",
       "\n",
       "    .dataframe thead th {\n",
       "        text-align: right;\n",
       "    }\n",
       "</style>\n",
       "<table border=\"1\" class=\"dataframe\">\n",
       "  <thead>\n",
       "    <tr style=\"text-align: right;\">\n",
       "      <th></th>\n",
       "      <th>lang</th>\n",
       "      <th>text</th>\n",
       "      <th>is_wrong_lang</th>\n",
       "      <th>is_retweet</th>\n",
       "    </tr>\n",
       "  </thead>\n",
       "  <tbody>\n",
       "    <tr>\n",
       "      <th>0</th>\n",
       "      <td>es</td>\n",
       "      <td>#Deportes - Messi alcanza a Mascherano en réco...</td>\n",
       "      <td>False</td>\n",
       "      <td>False</td>\n",
       "    </tr>\n",
       "    <tr>\n",
       "      <th>1</th>\n",
       "      <td>es</td>\n",
       "      <td>Se ve poca gente en la calle !!!</td>\n",
       "      <td>False</td>\n",
       "      <td>False</td>\n",
       "    </tr>\n",
       "    <tr>\n",
       "      <th>2</th>\n",
       "      <td>tr</td>\n",
       "      <td>RT @myeneroglu: Parti binasında vahşice katled...</td>\n",
       "      <td>True</td>\n",
       "      <td>True</td>\n",
       "    </tr>\n",
       "    <tr>\n",
       "      <th>3</th>\n",
       "      <td>en</td>\n",
       "      <td>With a power of your community you've reached ...</td>\n",
       "      <td>True</td>\n",
       "      <td>False</td>\n",
       "    </tr>\n",
       "    <tr>\n",
       "      <th>4</th>\n",
       "      <td>tr</td>\n",
       "      <td>RT @cazeeri: Poyraz eğer ayşeye engel olup ale...</td>\n",
       "      <td>True</td>\n",
       "      <td>True</td>\n",
       "    </tr>\n",
       "    <tr>\n",
       "      <th>5</th>\n",
       "      <td>en</td>\n",
       "      <td>Like + RT if you've never seen my tits! I'll s...</td>\n",
       "      <td>True</td>\n",
       "      <td>False</td>\n",
       "    </tr>\n",
       "    <tr>\n",
       "      <th>6</th>\n",
       "      <td>pt</td>\n",
       "      <td>vi ele hj. to feliz.</td>\n",
       "      <td>False</td>\n",
       "      <td>False</td>\n",
       "    </tr>\n",
       "    <tr>\n",
       "      <th>7</th>\n",
       "      <td>en</td>\n",
       "      <td>RT @jamesramertps: Project Brisa resulted in t...</td>\n",
       "      <td>True</td>\n",
       "      <td>True</td>\n",
       "    </tr>\n",
       "    <tr>\n",
       "      <th>8</th>\n",
       "      <td>tr</td>\n",
       "      <td>RT @kacsaatolduson: Kayyum rektör Melih Bulu'y...</td>\n",
       "      <td>True</td>\n",
       "      <td>True</td>\n",
       "    </tr>\n",
       "    <tr>\n",
       "      <th>9</th>\n",
       "      <td>en</td>\n",
       "      <td>RT @BobStoopsStatue: You could’ve at least men...</td>\n",
       "      <td>True</td>\n",
       "      <td>True</td>\n",
       "    </tr>\n",
       "    <tr>\n",
       "      <th>10</th>\n",
       "      <td>tr</td>\n",
       "      <td>RT @BiraradaDernek: Eleştirel Akademi Okumalar...</td>\n",
       "      <td>True</td>\n",
       "      <td>True</td>\n",
       "    </tr>\n",
       "    <tr>\n",
       "      <th>11</th>\n",
       "      <td>en</td>\n",
       "      <td>I've got this , Boss 🙌 ! your download is http...</td>\n",
       "      <td>True</td>\n",
       "      <td>False</td>\n",
       "    </tr>\n",
       "  </tbody>\n",
       "</table>\n",
       "</div>"
      ],
      "text/plain": [
       "   lang                                               text  is_wrong_lang  \\\n",
       "0    es  #Deportes - Messi alcanza a Mascherano en réco...          False   \n",
       "1    es                   Se ve poca gente en la calle !!!          False   \n",
       "2    tr  RT @myeneroglu: Parti binasında vahşice katled...           True   \n",
       "3    en  With a power of your community you've reached ...           True   \n",
       "4    tr  RT @cazeeri: Poyraz eğer ayşeye engel olup ale...           True   \n",
       "5    en  Like + RT if you've never seen my tits! I'll s...           True   \n",
       "6    pt                               vi ele hj. to feliz.          False   \n",
       "7    en  RT @jamesramertps: Project Brisa resulted in t...           True   \n",
       "8    tr  RT @kacsaatolduson: Kayyum rektör Melih Bulu'y...           True   \n",
       "9    en  RT @BobStoopsStatue: You could’ve at least men...           True   \n",
       "10   tr  RT @BiraradaDernek: Eleştirel Akademi Okumalar...           True   \n",
       "11   en  I've got this , Boss 🙌 ! your download is http...           True   \n",
       "\n",
       "    is_retweet  \n",
       "0        False  \n",
       "1        False  \n",
       "2         True  \n",
       "3        False  \n",
       "4         True  \n",
       "5        False  \n",
       "6        False  \n",
       "7         True  \n",
       "8         True  \n",
       "9         True  \n",
       "10        True  \n",
       "11       False  "
      ]
     },
     "metadata": {},
     "output_type": "display_data"
    },
    {
     "name": "stdout",
     "output_type": "stream",
     "text": [
      "\n",
      "After dropping: 3\n",
      "Error establishing connection:\n",
      "\n",
      " 429\n",
      "{\"title\":\"Too Many Requests\",\"type\":\"about:blank\",\"status\":429,\"detail\":\"Too Many Requests\"}\n"
     ]
    },
    {
     "ename": "AttributeError",
     "evalue": "'NoneType' object has no attribute 'json'",
     "output_type": "error",
     "traceback": [
      "\u001b[0;31m---------------------------------------------------------------------------\u001b[0m",
      "\u001b[0;31mAttributeError\u001b[0m                            Traceback (most recent call last)",
      "\u001b[0;32m<ipython-input-57-3af607f86179>\u001b[0m in \u001b[0;36m<module>\u001b[0;34m\u001b[0m\n\u001b[1;32m     11\u001b[0m     \u001b[0mdata\u001b[0m \u001b[0;34m=\u001b[0m \u001b[0mpd\u001b[0m\u001b[0;34m.\u001b[0m\u001b[0mDataFrame\u001b[0m\u001b[0;34m(\u001b[0m\u001b[0;34m)\u001b[0m\u001b[0;34m\u001b[0m\u001b[0;34m\u001b[0m\u001b[0m\n\u001b[1;32m     12\u001b[0m \u001b[0;34m\u001b[0m\u001b[0m\n\u001b[0;32m---> 13\u001b[0;31m     \u001b[0;32mwhile\u001b[0m \u001b[0mconnection\u001b[0m\u001b[0;34m.\u001b[0m\u001b[0mconnect\u001b[0m\u001b[0;34m(\u001b[0m\u001b[0mstems\u001b[0m\u001b[0;34m,\u001b[0m \u001b[0mis_next\u001b[0m\u001b[0;34m=\u001b[0m\u001b[0;32mTrue\u001b[0m\u001b[0;34m)\u001b[0m\u001b[0;34m:\u001b[0m\u001b[0;34m\u001b[0m\u001b[0;34m\u001b[0m\u001b[0m\n\u001b[0m\u001b[1;32m     14\u001b[0m         \u001b[0mconnection\u001b[0m\u001b[0;34m.\u001b[0m\u001b[0murl\u001b[0m\u001b[0;34m\u001b[0m\u001b[0;34m\u001b[0m\u001b[0m\n\u001b[1;32m     15\u001b[0m \u001b[0;34m\u001b[0m\u001b[0m\n",
      "\u001b[0;32m~/Documents/Code/NLP/lin-que-dropping/twitter-connection/connection.py\u001b[0m in \u001b[0;36mconnect\u001b[0;34m(self, query, is_next)\u001b[0m\n\u001b[1;32m    106\u001b[0m \u001b[0;34m\u001b[0m\u001b[0m\n\u001b[1;32m    107\u001b[0m         \u001b[0;32mtry\u001b[0m\u001b[0;34m:\u001b[0m\u001b[0;34m\u001b[0m\u001b[0;34m\u001b[0m\u001b[0m\n\u001b[0;32m--> 108\u001b[0;31m             \u001b[0mresponse\u001b[0m \u001b[0;34m=\u001b[0m \u001b[0mself\u001b[0m\u001b[0;34m.\u001b[0m\u001b[0m_connect_to_endpoint\u001b[0m\u001b[0;34m(\u001b[0m\u001b[0mself\u001b[0m\u001b[0;34m.\u001b[0m\u001b[0murl\u001b[0m\u001b[0;34m,\u001b[0m \u001b[0mself\u001b[0m\u001b[0;34m.\u001b[0m\u001b[0mheader\u001b[0m\u001b[0;34m)\u001b[0m\u001b[0;34m\u001b[0m\u001b[0;34m\u001b[0m\u001b[0m\n\u001b[0m\u001b[1;32m    109\u001b[0m         \u001b[0;32mexcept\u001b[0m \u001b[0mConnectionError\u001b[0m \u001b[0;32mas\u001b[0m \u001b[0me\u001b[0m\u001b[0;34m:\u001b[0m\u001b[0;34m\u001b[0m\u001b[0;34m\u001b[0m\u001b[0m\n\u001b[1;32m    110\u001b[0m             print(f\"Error establishing connection:\\n\\n \"\n",
      "\u001b[0;31mAttributeError\u001b[0m: 'NoneType' object has no attribute 'json'"
     ]
    }
   ],
   "source": [
    "idx = 0\n",
    "\n",
    "for vs in verb_stem.items():\n",
    "    if idx==1:\n",
    "        break\n",
    "    \n",
    "    verb = vs[0]\n",
    "    stems = '(' + vs[1] + ')'\n",
    "    print(f'Retrieving tweets: {verb}\\nTopics: {stems}')\n",
    "    \n",
    "    data = pd.DataFrame()\n",
    "    \n",
    "    while connection.connect(stems, is_next=True):\n",
    "        desc = pd.json_normalize(\n",
    "                connection.response)\n",
    "        \n",
    "        data = data.append(\n",
    "            pd.json_normalize(\n",
    "                connection.response, record_path='data'))\n",
    "        \n",
    "        data.reset_index(drop=True, inplace=True)\n",
    "        \n",
    "        # Duplicated text\n",
    "#         dup = d.loc[:, 'text'].duplicated() \n",
    "        # Wrong language\n",
    "        lang = (data.loc[:, 'lang']!='es') & (data.loc[:, 'lang']!='pt')\n",
    "        # Is a retweet\n",
    "        retweet = data.loc[:, 'text'].str.contains('RT @')\n",
    "        \n",
    "        # Remove '@...' mentions\n",
    "        data.loc[:, 'text'] = data.loc[:, 'text'].str.replace(r'(@[\\w]+ )', '', regex=True)\n",
    "        \n",
    "        print('\\nUndesirables:')\n",
    "        display(\n",
    "            pd.concat([data.loc[:, ['lang', 'text']], \n",
    "                       lang.rename('is_wrong_lang'), \n",
    "                       retweet.rename('is_retweet')], \n",
    "                      axis=1))\n",
    "        \n",
    "        data.drop(\n",
    "            data.loc[lang|retweet].index, \n",
    "            inplace=True)\n",
    "        \n",
    "        print(f'\\nAfter dropping: {data.shape[0]}')\n",
    "#         display(data.head())\n",
    "        \n",
    "        if data.shape[0] >= 5:\n",
    "            break\n",
    "    \n",
    "    idx+=1\n",
    "    response = response.append(data, ignore_index=True)"
   ]
  },
  {
   "cell_type": "code",
   "execution_count": 58,
   "id": "9cb59c01",
   "metadata": {},
   "outputs": [
    {
     "name": "stdout",
     "output_type": "stream",
     "text": [
      "https://api.twitter.com/2/tweets/search/all?query=(ve OR vi OR vê)&next_token=b26v89c19zqg8o3fpdg9v3fy4rxkrq7j7hxuyo6433cl9&tweet.fields=lang,geo,public_metrics,referenced_tweets&expansions=author_id,geo.place_id,entities.mentions.username&user.fields=created_at,location,public_metrics&place.fields=country\n"
     ]
    }
   ],
   "source": [
    "print(connection.url)"
   ]
  },
  {
   "cell_type": "code",
   "execution_count": 59,
   "id": "f242f254",
   "metadata": {
    "scrolled": true
   },
   "outputs": [
    {
     "data": {
      "text/html": [
       "<div>\n",
       "<style scoped>\n",
       "    .dataframe tbody tr th:only-of-type {\n",
       "        vertical-align: middle;\n",
       "    }\n",
       "\n",
       "    .dataframe tbody tr th {\n",
       "        vertical-align: top;\n",
       "    }\n",
       "\n",
       "    .dataframe thead th {\n",
       "        text-align: right;\n",
       "    }\n",
       "</style>\n",
       "<table border=\"1\" class=\"dataframe\">\n",
       "  <thead>\n",
       "    <tr style=\"text-align: right;\">\n",
       "      <th></th>\n",
       "    </tr>\n",
       "  </thead>\n",
       "  <tbody>\n",
       "  </tbody>\n",
       "</table>\n",
       "</div>"
      ],
      "text/plain": [
       "Empty DataFrame\n",
       "Columns: []\n",
       "Index: []"
      ]
     },
     "execution_count": 59,
     "metadata": {},
     "output_type": "execute_result"
    }
   ],
   "source": [
    "response.head()"
   ]
  },
  {
   "cell_type": "code",
   "execution_count": 59,
   "id": "938a016e",
   "metadata": {
    "scrolled": true
   },
   "outputs": [],
   "source": [
    "lang = response.loc[:, 'lang']!='es'"
   ]
  },
  {
   "cell_type": "code",
   "execution_count": 60,
   "id": "98dd8b26",
   "metadata": {},
   "outputs": [
    {
     "data": {
      "text/html": [
       "<div>\n",
       "<style scoped>\n",
       "    .dataframe tbody tr th:only-of-type {\n",
       "        vertical-align: middle;\n",
       "    }\n",
       "\n",
       "    .dataframe tbody tr th {\n",
       "        vertical-align: top;\n",
       "    }\n",
       "\n",
       "    .dataframe thead th {\n",
       "        text-align: right;\n",
       "    }\n",
       "</style>\n",
       "<table border=\"1\" class=\"dataframe\">\n",
       "  <thead>\n",
       "    <tr style=\"text-align: right;\">\n",
       "      <th></th>\n",
       "      <th>lang</th>\n",
       "      <th>id</th>\n",
       "      <th>conversation_id</th>\n",
       "      <th>text</th>\n",
       "      <th>public_metrics.retweet_count</th>\n",
       "      <th>public_metrics.reply_count</th>\n",
       "      <th>public_metrics.like_count</th>\n",
       "      <th>public_metrics.quote_count</th>\n",
       "      <th>in_reply_to_user_id</th>\n",
       "    </tr>\n",
       "  </thead>\n",
       "  <tbody>\n",
       "    <tr>\n",
       "      <th>4</th>\n",
       "      <td>es</td>\n",
       "      <td>1404865872515194884</td>\n",
       "      <td>1404865188109684747</td>\n",
       "      <td>se ve tan real, además L y H se ven muy guapos</td>\n",
       "      <td>0</td>\n",
       "      <td>1</td>\n",
       "      <td>1</td>\n",
       "      <td>0</td>\n",
       "      <td>920381329669226497</td>\n",
       "    </tr>\n",
       "    <tr>\n",
       "      <th>32</th>\n",
       "      <td>es</td>\n",
       "      <td>1404865864143343620</td>\n",
       "      <td>1404631106876542976</td>\n",
       "      <td>Fraude es tu vida se sabia que mucha gente en ...</td>\n",
       "      <td>0</td>\n",
       "      <td>1</td>\n",
       "      <td>0</td>\n",
       "      <td>0</td>\n",
       "      <td>1252820905396301835</td>\n",
       "    </tr>\n",
       "    <tr>\n",
       "      <th>41</th>\n",
       "      <td>es</td>\n",
       "      <td>1404865862096535563</td>\n",
       "      <td>1404564648083525634</td>\n",
       "      <td>Sí ve a decirle a tu lider que le has defendid...</td>\n",
       "      <td>0</td>\n",
       "      <td>1</td>\n",
       "      <td>0</td>\n",
       "      <td>0</td>\n",
       "      <td>1362009157558292483</td>\n",
       "    </tr>\n",
       "    <tr>\n",
       "      <th>44</th>\n",
       "      <td>es</td>\n",
       "      <td>1404865862012702722</td>\n",
       "      <td>1404719991237251078</td>\n",
       "      <td>Y si su comportamiento es igual al este papelo...</td>\n",
       "      <td>0</td>\n",
       "      <td>0</td>\n",
       "      <td>1</td>\n",
       "      <td>0</td>\n",
       "      <td>1281968549330857986</td>\n",
       "    </tr>\n",
       "  </tbody>\n",
       "</table>\n",
       "</div>"
      ],
      "text/plain": [
       "   lang                   id      conversation_id  \\\n",
       "4    es  1404865872515194884  1404865188109684747   \n",
       "32   es  1404865864143343620  1404631106876542976   \n",
       "41   es  1404865862096535563  1404564648083525634   \n",
       "44   es  1404865862012702722  1404719991237251078   \n",
       "\n",
       "                                                 text  \\\n",
       "4      se ve tan real, además L y H se ven muy guapos   \n",
       "32  Fraude es tu vida se sabia que mucha gente en ...   \n",
       "41  Sí ve a decirle a tu lider que le has defendid...   \n",
       "44  Y si su comportamiento es igual al este papelo...   \n",
       "\n",
       "    public_metrics.retweet_count  public_metrics.reply_count  \\\n",
       "4                              0                           1   \n",
       "32                             0                           1   \n",
       "41                             0                           1   \n",
       "44                             0                           0   \n",
       "\n",
       "    public_metrics.like_count  public_metrics.quote_count  in_reply_to_user_id  \n",
       "4                           1                           0   920381329669226497  \n",
       "32                          0                           0  1252820905396301835  \n",
       "41                          0                           0  1362009157558292483  \n",
       "44                          1                           0  1281968549330857986  "
      ]
     },
     "execution_count": 60,
     "metadata": {},
     "output_type": "execute_result"
    }
   ],
   "source": [
    "response.drop(response.loc[lang, :].index, inplace=True)\n",
    "response"
   ]
  },
  {
   "cell_type": "code",
   "execution_count": 61,
   "id": "31059d06",
   "metadata": {},
   "outputs": [
    {
     "data": {
      "text/html": [
       "<div>\n",
       "<style scoped>\n",
       "    .dataframe tbody tr th:only-of-type {\n",
       "        vertical-align: middle;\n",
       "    }\n",
       "\n",
       "    .dataframe tbody tr th {\n",
       "        vertical-align: top;\n",
       "    }\n",
       "\n",
       "    .dataframe thead th {\n",
       "        text-align: right;\n",
       "    }\n",
       "</style>\n",
       "<table border=\"1\" class=\"dataframe\">\n",
       "  <thead>\n",
       "    <tr style=\"text-align: right;\">\n",
       "      <th></th>\n",
       "      <th>lang</th>\n",
       "      <th>id</th>\n",
       "      <th>conversation_id</th>\n",
       "      <th>text</th>\n",
       "      <th>public_metrics.retweet_count</th>\n",
       "      <th>public_metrics.reply_count</th>\n",
       "      <th>public_metrics.like_count</th>\n",
       "      <th>public_metrics.quote_count</th>\n",
       "      <th>in_reply_to_user_id</th>\n",
       "    </tr>\n",
       "  </thead>\n",
       "  <tbody>\n",
       "    <tr>\n",
       "      <th>4</th>\n",
       "      <td>es</td>\n",
       "      <td>1404865872515194884</td>\n",
       "      <td>1404865188109684747</td>\n",
       "      <td>se ve tan real, además L y H se ven muy guapos</td>\n",
       "      <td>0</td>\n",
       "      <td>1</td>\n",
       "      <td>1</td>\n",
       "      <td>0</td>\n",
       "      <td>920381329669226497</td>\n",
       "    </tr>\n",
       "    <tr>\n",
       "      <th>32</th>\n",
       "      <td>es</td>\n",
       "      <td>1404865864143343620</td>\n",
       "      <td>1404631106876542976</td>\n",
       "      <td>Fraude es tu vida se sabia que mucha gente en ...</td>\n",
       "      <td>0</td>\n",
       "      <td>1</td>\n",
       "      <td>0</td>\n",
       "      <td>0</td>\n",
       "      <td>1252820905396301835</td>\n",
       "    </tr>\n",
       "    <tr>\n",
       "      <th>41</th>\n",
       "      <td>es</td>\n",
       "      <td>1404865862096535563</td>\n",
       "      <td>1404564648083525634</td>\n",
       "      <td>Sí ve a decirle a tu lider que le has defendid...</td>\n",
       "      <td>0</td>\n",
       "      <td>1</td>\n",
       "      <td>0</td>\n",
       "      <td>0</td>\n",
       "      <td>1362009157558292483</td>\n",
       "    </tr>\n",
       "    <tr>\n",
       "      <th>44</th>\n",
       "      <td>es</td>\n",
       "      <td>1404865862012702722</td>\n",
       "      <td>1404719991237251078</td>\n",
       "      <td>Y si su comportamiento es igual al este papelo...</td>\n",
       "      <td>0</td>\n",
       "      <td>0</td>\n",
       "      <td>1</td>\n",
       "      <td>0</td>\n",
       "      <td>1281968549330857986</td>\n",
       "    </tr>\n",
       "  </tbody>\n",
       "</table>\n",
       "</div>"
      ],
      "text/plain": [
       "   lang                   id      conversation_id  \\\n",
       "4    es  1404865872515194884  1404865188109684747   \n",
       "32   es  1404865864143343620  1404631106876542976   \n",
       "41   es  1404865862096535563  1404564648083525634   \n",
       "44   es  1404865862012702722  1404719991237251078   \n",
       "\n",
       "                                                 text  \\\n",
       "4      se ve tan real, además L y H se ven muy guapos   \n",
       "32  Fraude es tu vida se sabia que mucha gente en ...   \n",
       "41  Sí ve a decirle a tu lider que le has defendid...   \n",
       "44  Y si su comportamiento es igual al este papelo...   \n",
       "\n",
       "    public_metrics.retweet_count  public_metrics.reply_count  \\\n",
       "4                              0                           1   \n",
       "32                             0                           1   \n",
       "41                             0                           1   \n",
       "44                             0                           0   \n",
       "\n",
       "    public_metrics.like_count  public_metrics.quote_count  in_reply_to_user_id  \n",
       "4                           1                           0   920381329669226497  \n",
       "32                          0                           0  1252820905396301835  \n",
       "41                          0                           0  1362009157558292483  \n",
       "44                          1                           0  1281968549330857986  "
      ]
     },
     "execution_count": 61,
     "metadata": {},
     "output_type": "execute_result"
    }
   ],
   "source": [
    "response.loc[:, 'text'] = response.loc[:, 'text'].str.replace(r'(@\\w+)\\b', '', regex=True)\n",
    "response"
   ]
  },
  {
   "cell_type": "code",
   "execution_count": 63,
   "id": "4d2baf8d",
   "metadata": {},
   "outputs": [
    {
     "ename": "NameError",
     "evalue": "name 'split' is not defined",
     "output_type": "error",
     "traceback": [
      "\u001b[0;31m---------------------------------------------------------------------------\u001b[0m",
      "\u001b[0;31mNameError\u001b[0m                                 Traceback (most recent call last)",
      "\u001b[0;32m<ipython-input-63-9569860036e0>\u001b[0m in \u001b[0;36m<module>\u001b[0;34m\u001b[0m\n\u001b[0;32m----> 1\u001b[0;31m \u001b[0mresponse\u001b[0m\u001b[0;34m.\u001b[0m\u001b[0mloc\u001b[0m\u001b[0;34m[\u001b[0m\u001b[0;34m:\u001b[0m\u001b[0;34m,\u001b[0m \u001b[0;34m'text'\u001b[0m\u001b[0;34m]\u001b[0m\u001b[0;34m.\u001b[0m\u001b[0mapply\u001b[0m\u001b[0;34m(\u001b[0m\u001b[0msplit\u001b[0m\u001b[0;34m)\u001b[0m\u001b[0;34m\u001b[0m\u001b[0;34m\u001b[0m\u001b[0m\n\u001b[0m",
      "\u001b[0;31mNameError\u001b[0m: name 'split' is not defined"
     ]
    }
   ],
   "source": [
    "response.loc[:, 'text'].apply(split)"
   ]
  },
  {
   "cell_type": "code",
   "execution_count": 62,
   "id": "5d505497",
   "metadata": {},
   "outputs": [
    {
     "name": "stdout",
     "output_type": "stream",
     "text": [
      "se ve tan real, además L y H se ven muy guapos\n",
      "\n",
      "Fraude es tu vida se sabia que mucha gente en el sur está votando por castillo qué pasa se ve que no has viajado por la ciudades\n",
      "\n",
      "Sí ve a decirle a tu lider que le has defendido bien.\n",
      "\n",
      "Y si su comportamiento es igual al este papelon. Obviamente que si. O pensas que se critica lo que se ve con hormonas ?? 🤔\n",
      "\n"
     ]
    }
   ],
   "source": [
    "for a in response.loc[:, 'text']:\n",
    "    print(f'{a}\\n')"
   ]
  },
  {
   "cell_type": "code",
   "execution_count": 11,
   "id": "e94ec057",
   "metadata": {},
   "outputs": [],
   "source": [
    "with open('es_data.txt', 'w') as d:\n",
    "    d.writelines(response.to_json(orient='table', force_ascii=False))"
   ]
  },
  {
   "cell_type": "markdown",
   "id": "3c47499b",
   "metadata": {},
   "source": [
    "### Extracting Conversations"
   ]
  },
  {
   "cell_type": "code",
   "execution_count": 13,
   "id": "d32379d9",
   "metadata": {},
   "outputs": [
    {
     "name": "stdout",
     "output_type": "stream",
     "text": [
      "Extracted 22 convos\n",
      "\n"
     ]
    }
   ],
   "source": [
    "conv_ids = response.loc[:, 'conversation_id'].values\n",
    "\n",
    "print(f'Extracted {len(conv_ids)} convos\\n')"
   ]
  },
  {
   "cell_type": "code",
   "execution_count": 14,
   "id": "a4b15801",
   "metadata": {},
   "outputs": [],
   "source": [
    "query_conv = 'conversation_id:'\n",
    "query_conv_cond = ' -has:links '\n",
    "conv_fields = 'tweet.fields=conversation_id,lang,in_reply_to_user_id,text,attachments,public_metrics'\\\n",
    "  '&expansions=author_id&user.fields=username,public_metrics'"
   ]
  },
  {
   "cell_type": "code",
   "execution_count": 19,
   "id": "7311abc2",
   "metadata": {},
   "outputs": [],
   "source": [
    "# Dataframe for conversations\n",
    "convs = pd.DataFrame()\n",
    "# Dataframes for users\n",
    "users = pd.DataFrame()"
   ]
  },
  {
   "cell_type": "code",
   "execution_count": 20,
   "id": "8e0cc254",
   "metadata": {},
   "outputs": [],
   "source": [
    "# If the rate limit is hit while querying, save progress\n",
    "convo_idx = 0"
   ]
  },
  {
   "cell_type": "code",
   "execution_count": 21,
   "id": "bbef14b2",
   "metadata": {
    "scrolled": true
   },
   "outputs": [
    {
     "name": "stdout",
     "output_type": "stream",
     "text": [
      "1402642305522282500\n",
      "No next token!\n",
      "1402637774805667841\n",
      "No next token!\n",
      "1402634503173165058\n",
      "No next token!\n",
      "1402624093946527745\n",
      "1402634186909962240\n",
      "No next token!\n",
      "1402634112557518854\n",
      "No next token!\n",
      "1402633756888944642\n",
      "No next token!\n",
      "1402631188284645382\n",
      "1402633207640641538\n",
      "No next token!\n",
      "1402626496989179915\n",
      "1402629532994125827\n",
      "No next token!\n",
      "1402615477172686850\n",
      "No next token!\n",
      "1402625048180047879\n",
      "No next token!\n",
      "1402624924129366018\n",
      "No next token!\n",
      "1402617093514727426\n",
      "1402131777641193477\n",
      "No next token!\n",
      "1402620991369535495\n",
      "No next token!\n",
      "1402619563200729092\n",
      "No next token!\n",
      "1402623588176478209\n",
      "No next token!\n",
      "1402623338535604229\n",
      "No next token!\n",
      "1402623254767050756\n",
      "No next token!\n",
      "1402454421439717378\n",
      "No next token!\n"
     ]
    }
   ],
   "source": [
    "for c_id in conv_ids[convo_idx:]:\n",
    "    d = pd.DataFrame()\n",
    "    u = pd.DataFrame()\n",
    "    \n",
    "    print(c)\n",
    "    \n",
    "    while connection.connect(query_conv + c_id + query_conv_cond, conv_fields, True):\n",
    "        d = d.append(\n",
    "            pd.json_normalize(connection.response, record_path='data'))\n",
    "        u = u.append(\n",
    "            pd.json_normalize(connection.response['includes'], record_path='users'))\n",
    "        \n",
    "        d.loc[:, 'text'] = d.loc[:, 'text'].str.replace(r'^(@[\\w]+ )+', '', regex=True)\n",
    "        \n",
    "        short_text = d.loc[:, 'text'].apply(len) < 20\n",
    "        lang = d.loc[:, 'lang']!='es'\n",
    "        \n",
    "        d.drop(\n",
    "            d.loc[lang|short_text].index, \n",
    "            inplace=True)\n",
    "        \n",
    "        if d.shape[0]>14:\n",
    "            break\n",
    "        \n",
    "    convs = convs.append(d, ignore_index=True)\n",
    "    users = users.append(u, ignore_index=True)\n",
    "    \n",
    "    convo_idx+=1 "
   ]
  },
  {
   "cell_type": "code",
   "execution_count": 22,
   "id": "4b023b5b",
   "metadata": {},
   "outputs": [
    {
     "name": "stdout",
     "output_type": "stream",
     "text": [
      "Extracted 109 texts\n",
      "Sample:\n",
      "\n"
     ]
    },
    {
     "data": {
      "text/html": [
       "<div>\n",
       "<style scoped>\n",
       "    .dataframe tbody tr th:only-of-type {\n",
       "        vertical-align: middle;\n",
       "    }\n",
       "\n",
       "    .dataframe tbody tr th {\n",
       "        vertical-align: top;\n",
       "    }\n",
       "\n",
       "    .dataframe thead th {\n",
       "        text-align: right;\n",
       "    }\n",
       "</style>\n",
       "<table border=\"1\" class=\"dataframe\">\n",
       "  <thead>\n",
       "    <tr style=\"text-align: right;\">\n",
       "      <th></th>\n",
       "      <th>in_reply_to_user_id</th>\n",
       "      <th>conversation_id</th>\n",
       "      <th>author_id</th>\n",
       "      <th>lang</th>\n",
       "      <th>text</th>\n",
       "      <th>id</th>\n",
       "      <th>public_metrics.retweet_count</th>\n",
       "      <th>public_metrics.reply_count</th>\n",
       "      <th>public_metrics.like_count</th>\n",
       "      <th>public_metrics.quote_count</th>\n",
       "    </tr>\n",
       "  </thead>\n",
       "  <tbody>\n",
       "    <tr>\n",
       "      <th>0</th>\n",
       "      <td>69416519</td>\n",
       "      <td>1402624093946527745</td>\n",
       "      <td>1537353780</td>\n",
       "      <td>es</td>\n",
       "      <td>Muchas fuerza Florencia,lo que te desea el mal...</td>\n",
       "      <td>1402658383950454791</td>\n",
       "      <td>0</td>\n",
       "      <td>0</td>\n",
       "      <td>0</td>\n",
       "      <td>0</td>\n",
       "    </tr>\n",
       "    <tr>\n",
       "      <th>1</th>\n",
       "      <td>69416519</td>\n",
       "      <td>1402624093946527745</td>\n",
       "      <td>468895557</td>\n",
       "      <td>es</td>\n",
       "      <td>El mal que hace la madre lo pagan los hijos.\\n...</td>\n",
       "      <td>1402656218150285315</td>\n",
       "      <td>0</td>\n",
       "      <td>0</td>\n",
       "      <td>0</td>\n",
       "      <td>0</td>\n",
       "    </tr>\n",
       "    <tr>\n",
       "      <th>2</th>\n",
       "      <td>69416519</td>\n",
       "      <td>1402624093946527745</td>\n",
       "      <td>1471308854</td>\n",
       "      <td>es</td>\n",
       "      <td>Nunca un hospital público estos garcas. Ni ver...</td>\n",
       "      <td>1402655563792764935</td>\n",
       "      <td>0</td>\n",
       "      <td>0</td>\n",
       "      <td>0</td>\n",
       "      <td>0</td>\n",
       "    </tr>\n",
       "    <tr>\n",
       "      <th>3</th>\n",
       "      <td>69416519</td>\n",
       "      <td>1402624093946527745</td>\n",
       "      <td>398461357</td>\n",
       "      <td>es</td>\n",
       "      <td>Porque no muestra la cara ?</td>\n",
       "      <td>1402653558219194372</td>\n",
       "      <td>0</td>\n",
       "      <td>0</td>\n",
       "      <td>0</td>\n",
       "      <td>0</td>\n",
       "    </tr>\n",
       "    <tr>\n",
       "      <th>4</th>\n",
       "      <td>69416519</td>\n",
       "      <td>1402624093946527745</td>\n",
       "      <td>169167606</td>\n",
       "      <td>es</td>\n",
       "      <td>Esta mujer esta anoréxica</td>\n",
       "      <td>1402653194174468103</td>\n",
       "      <td>0</td>\n",
       "      <td>0</td>\n",
       "      <td>1</td>\n",
       "      <td>0</td>\n",
       "    </tr>\n",
       "  </tbody>\n",
       "</table>\n",
       "</div>"
      ],
      "text/plain": [
       "  in_reply_to_user_id      conversation_id   author_id lang  \\\n",
       "0            69416519  1402624093946527745  1537353780   es   \n",
       "1            69416519  1402624093946527745   468895557   es   \n",
       "2            69416519  1402624093946527745  1471308854   es   \n",
       "3            69416519  1402624093946527745   398461357   es   \n",
       "4            69416519  1402624093946527745   169167606   es   \n",
       "\n",
       "                                                text                   id  \\\n",
       "0  Muchas fuerza Florencia,lo que te desea el mal...  1402658383950454791   \n",
       "1  El mal que hace la madre lo pagan los hijos.\\n...  1402656218150285315   \n",
       "2  Nunca un hospital público estos garcas. Ni ver...  1402655563792764935   \n",
       "3                        Porque no muestra la cara ?  1402653558219194372   \n",
       "4                          Esta mujer esta anoréxica  1402653194174468103   \n",
       "\n",
       "   public_metrics.retweet_count  public_metrics.reply_count  \\\n",
       "0                             0                           0   \n",
       "1                             0                           0   \n",
       "2                             0                           0   \n",
       "3                             0                           0   \n",
       "4                             0                           0   \n",
       "\n",
       "   public_metrics.like_count  public_metrics.quote_count  \n",
       "0                          0                           0  \n",
       "1                          0                           0  \n",
       "2                          0                           0  \n",
       "3                          0                           0  \n",
       "4                          1                           0  "
      ]
     },
     "execution_count": 22,
     "metadata": {},
     "output_type": "execute_result"
    }
   ],
   "source": [
    "print(f'Extracted {convs.shape[0]} texts\\nSample:\\n')\n",
    "convs.head()"
   ]
  },
  {
   "cell_type": "code",
   "execution_count": 23,
   "id": "a7e8c68a",
   "metadata": {},
   "outputs": [],
   "source": [
    "with open('es_convs.txt', 'w') as d:\n",
    "    d.writelines(convs.to_json(orient='table', force_ascii=False))"
   ]
  },
  {
   "cell_type": "markdown",
   "id": "6290ed0e",
   "metadata": {},
   "source": [
    "#### Examining extracted users"
   ]
  },
  {
   "cell_type": "markdown",
   "id": "4bad2435",
   "metadata": {},
   "source": [
    "## TODO: users were improperly counted; count is WRONG"
   ]
  },
  {
   "cell_type": "code",
   "execution_count": 25,
   "id": "a7c3196c",
   "metadata": {},
   "outputs": [
    {
     "name": "stdout",
     "output_type": "stream",
     "text": [
      "Users: 256, duplicated: 27\n"
     ]
    }
   ],
   "source": [
    "dups = users.loc[:, 'id'].duplicated()\n",
    "\n",
    "print(f'Users: {users.shape[0]}, duplicated: {dups.sum()}')"
   ]
  },
  {
   "cell_type": "code",
   "execution_count": 27,
   "id": "4ada6fbc",
   "metadata": {},
   "outputs": [
    {
     "name": "stdout",
     "output_type": "stream",
     "text": [
      "229\n"
     ]
    }
   ],
   "source": [
    "users.drop(users.loc[dups].index, inplace=True)\n",
    "print(users.shape[0])"
   ]
  },
  {
   "cell_type": "code",
   "execution_count": 28,
   "id": "31b1bc9f",
   "metadata": {},
   "outputs": [],
   "source": [
    "with open('es_users.txt', 'w') as d:\n",
    "    d.writelines(users.to_json(orient='table', force_ascii=False))"
   ]
  },
  {
   "cell_type": "code",
   "execution_count": null,
   "id": "f255e71f",
   "metadata": {},
   "outputs": [],
   "source": []
  }
 ],
 "metadata": {
  "kernelspec": {
   "display_name": "Python 3",
   "language": "python",
   "name": "python3"
  },
  "language_info": {
   "codemirror_mode": {
    "name": "ipython",
    "version": 3
   },
   "file_extension": ".py",
   "mimetype": "text/x-python",
   "name": "python",
   "nbconvert_exporter": "python",
   "pygments_lexer": "ipython3",
   "version": "3.7.10"
  }
 },
 "nbformat": 4,
 "nbformat_minor": 5
}
