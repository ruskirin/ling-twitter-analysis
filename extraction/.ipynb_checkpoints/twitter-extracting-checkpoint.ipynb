{
 "cells": [
  {
   "cell_type": "code",
   "execution_count": 1,
   "id": "refined-cedar",
   "metadata": {},
   "outputs": [],
   "source": [
    "import json\n",
    "import re\n",
    "import numpy as np \n",
    "import pandas as pd"
   ]
  },
  {
   "cell_type": "code",
   "execution_count": 2,
   "id": "03c55a48",
   "metadata": {},
   "outputs": [],
   "source": [
    "import importlib.util as imp\n",
    "\n",
    "# The name 'twitter-connection.connection' seems inconsequential\n",
    "#   perhaps just a spec name?\n",
    "spec = imp.spec_from_file_location(\n",
    "    'twitter-connection.connection', \n",
    "    '/home/rimov/Documents/Code/NLP/lin-que-dropping/twitter-connection/connection.py')\n",
    "twit = imp.module_from_spec(spec)\n",
    "spec.loader.exec_module(twit)"
   ]
  },
  {
   "cell_type": "markdown",
   "id": "faf5d812",
   "metadata": {},
   "source": [
    "### References\n",
    "\n",
    "https://twitter-trends.iamrohit.in/"
   ]
  },
  {
   "cell_type": "code",
   "execution_count": 3,
   "id": "926a8734",
   "metadata": {},
   "outputs": [],
   "source": [
    "cred_path = r'/home/rimov/Documents/Code/NLP/lin-que-dropping/credentials.txt'\n",
    "\n",
    "connection = twit.TwitterConnection(\"spanish\", cred_path)"
   ]
  },
  {
   "cell_type": "code",
   "execution_count": 4,
   "id": "7f8f86b3",
   "metadata": {},
   "outputs": [],
   "source": [
    "query = ['Sanatorio Otamendi', 'Carnota']"
   ]
  },
  {
   "cell_type": "code",
   "execution_count": 5,
   "id": "819d8c60",
   "metadata": {},
   "outputs": [],
   "source": [
    "query_cond = ' -is:retweet -has:links '\n",
    "fields = 'tweet.fields=lang,conversation_id,in_reply_to_user_id,text,public_metrics'"
   ]
  },
  {
   "cell_type": "code",
   "execution_count": 11,
   "id": "92b02b8e",
   "metadata": {},
   "outputs": [],
   "source": [
    "# Dataframes for initial parsing\n",
    "response = pd.DataFrame()"
   ]
  },
  {
   "cell_type": "code",
   "execution_count": 12,
   "id": "382d95a2",
   "metadata": {},
   "outputs": [
    {
     "name": "stdout",
     "output_type": "stream",
     "text": [
      "6\n",
      "5\n",
      "11\n",
      "7\n",
      "8\n",
      "7\n",
      "12\n"
     ]
    }
   ],
   "source": [
    "for q in query:\n",
    "    d = pd.DataFrame()\n",
    "    \n",
    "    while connection.connect(q+query_cond, fields, is_next=True):\n",
    "        d = d.append(\n",
    "            pd.json_normalize(connection.response, record_path='data'))\n",
    "        \n",
    "        # Remove '@...' mentions\n",
    "        d.loc[:, 'text'] = d.loc[:, 'text'].str.replace(r'^(@[\\w]+ )+', '', regex=True)\n",
    "        \n",
    "        dup = d.loc[:, 'text'].duplicated() # Duplicated text\n",
    "        dup_conv = d.loc[:, 'conversation_id'].duplicated() # Duplicate conv ids.\n",
    "        lang = d.loc[:, 'lang']!='es' # Wrong language\n",
    "        replies = (d.loc[:, 'public_metrics.reply_count']==0)\\\n",
    "                  &(d.loc[:, 'in_reply_to_user_id'].isna())\n",
    "        \n",
    "        d.drop(\n",
    "            d.loc[dup|dup_conv|lang|replies].index, \n",
    "            inplace=True)\n",
    "        \n",
    "        print(d.shape[0])\n",
    "        \n",
    "        if d.shape[0] > 10:\n",
    "            break\n",
    "    \n",
    "    response = response.append(d, ignore_index=True)"
   ]
  },
  {
   "cell_type": "code",
   "execution_count": 13,
   "id": "f242f254",
   "metadata": {
    "scrolled": true
   },
   "outputs": [
    {
     "data": {
      "text/html": [
       "<div>\n",
       "<style scoped>\n",
       "    .dataframe tbody tr th:only-of-type {\n",
       "        vertical-align: middle;\n",
       "    }\n",
       "\n",
       "    .dataframe tbody tr th {\n",
       "        vertical-align: top;\n",
       "    }\n",
       "\n",
       "    .dataframe thead th {\n",
       "        text-align: right;\n",
       "    }\n",
       "</style>\n",
       "<table border=\"1\" class=\"dataframe\">\n",
       "  <thead>\n",
       "    <tr style=\"text-align: right;\">\n",
       "      <th></th>\n",
       "      <th>text</th>\n",
       "      <th>in_reply_to_user_id</th>\n",
       "      <th>conversation_id</th>\n",
       "      <th>id</th>\n",
       "      <th>lang</th>\n",
       "      <th>public_metrics.retweet_count</th>\n",
       "      <th>public_metrics.reply_count</th>\n",
       "      <th>public_metrics.like_count</th>\n",
       "      <th>public_metrics.quote_count</th>\n",
       "    </tr>\n",
       "  </thead>\n",
       "  <tbody>\n",
       "    <tr>\n",
       "      <th>0</th>\n",
       "      <td>Brancatelli  en la Trinidad de Palermo\\nVerbit...</td>\n",
       "      <td>NaN</td>\n",
       "      <td>1403157168476626944</td>\n",
       "      <td>1403157168476626944</td>\n",
       "      <td>es</td>\n",
       "      <td>23</td>\n",
       "      <td>5</td>\n",
       "      <td>37</td>\n",
       "      <td>1</td>\n",
       "    </tr>\n",
       "    <tr>\n",
       "      <th>1</th>\n",
       "      <td>Parte Médico del Sanatorio Otamendi, el LORO n...</td>\n",
       "      <td>NaN</td>\n",
       "      <td>1402927241798033408</td>\n",
       "      <td>1402927241798033408</td>\n",
       "      <td>es</td>\n",
       "      <td>4</td>\n",
       "      <td>8</td>\n",
       "      <td>15</td>\n",
       "      <td>0</td>\n",
       "    </tr>\n",
       "    <tr>\n",
       "      <th>2</th>\n",
       "      <td>qué tiene que ver el raviol con el dulce de le...</td>\n",
       "      <td>2639394153</td>\n",
       "      <td>1402655349178605574</td>\n",
       "      <td>1402833184526569473</td>\n",
       "      <td>es</td>\n",
       "      <td>1</td>\n",
       "      <td>1</td>\n",
       "      <td>1</td>\n",
       "      <td>0</td>\n",
       "    </tr>\n",
       "    <tr>\n",
       "      <th>3</th>\n",
       "      <td>El Sanatorio Otamendi informó que la paciente ...</td>\n",
       "      <td>1249130156494663682</td>\n",
       "      <td>1402801920574636033</td>\n",
       "      <td>1402809575347195911</td>\n",
       "      <td>es</td>\n",
       "      <td>0</td>\n",
       "      <td>0</td>\n",
       "      <td>0</td>\n",
       "      <td>0</td>\n",
       "    </tr>\n",
       "    <tr>\n",
       "      <th>4</th>\n",
       "      <td>Sanatorio Otamendi... Re Nac&amp;amp;Pop.\\n\\nEs do...</td>\n",
       "      <td>NaN</td>\n",
       "      <td>1402790811369193473</td>\n",
       "      <td>1402790811369193473</td>\n",
       "      <td>es</td>\n",
       "      <td>2</td>\n",
       "      <td>1</td>\n",
       "      <td>18</td>\n",
       "      <td>0</td>\n",
       "    </tr>\n",
       "  </tbody>\n",
       "</table>\n",
       "</div>"
      ],
      "text/plain": [
       "                                                text  in_reply_to_user_id  \\\n",
       "0  Brancatelli  en la Trinidad de Palermo\\nVerbit...                  NaN   \n",
       "1  Parte Médico del Sanatorio Otamendi, el LORO n...                  NaN   \n",
       "2  qué tiene que ver el raviol con el dulce de le...           2639394153   \n",
       "3  El Sanatorio Otamendi informó que la paciente ...  1249130156494663682   \n",
       "4  Sanatorio Otamendi... Re Nac&amp;Pop.\\n\\nEs do...                  NaN   \n",
       "\n",
       "       conversation_id                   id lang  \\\n",
       "0  1403157168476626944  1403157168476626944   es   \n",
       "1  1402927241798033408  1402927241798033408   es   \n",
       "2  1402655349178605574  1402833184526569473   es   \n",
       "3  1402801920574636033  1402809575347195911   es   \n",
       "4  1402790811369193473  1402790811369193473   es   \n",
       "\n",
       "   public_metrics.retweet_count  public_metrics.reply_count  \\\n",
       "0                            23                           5   \n",
       "1                             4                           8   \n",
       "2                             1                           1   \n",
       "3                             0                           0   \n",
       "4                             2                           1   \n",
       "\n",
       "   public_metrics.like_count  public_metrics.quote_count  \n",
       "0                         37                           1  \n",
       "1                         15                           0  \n",
       "2                          1                           0  \n",
       "3                          0                           0  \n",
       "4                         18                           0  "
      ]
     },
     "execution_count": 13,
     "metadata": {},
     "output_type": "execute_result"
    }
   ],
   "source": [
    "response.head()"
   ]
  },
  {
   "cell_type": "code",
   "execution_count": 11,
   "id": "e94ec057",
   "metadata": {},
   "outputs": [],
   "source": [
    "with open('es_data.txt', 'w') as d:\n",
    "    d.writelines(response.to_json(orient='table', force_ascii=False))"
   ]
  },
  {
   "cell_type": "markdown",
   "id": "3c47499b",
   "metadata": {},
   "source": [
    "### Extracting Conversations"
   ]
  },
  {
   "cell_type": "code",
   "execution_count": 13,
   "id": "d32379d9",
   "metadata": {},
   "outputs": [
    {
     "name": "stdout",
     "output_type": "stream",
     "text": [
      "Extracted 22 convos\n",
      "\n"
     ]
    }
   ],
   "source": [
    "conv_ids = response.loc[:, 'conversation_id'].values\n",
    "\n",
    "print(f'Extracted {len(conv_ids)} convos\\n')"
   ]
  },
  {
   "cell_type": "code",
   "execution_count": 14,
   "id": "a4b15801",
   "metadata": {},
   "outputs": [],
   "source": [
    "query_conv = 'conversation_id:'\n",
    "query_conv_cond = ' -has:links '\n",
    "conv_fields = 'tweet.fields=conversation_id,lang,in_reply_to_user_id,text,attachments,public_metrics'\\\n",
    "  '&expansions=author_id&user.fields=username,public_metrics'"
   ]
  },
  {
   "cell_type": "code",
   "execution_count": 19,
   "id": "7311abc2",
   "metadata": {},
   "outputs": [],
   "source": [
    "# Dataframe for conversations\n",
    "convs = pd.DataFrame()\n",
    "# Dataframes for users\n",
    "users = pd.DataFrame()"
   ]
  },
  {
   "cell_type": "code",
   "execution_count": 20,
   "id": "8e0cc254",
   "metadata": {},
   "outputs": [],
   "source": [
    "# If the rate limit is hit while querying, save progress\n",
    "convo_idx = 0"
   ]
  },
  {
   "cell_type": "code",
   "execution_count": 21,
   "id": "bbef14b2",
   "metadata": {
    "scrolled": true
   },
   "outputs": [
    {
     "name": "stdout",
     "output_type": "stream",
     "text": [
      "1402642305522282500\n",
      "No next token!\n",
      "1402637774805667841\n",
      "No next token!\n",
      "1402634503173165058\n",
      "No next token!\n",
      "1402624093946527745\n",
      "1402634186909962240\n",
      "No next token!\n",
      "1402634112557518854\n",
      "No next token!\n",
      "1402633756888944642\n",
      "No next token!\n",
      "1402631188284645382\n",
      "1402633207640641538\n",
      "No next token!\n",
      "1402626496989179915\n",
      "1402629532994125827\n",
      "No next token!\n",
      "1402615477172686850\n",
      "No next token!\n",
      "1402625048180047879\n",
      "No next token!\n",
      "1402624924129366018\n",
      "No next token!\n",
      "1402617093514727426\n",
      "1402131777641193477\n",
      "No next token!\n",
      "1402620991369535495\n",
      "No next token!\n",
      "1402619563200729092\n",
      "No next token!\n",
      "1402623588176478209\n",
      "No next token!\n",
      "1402623338535604229\n",
      "No next token!\n",
      "1402623254767050756\n",
      "No next token!\n",
      "1402454421439717378\n",
      "No next token!\n"
     ]
    }
   ],
   "source": [
    "for c_id in conv_ids[convo_idx:]:\n",
    "    d = pd.DataFrame()\n",
    "    u = pd.DataFrame()\n",
    "    \n",
    "    print(c)\n",
    "    \n",
    "    while connection.connect(query_conv + c_id + query_conv_cond, conv_fields, True):\n",
    "        d = d.append(\n",
    "            pd.json_normalize(connection.response, record_path='data'))\n",
    "        u = u.append(\n",
    "            pd.json_normalize(connection.response['includes'], record_path='users'))\n",
    "        \n",
    "        d.loc[:, 'text'] = d.loc[:, 'text'].str.replace(r'^(@[\\w]+ )+', '', regex=True)\n",
    "        \n",
    "        short_text = d.loc[:, 'text'].apply(len) < 20\n",
    "        lang = d.loc[:, 'lang']!='es'\n",
    "        \n",
    "        d.drop(\n",
    "            d.loc[lang|short_text].index, \n",
    "            inplace=True)\n",
    "        \n",
    "        if d.shape[0]>14:\n",
    "            break\n",
    "        \n",
    "    convs = convs.append(d, ignore_index=True)\n",
    "    users = users.append(u, ignore_index=True)\n",
    "    \n",
    "    convo_idx+=1 "
   ]
  },
  {
   "cell_type": "code",
   "execution_count": 22,
   "id": "4b023b5b",
   "metadata": {},
   "outputs": [
    {
     "name": "stdout",
     "output_type": "stream",
     "text": [
      "Extracted 109 texts\n",
      "Sample:\n",
      "\n"
     ]
    },
    {
     "data": {
      "text/html": [
       "<div>\n",
       "<style scoped>\n",
       "    .dataframe tbody tr th:only-of-type {\n",
       "        vertical-align: middle;\n",
       "    }\n",
       "\n",
       "    .dataframe tbody tr th {\n",
       "        vertical-align: top;\n",
       "    }\n",
       "\n",
       "    .dataframe thead th {\n",
       "        text-align: right;\n",
       "    }\n",
       "</style>\n",
       "<table border=\"1\" class=\"dataframe\">\n",
       "  <thead>\n",
       "    <tr style=\"text-align: right;\">\n",
       "      <th></th>\n",
       "      <th>in_reply_to_user_id</th>\n",
       "      <th>conversation_id</th>\n",
       "      <th>author_id</th>\n",
       "      <th>lang</th>\n",
       "      <th>text</th>\n",
       "      <th>id</th>\n",
       "      <th>public_metrics.retweet_count</th>\n",
       "      <th>public_metrics.reply_count</th>\n",
       "      <th>public_metrics.like_count</th>\n",
       "      <th>public_metrics.quote_count</th>\n",
       "    </tr>\n",
       "  </thead>\n",
       "  <tbody>\n",
       "    <tr>\n",
       "      <th>0</th>\n",
       "      <td>69416519</td>\n",
       "      <td>1402624093946527745</td>\n",
       "      <td>1537353780</td>\n",
       "      <td>es</td>\n",
       "      <td>Muchas fuerza Florencia,lo que te desea el mal...</td>\n",
       "      <td>1402658383950454791</td>\n",
       "      <td>0</td>\n",
       "      <td>0</td>\n",
       "      <td>0</td>\n",
       "      <td>0</td>\n",
       "    </tr>\n",
       "    <tr>\n",
       "      <th>1</th>\n",
       "      <td>69416519</td>\n",
       "      <td>1402624093946527745</td>\n",
       "      <td>468895557</td>\n",
       "      <td>es</td>\n",
       "      <td>El mal que hace la madre lo pagan los hijos.\\n...</td>\n",
       "      <td>1402656218150285315</td>\n",
       "      <td>0</td>\n",
       "      <td>0</td>\n",
       "      <td>0</td>\n",
       "      <td>0</td>\n",
       "    </tr>\n",
       "    <tr>\n",
       "      <th>2</th>\n",
       "      <td>69416519</td>\n",
       "      <td>1402624093946527745</td>\n",
       "      <td>1471308854</td>\n",
       "      <td>es</td>\n",
       "      <td>Nunca un hospital público estos garcas. Ni ver...</td>\n",
       "      <td>1402655563792764935</td>\n",
       "      <td>0</td>\n",
       "      <td>0</td>\n",
       "      <td>0</td>\n",
       "      <td>0</td>\n",
       "    </tr>\n",
       "    <tr>\n",
       "      <th>3</th>\n",
       "      <td>69416519</td>\n",
       "      <td>1402624093946527745</td>\n",
       "      <td>398461357</td>\n",
       "      <td>es</td>\n",
       "      <td>Porque no muestra la cara ?</td>\n",
       "      <td>1402653558219194372</td>\n",
       "      <td>0</td>\n",
       "      <td>0</td>\n",
       "      <td>0</td>\n",
       "      <td>0</td>\n",
       "    </tr>\n",
       "    <tr>\n",
       "      <th>4</th>\n",
       "      <td>69416519</td>\n",
       "      <td>1402624093946527745</td>\n",
       "      <td>169167606</td>\n",
       "      <td>es</td>\n",
       "      <td>Esta mujer esta anoréxica</td>\n",
       "      <td>1402653194174468103</td>\n",
       "      <td>0</td>\n",
       "      <td>0</td>\n",
       "      <td>1</td>\n",
       "      <td>0</td>\n",
       "    </tr>\n",
       "  </tbody>\n",
       "</table>\n",
       "</div>"
      ],
      "text/plain": [
       "  in_reply_to_user_id      conversation_id   author_id lang  \\\n",
       "0            69416519  1402624093946527745  1537353780   es   \n",
       "1            69416519  1402624093946527745   468895557   es   \n",
       "2            69416519  1402624093946527745  1471308854   es   \n",
       "3            69416519  1402624093946527745   398461357   es   \n",
       "4            69416519  1402624093946527745   169167606   es   \n",
       "\n",
       "                                                text                   id  \\\n",
       "0  Muchas fuerza Florencia,lo que te desea el mal...  1402658383950454791   \n",
       "1  El mal que hace la madre lo pagan los hijos.\\n...  1402656218150285315   \n",
       "2  Nunca un hospital público estos garcas. Ni ver...  1402655563792764935   \n",
       "3                        Porque no muestra la cara ?  1402653558219194372   \n",
       "4                          Esta mujer esta anoréxica  1402653194174468103   \n",
       "\n",
       "   public_metrics.retweet_count  public_metrics.reply_count  \\\n",
       "0                             0                           0   \n",
       "1                             0                           0   \n",
       "2                             0                           0   \n",
       "3                             0                           0   \n",
       "4                             0                           0   \n",
       "\n",
       "   public_metrics.like_count  public_metrics.quote_count  \n",
       "0                          0                           0  \n",
       "1                          0                           0  \n",
       "2                          0                           0  \n",
       "3                          0                           0  \n",
       "4                          1                           0  "
      ]
     },
     "execution_count": 22,
     "metadata": {},
     "output_type": "execute_result"
    }
   ],
   "source": [
    "print(f'Extracted {convs.shape[0]} texts\\nSample:\\n')\n",
    "convs.head()"
   ]
  },
  {
   "cell_type": "code",
   "execution_count": 23,
   "id": "a7e8c68a",
   "metadata": {},
   "outputs": [],
   "source": [
    "with open('es_convs.txt', 'w') as d:\n",
    "    d.writelines(convs.to_json(orient='table', force_ascii=False))"
   ]
  },
  {
   "cell_type": "markdown",
   "id": "6290ed0e",
   "metadata": {},
   "source": [
    "#### Examining extracted users"
   ]
  },
  {
   "cell_type": "markdown",
   "id": "4bad2435",
   "metadata": {},
   "source": [
    "## TODO: users were improperly counted; count is WRONG"
   ]
  },
  {
   "cell_type": "code",
   "execution_count": 25,
   "id": "a7c3196c",
   "metadata": {},
   "outputs": [
    {
     "name": "stdout",
     "output_type": "stream",
     "text": [
      "Users: 256, duplicated: 27\n"
     ]
    }
   ],
   "source": [
    "dups = users.loc[:, 'id'].duplicated()\n",
    "\n",
    "print(f'Users: {users.shape[0]}, duplicated: {dups.sum()}')"
   ]
  },
  {
   "cell_type": "code",
   "execution_count": 27,
   "id": "4ada6fbc",
   "metadata": {},
   "outputs": [
    {
     "name": "stdout",
     "output_type": "stream",
     "text": [
      "229\n"
     ]
    }
   ],
   "source": [
    "users.drop(users.loc[dups].index, inplace=True)\n",
    "print(users.shape[0])"
   ]
  },
  {
   "cell_type": "code",
   "execution_count": 28,
   "id": "31b1bc9f",
   "metadata": {},
   "outputs": [],
   "source": [
    "with open('es_users.txt', 'w') as d:\n",
    "    d.writelines(users.to_json(orient='table', force_ascii=False))"
   ]
  },
  {
   "cell_type": "code",
   "execution_count": null,
   "id": "f255e71f",
   "metadata": {},
   "outputs": [],
   "source": []
  }
 ],
 "metadata": {
  "kernelspec": {
   "display_name": "Python 3",
   "language": "python",
   "name": "python3"
  },
  "language_info": {
   "codemirror_mode": {
    "name": "ipython",
    "version": 3
   },
   "file_extension": ".py",
   "mimetype": "text/x-python",
   "name": "python",
   "nbconvert_exporter": "python",
   "pygments_lexer": "ipython3",
   "version": "3.7.10"
  }
 },
 "nbformat": 4,
 "nbformat_minor": 5
}
