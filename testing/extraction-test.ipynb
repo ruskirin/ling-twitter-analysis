{
 "cells": [
  {
   "cell_type": "code",
   "execution_count": 1,
   "id": "2f3dc885",
   "metadata": {},
   "outputs": [],
   "source": [
    "import json\n",
    "import re\n",
    "import numpy as np \n",
    "import pandas as pd\n",
    "from datetime import datetime as dt\n",
    "from time import sleep\n",
    "\n",
    "import spacy\n",
    "spacy.require_gpu()\n",
    "from torch.utils import dlpack"
   ]
  },
  {
   "cell_type": "code",
   "execution_count": 2,
   "id": "4786ac1b",
   "metadata": {},
   "outputs": [],
   "source": [
    "import importlib.util as imp\n",
    "import sys\n",
    "\n",
    "spec = imp.spec_from_file_location(\n",
    "    'twitter_connection', \n",
    "    '../twitter-connection/__init__.py')\n",
    "twit = imp.module_from_spec(spec)\n",
    "sys.modules[spec.name] = twit\n",
    "spec.loader.exec_module(twit)\n",
    "\n",
    "from twitter_connection import connection as tc\n",
    "from twitter_connection import response as tr"
   ]
  },
  {
   "cell_type": "code",
   "execution_count": 3,
   "id": "c35e0bb2",
   "metadata": {},
   "outputs": [],
   "source": [
    "spec_data = imp.spec_from_file_location(\n",
    "    'twitter_data',\n",
    "    '../twitter-connection/twitter_data/__init__.py')\n",
    "twit = imp.module_from_spec(spec_data)\n",
    "sys.modules[spec_data.name] = twit\n",
    "spec_data.loader.exec_module(twit)\n",
    "\n",
    "from twitter_data import twitter_data, tweets, users, places"
   ]
  },
  {
   "cell_type": "code",
   "execution_count": 4,
   "id": "5355260c",
   "metadata": {},
   "outputs": [],
   "source": [
    "'''\n",
    "File path to the bearer token. Requires a prefix to identify the\n",
    "  token, which is just 'PERSONAL $BEARER_TOKEN$' by default -- \n",
    "  can be specified upon initialization of TwitterConnection\n",
    "'''\n",
    "cred_path = r'../twitter-connection/credentials.txt'"
   ]
  },
  {
   "cell_type": "code",
   "execution_count": 5,
   "id": "699773d5",
   "metadata": {},
   "outputs": [],
   "source": [
    "verbstem_path = '/home/rimov/Documents/Code/NLP/lin-que-dropping/extraction/verb-stem-clean.txt'"
   ]
  },
  {
   "cell_type": "code",
   "execution_count": 6,
   "id": "b819faf9",
   "metadata": {},
   "outputs": [],
   "source": [
    "try:\n",
    "    with open(verbstem_path, 'r') as f:\n",
    "        verb_stem = json.load(f)\n",
    "        verb_stem = list(verb_stem.keys())\n",
    "except FileNotFoundError as e:\n",
    "    print(f'Couldn\\'t find file at location specified: '\\\n",
    "          f'\\n{e.args} '\\\n",
    "          f'\\n!!!Make sure to adjust custom filepaths!!!')\n",
    "finally:\n",
    "    # All the Portuguese-only verbs\n",
    "    pt_verbs = {'dizer', 'supor', 'duvidar', 'acreditar', 'achar', 'lembrar', 'recear', 'predizer', 'adivinhar', 'conjeturar', 'chutar', 'dar(se) conta', 'desejar', 'oxala', 'tomara'}\n",
    "    verbs_stative = verb_stem[:22]\n",
    "    verbs_volit = verb_stem[len(verb_stem)-17:]\n",
    "    verbs_epistemic = [v for v in verb_stem if (v not in verbs_stative) and (v not in verbs_volit)]\n",
    "    \n",
    "    es_verbs = [v for v in verb_stem if v not in pt_verbs]\n",
    "    es_verbs_stative = [v for v in verbs_stative if v not in pt_verbs]\n",
    "    es_verbs_volit = [v for v in verbs_volit if v not in pt_verbs]\n",
    "    es_verbs_epistemic = [v for v in verbs_epistemic if v not in pt_verbs]"
   ]
  },
  {
   "cell_type": "code",
   "execution_count": 7,
   "id": "73c9a5c4",
   "metadata": {},
   "outputs": [],
   "source": [
    "es_query_cond = 'lang:es has:geo -is:retweet -has:links '\n",
    "pt_query_cond = 'lang:pt has:geo -is:retweet -has:links '\n",
    "fields_tweet = 'tweet.fields=lang,geo,created_at,public_metrics,referenced_tweets'\n",
    "fields_expan = 'expansions=author_id,geo.place_id,entities.mentions.username'\n",
    "fields_user = 'user.fields=created_at,location,public_metrics'\n",
    "fields_place = 'place.fields=country'"
   ]
  },
  {
   "cell_type": "code",
   "execution_count": 8,
   "id": "caac54ec",
   "metadata": {},
   "outputs": [
    {
     "data": {
      "text/plain": [
       "['ver',\n",
       " 'jurar',\n",
       " 'decir',\n",
       " 'confesar',\n",
       " 'prometer',\n",
       " 'mostrar',\n",
       " 'demostrar',\n",
       " 'afirmar',\n",
       " 'confirmar',\n",
       " 'conseguir',\n",
       " 'lograr',\n",
       " 'responder',\n",
       " 'admitir',\n",
       " 'considerar',\n",
       " 'asegurar',\n",
       " 'mencionar',\n",
       " 'gritar',\n",
       " 'suspirar',\n",
       " 'reclamar',\n",
       " 'contar',\n",
       " 'suponer',\n",
       " 'saber',\n",
       " 'pensar',\n",
       " 'imaginar',\n",
       " 'dudar',\n",
       " 'creer',\n",
       " 'recordar',\n",
       " 'acordar',\n",
       " 'temer',\n",
       " 'recomendar',\n",
       " 'parecer',\n",
       " 'entender',\n",
       " 'negar',\n",
       " 'apostar',\n",
       " 'predecir',\n",
       " 'prever',\n",
       " 'sentir',\n",
       " 'comprobar',\n",
       " 'adivinar',\n",
       " 'dar(se) cuenta',\n",
       " 'lamentar',\n",
       " 'rogar',\n",
       " 'querer',\n",
       " 'esperar',\n",
       " 'desear',\n",
       " 'pedir',\n",
       " 'ojala',\n",
       " 'suplicar',\n",
       " 'solicitar',\n",
       " 'mandar',\n",
       " 'ordenar',\n",
       " 'insistir',\n",
       " 'sugerir',\n",
       " 'preocupar',\n",
       " 'alegrar']"
      ]
     },
     "execution_count": 8,
     "metadata": {},
     "output_type": "execute_result"
    }
   ],
   "source": [
    "es_verbs"
   ]
  },
  {
   "cell_type": "code",
   "execution_count": 15,
   "id": "f18b0567",
   "metadata": {},
   "outputs": [],
   "source": [
    "es_conn = tc.TwitterConnection(\n",
    "    is_archive=True,\n",
    "    cred_prefix='PROF')\n",
    "\n",
    "# pt_conn = tc.TwitterConnection(\n",
    "#     is_archive=True,\n",
    "#     cred_prefix='PROF') "
   ]
  },
  {
   "cell_type": "code",
   "execution_count": 16,
   "id": "bdbb6cd3",
   "metadata": {},
   "outputs": [],
   "source": [
    "es_conn.set_query(conditions=es_query_cond)\n",
    "es_conn.set_fields(tweet=fields_tweet, \n",
    "                      expansions=fields_expan, \n",
    "                      user=fields_user,\n",
    "                      place=fields_place)\n",
    "\n",
    "# pt_conn.set_query(conditions=pt_query_cond)\n",
    "# pt_conn.set_fields(tweet=fields_tweet, \n",
    "#                       expansions=fields_expan, \n",
    "#                       user=fields_user,\n",
    "#                       place=fields_place)"
   ]
  },
  {
   "cell_type": "code",
   "execution_count": 17,
   "id": "6cc361de",
   "metadata": {},
   "outputs": [],
   "source": [
    "time = dt.now().strftime('%d%m%Y-at-%H%M')"
   ]
  },
  {
   "cell_type": "code",
   "execution_count": 48,
   "id": "d1ea953b",
   "metadata": {},
   "outputs": [],
   "source": [
    "topics = ['$AAPL']"
   ]
  },
  {
   "cell_type": "code",
   "execution_count": 49,
   "id": "96265291",
   "metadata": {},
   "outputs": [],
   "source": [
    "finished = []"
   ]
  },
  {
   "cell_type": "code",
   "execution_count": 50,
   "id": "4094d0a6",
   "metadata": {
    "scrolled": true
   },
   "outputs": [
    {
     "name": "stdout",
     "output_type": "stream",
     "text": [
      "Retrieving topic: $AAPL\n",
      "No next token! ('next_token',)\n",
      "https://api.twitter.com/2/tweets/search/all?query=$AAPL lang:es has:geo -is:retweet -has:links &max_results=100&tweet.fields=lang,geo,created_at,public_metrics,referenced_tweets&expansions=author_id,geo.place_id,entities.mentions.username&user.fields=created_at,location,public_metrics&place.fields=country\n",
      "2\n",
      "test/es/13072021-at-1304/es-$AAPL-original-tweets-2-0.csv\n",
      "2\n",
      "test/es/13072021-at-1304/es-$AAPL-original-users-2-0.csv\n",
      "2\n",
      "test/es/13072021-at-1304/es-$AAPL-original-places-2-0.csv\n"
     ]
    }
   ],
   "source": [
    "for topic in topics:\n",
    "    if topic in finished:\n",
    "        continue\n",
    "    \n",
    "    print(f'Retrieving topic: {topic}')\n",
    "    \n",
    "    response = tr.Response(lang='es', topic=topic)\n",
    "    \n",
    "    while True:\n",
    "        es_conn.connect(topic, is_next=True, time_interval=1)\n",
    "        \n",
    "        if len(response.schema)==0:\n",
    "            print(es_conn.url)\n",
    "        \n",
    "        new = tr.Response(lang='es', \n",
    "                          topic=topic, \n",
    "                          response=es_conn.response)      \n",
    "            \n",
    "        response.append(new)\n",
    "        \n",
    "        if (response.schema['data'].data.shape[0] >= 200) and es_conn.has_next:\n",
    "            response.save_csv(time=time, pulls=es_conn.pulls, is_test=True)\n",
    "            es_conn.pulls+=1\n",
    "            \n",
    "            response = tr.Response(lang='es', topic=topic)\n",
    "            \n",
    "        if not es_conn.has_next:\n",
    "            break\n",
    "        \n",
    "        break\n",
    "    \n",
    "    response.save_csv(time=time, pulls=es_conn.pulls, is_test=True)\n",
    "    es_conn.pulls = 0\n",
    "    \n",
    "    finished.append(topic)"
   ]
  },
  {
   "cell_type": "markdown",
   "id": "bd2c8356",
   "metadata": {},
   "source": [
    "### Lemmatization and partitioning"
   ]
  },
  {
   "cell_type": "code",
   "execution_count": 24,
   "id": "048b27a6",
   "metadata": {
    "scrolled": true
   },
   "outputs": [
    {
     "name": "stdout",
     "output_type": "stream",
     "text": [
      "extraction-test.ipynb  \u001b[0m\u001b[01;34mtest\u001b[0m/                     verb-stem-clean.txt\r\n",
      "\u001b[01;34msaved\u001b[0m/                 twitter-extracting.ipynb  verb-stem-raw.txt\r\n"
     ]
    }
   ],
   "source": [
    "%ls"
   ]
  },
  {
   "cell_type": "code",
   "execution_count": 25,
   "id": "db36be4f",
   "metadata": {},
   "outputs": [],
   "source": [
    "import os\n",
    "prefix = '/home/rimov/Documents/Code/NLP/lin-que-dropping/extraction/test/es/13072021-at-1304/'"
   ]
  },
  {
   "cell_type": "code",
   "execution_count": 35,
   "id": "3594ee11",
   "metadata": {},
   "outputs": [],
   "source": [
    "path_tweets_orig = (f for f in os.listdir(prefix) if 'original-tweets' in f)\n",
    "path_tweets_norm = [f for f in os.listdir(prefix) if 'normalized-tweets' in f]\n",
    "path_users = (f for f in os.listdir(prefix) if 'users' in f)\n",
    "path_places = (f for f in os.listdir(prefix) if 'places' in f)"
   ]
  },
  {
   "cell_type": "code",
   "execution_count": 36,
   "id": "71708902",
   "metadata": {
    "scrolled": true
   },
   "outputs": [
    {
     "name": "stdout",
     "output_type": "stream",
     "text": [
      "es-PLACE_COUNTRY:MX-original-tweets-100-0.csv\n"
     ]
    }
   ],
   "source": [
    "text = None\n",
    "\n",
    "for i, path in enumerate(path_tweets_orig):\n",
    "    print(path)\n",
    "    topic = re.search(r'es-([\"\\w\\s_:]+)-', path).group(1)\n",
    "    \n",
    "    normalized = ''\n",
    "    for n in path_tweets_norm:\n",
    "        if topic in n:\n",
    "            normalized = n\n",
    "    \n",
    "    if i==0:\n",
    "        text = tweets.Tweets.from_csv(\n",
    "            prefix, '~', path, normalized)\n",
    "        continue\n",
    "    \n",
    "    text.append(\n",
    "        tweets.Tweets.from_csv(\n",
    "            prefix, '~', path, normalized))"
   ]
  },
  {
   "cell_type": "code",
   "execution_count": 39,
   "id": "c26522d9",
   "metadata": {},
   "outputs": [
    {
     "name": "stdout",
     "output_type": "stream",
     "text": [
      "es-PLACE_COUNTRY:MX-original-places-42-0.csv\n"
     ]
    }
   ],
   "source": [
    "places = None\n",
    "\n",
    "for i, path in enumerate(path_places):\n",
    "    print(path)\n",
    "    topic = re.search(r'es-([\"\\w\\s_:]+)-', path).group(1)\n",
    "    \n",
    "    places = pd.read_csv(prefix+path, sep='~')"
   ]
  },
  {
   "cell_type": "code",
   "execution_count": 40,
   "id": "ed2e6fdd",
   "metadata": {},
   "outputs": [
    {
     "data": {
      "text/html": [
       "<div>\n",
       "<style scoped>\n",
       "    .dataframe tbody tr th:only-of-type {\n",
       "        vertical-align: middle;\n",
       "    }\n",
       "\n",
       "    .dataframe tbody tr th {\n",
       "        vertical-align: top;\n",
       "    }\n",
       "\n",
       "    .dataframe thead th {\n",
       "        text-align: right;\n",
       "    }\n",
       "</style>\n",
       "<table border=\"1\" class=\"dataframe\">\n",
       "  <thead>\n",
       "    <tr style=\"text-align: right;\">\n",
       "      <th></th>\n",
       "      <th>tweet_id</th>\n",
       "      <th>created_at</th>\n",
       "      <th>author_id</th>\n",
       "      <th>lang</th>\n",
       "      <th>text_orig</th>\n",
       "      <th>referenced_tweets</th>\n",
       "      <th>place_id</th>\n",
       "      <th>public_metrics.retweet_count</th>\n",
       "      <th>public_metrics.reply_count</th>\n",
       "      <th>public_metrics.like_count</th>\n",
       "      <th>public_metrics.quote_count</th>\n",
       "      <th>mentions</th>\n",
       "    </tr>\n",
       "  </thead>\n",
       "  <tbody>\n",
       "    <tr>\n",
       "      <th>0</th>\n",
       "      <td>1414896866186125315</td>\n",
       "      <td>2021-07-13T10:37:55.000Z</td>\n",
       "      <td>1027409451890880512</td>\n",
       "      <td>es</td>\n",
       "      <td>@kikemireles Buenos Días Kike 🙋🏽‍♀️ 🙌 ☕</td>\n",
       "      <td>[{'type': 'replied_to', 'id': '141489595665557...</td>\n",
       "      <td>63b42cf9e0b05dad</td>\n",
       "      <td>0</td>\n",
       "      <td>0</td>\n",
       "      <td>1</td>\n",
       "      <td>0</td>\n",
       "      <td>[{'start': 0, 'end': 12, 'username': 'kikemire...</td>\n",
       "    </tr>\n",
       "    <tr>\n",
       "      <th>1</th>\n",
       "      <td>1414896717523193860</td>\n",
       "      <td>2021-07-13T10:37:19.000Z</td>\n",
       "      <td>1267332859595042816</td>\n",
       "      <td>es</td>\n",
       "      <td>@bytelord_mex @Zoroastro_2021 Si, tienes toda ...</td>\n",
       "      <td>[{'type': 'replied_to', 'id': '141462842938379...</td>\n",
       "      <td>e2be9fc867f73d8a</td>\n",
       "      <td>0</td>\n",
       "      <td>0</td>\n",
       "      <td>0</td>\n",
       "      <td>0</td>\n",
       "      <td>[{'start': 0, 'end': 13, 'username': 'bytelord...</td>\n",
       "    </tr>\n",
       "    <tr>\n",
       "      <th>2</th>\n",
       "      <td>1414896672870633479</td>\n",
       "      <td>2021-07-13T10:37:08.000Z</td>\n",
       "      <td>69162894</td>\n",
       "      <td>es</td>\n",
       "      <td>@ChefOmarSaG B. Seguro dejaste la ropa afuera ...</td>\n",
       "      <td>[{'type': 'replied_to', 'id': '141474902225494...</td>\n",
       "      <td>7bc29846eabda1f2</td>\n",
       "      <td>0</td>\n",
       "      <td>0</td>\n",
       "      <td>1</td>\n",
       "      <td>0</td>\n",
       "      <td>[{'start': 0, 'end': 12, 'username': 'ChefOmar...</td>\n",
       "    </tr>\n",
       "  </tbody>\n",
       "</table>\n",
       "</div>"
      ],
      "text/plain": [
       "              tweet_id                created_at            author_id lang  \\\n",
       "0  1414896866186125315  2021-07-13T10:37:55.000Z  1027409451890880512   es   \n",
       "1  1414896717523193860  2021-07-13T10:37:19.000Z  1267332859595042816   es   \n",
       "2  1414896672870633479  2021-07-13T10:37:08.000Z             69162894   es   \n",
       "\n",
       "                                           text_orig  \\\n",
       "0            @kikemireles Buenos Días Kike 🙋🏽‍♀️ 🙌 ☕   \n",
       "1  @bytelord_mex @Zoroastro_2021 Si, tienes toda ...   \n",
       "2  @ChefOmarSaG B. Seguro dejaste la ropa afuera ...   \n",
       "\n",
       "                                   referenced_tweets          place_id  \\\n",
       "0  [{'type': 'replied_to', 'id': '141489595665557...  63b42cf9e0b05dad   \n",
       "1  [{'type': 'replied_to', 'id': '141462842938379...  e2be9fc867f73d8a   \n",
       "2  [{'type': 'replied_to', 'id': '141474902225494...  7bc29846eabda1f2   \n",
       "\n",
       "   public_metrics.retweet_count  public_metrics.reply_count  \\\n",
       "0                             0                           0   \n",
       "1                             0                           0   \n",
       "2                             0                           0   \n",
       "\n",
       "   public_metrics.like_count  public_metrics.quote_count  \\\n",
       "0                          1                           0   \n",
       "1                          0                           0   \n",
       "2                          1                           0   \n",
       "\n",
       "                                            mentions  \n",
       "0  [{'start': 0, 'end': 12, 'username': 'kikemire...  \n",
       "1  [{'start': 0, 'end': 13, 'username': 'bytelord...  \n",
       "2  [{'start': 0, 'end': 12, 'username': 'ChefOmar...  "
      ]
     },
     "metadata": {},
     "output_type": "display_data"
    },
    {
     "data": {
      "text/html": [
       "<div>\n",
       "<style scoped>\n",
       "    .dataframe tbody tr th:only-of-type {\n",
       "        vertical-align: middle;\n",
       "    }\n",
       "\n",
       "    .dataframe tbody tr th {\n",
       "        vertical-align: top;\n",
       "    }\n",
       "\n",
       "    .dataframe thead th {\n",
       "        text-align: right;\n",
       "    }\n",
       "</style>\n",
       "<table border=\"1\" class=\"dataframe\">\n",
       "  <thead>\n",
       "    <tr style=\"text-align: right;\">\n",
       "      <th></th>\n",
       "      <th>country</th>\n",
       "      <th>location</th>\n",
       "      <th>place_id</th>\n",
       "    </tr>\n",
       "  </thead>\n",
       "  <tbody>\n",
       "    <tr>\n",
       "      <th>0</th>\n",
       "      <td>Mexico</td>\n",
       "      <td>Boca del Río, Veracruz de Ignacio de la Llave</td>\n",
       "      <td>63b42cf9e0b05dad</td>\n",
       "    </tr>\n",
       "    <tr>\n",
       "      <th>1</th>\n",
       "      <td>Mexico</td>\n",
       "      <td>Villa de Tamazulápam del Progreso, Oaxaca</td>\n",
       "      <td>e2be9fc867f73d8a</td>\n",
       "    </tr>\n",
       "    <tr>\n",
       "      <th>2</th>\n",
       "      <td>Mexico</td>\n",
       "      <td>Metepec, México</td>\n",
       "      <td>7bc29846eabda1f2</td>\n",
       "    </tr>\n",
       "  </tbody>\n",
       "</table>\n",
       "</div>"
      ],
      "text/plain": [
       "  country                                       location          place_id\n",
       "0  Mexico  Boca del Río, Veracruz de Ignacio de la Llave  63b42cf9e0b05dad\n",
       "1  Mexico      Villa de Tamazulápam del Progreso, Oaxaca  e2be9fc867f73d8a\n",
       "2  Mexico                                Metepec, México  7bc29846eabda1f2"
      ]
     },
     "metadata": {},
     "output_type": "display_data"
    }
   ],
   "source": [
    "display(text.data.head(3))\n",
    "display(places.head(3))"
   ]
  },
  {
   "cell_type": "code",
   "execution_count": 41,
   "id": "d155f8ee",
   "metadata": {},
   "outputs": [
    {
     "data": {
      "text/plain": [
       "array(['Mexico'], dtype=object)"
      ]
     },
     "execution_count": 41,
     "metadata": {},
     "output_type": "execute_result"
    }
   ],
   "source": [
    "places['country'].unique()"
   ]
  },
  {
   "cell_type": "code",
   "execution_count": 60,
   "id": "44220e38",
   "metadata": {},
   "outputs": [],
   "source": [
    "processed = text.normalized.loc[:, 'text_normd'].apply(nlp_es)"
   ]
  },
  {
   "cell_type": "code",
   "execution_count": 61,
   "id": "470afd7f",
   "metadata": {},
   "outputs": [
    {
     "data": {
      "text/plain": [
       "5160"
      ]
     },
     "execution_count": 61,
     "metadata": {},
     "output_type": "execute_result"
    }
   ],
   "source": [
    "processed.shape[0]"
   ]
  },
  {
   "cell_type": "code",
   "execution_count": 83,
   "id": "2a42121a",
   "metadata": {
    "scrolled": true
   },
   "outputs": [
    {
     "data": {
      "text/plain": [
       "{'acordar',\n",
       " 'adivinar',\n",
       " 'admitir',\n",
       " 'afirmar',\n",
       " 'alegrar',\n",
       " 'apostar',\n",
       " 'asegurar',\n",
       " 'comprobar',\n",
       " 'confesar',\n",
       " 'confirmar',\n",
       " 'conseguir',\n",
       " 'considerar',\n",
       " 'contar',\n",
       " 'creer',\n",
       " 'dar(se) cuenta',\n",
       " 'decir',\n",
       " 'demostrar',\n",
       " 'desear',\n",
       " 'dudar',\n",
       " 'entender',\n",
       " 'esperar',\n",
       " 'gritar',\n",
       " 'imaginar',\n",
       " 'insistir',\n",
       " 'jurar',\n",
       " 'lamentar',\n",
       " 'lograr',\n",
       " 'mandar',\n",
       " 'mencionar',\n",
       " 'mostrar',\n",
       " 'negar',\n",
       " 'ojala',\n",
       " 'ordenar',\n",
       " 'parecer',\n",
       " 'pedir',\n",
       " 'pensar',\n",
       " 'predecir',\n",
       " 'preocupar',\n",
       " 'prever',\n",
       " 'prometer',\n",
       " 'querer',\n",
       " 'reclamar',\n",
       " 'recomendar',\n",
       " 'recordar',\n",
       " 'responder',\n",
       " 'rogar',\n",
       " 'saber',\n",
       " 'sentir',\n",
       " 'solicitar',\n",
       " 'sugerir',\n",
       " 'suplicar',\n",
       " 'suponer',\n",
       " 'suspirar',\n",
       " 'temer',\n",
       " 'ver'}"
      ]
     },
     "execution_count": 83,
     "metadata": {},
     "output_type": "execute_result"
    }
   ],
   "source": [
    "es_verbs = set(es_verbs)\n",
    "es_verbs_volit = set(es_verbs_volit)"
   ]
  },
  {
   "cell_type": "code",
   "execution_count": 54,
   "id": "26607ce0",
   "metadata": {},
   "outputs": [],
   "source": [
    "def get_verbs(tokenized):\n",
    "    return [p.lemma_ for p in tokenized if (p.pos_ == 'VERB')]"
   ]
  },
  {
   "cell_type": "code",
   "execution_count": 55,
   "id": "a687c5cb",
   "metadata": {},
   "outputs": [],
   "source": [
    "def get_pos_tags(tokenized):\n",
    "    return ' '.join([f'{t.text}-({t.pos_})' for t in tokenized if ((t.pos_!='PUNCT') and (t.pos_!='SPACE'))])"
   ]
  },
  {
   "cell_type": "code",
   "execution_count": 84,
   "id": "ac6f4398",
   "metadata": {},
   "outputs": [],
   "source": [
    "def count_verbs(verbs):\n",
    "    count = 0\n",
    "    \n",
    "    for v in verbs:\n",
    "        if v[1] in es_verbs:\n",
    "            count+=1\n",
    "            \n",
    "    return count"
   ]
  },
  {
   "cell_type": "code",
   "execution_count": 85,
   "id": "49f53451",
   "metadata": {},
   "outputs": [],
   "source": [
    "verbs = processed.apply(get_verbs).rename('verbs') \n",
    "pos = processed.apply(get_pos_tags).rename('pos')\n",
    "verbs_volit = verbs.apply(count_verbs).rename('volitional') "
   ]
  },
  {
   "cell_type": "code",
   "execution_count": 86,
   "id": "581c4854",
   "metadata": {},
   "outputs": [],
   "source": [
    "out = pd.concat([text.normalized, pos, verbs, verbs_volit], axis=1)"
   ]
  },
  {
   "cell_type": "code",
   "execution_count": 89,
   "id": "472f0eb8",
   "metadata": {},
   "outputs": [
    {
     "data": {
      "text/plain": [
       "1502"
      ]
     },
     "execution_count": 89,
     "metadata": {},
     "output_type": "execute_result"
    }
   ],
   "source": [
    "(out.loc[:, 'volitional']>0).sum()"
   ]
  },
  {
   "cell_type": "code",
   "execution_count": null,
   "id": "1281452c",
   "metadata": {},
   "outputs": [],
   "source": []
  }
 ],
 "metadata": {
  "kernelspec": {
   "display_name": "nlp",
   "language": "python",
   "name": "nlp"
  },
  "language_info": {
   "codemirror_mode": {
    "name": "ipython",
    "version": 3
   },
   "file_extension": ".py",
   "mimetype": "text/x-python",
   "name": "python",
   "nbconvert_exporter": "python",
   "pygments_lexer": "ipython3",
   "version": "3.8.10"
  }
 },
 "nbformat": 4,
 "nbformat_minor": 5
}
